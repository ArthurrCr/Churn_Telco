{
 "cells": [
  {
   "cell_type": "code",
   "execution_count": 1,
   "metadata": {},
   "outputs": [],
   "source": [
    "import pandas as pd\n",
    "import matplotlib.pyplot as plt\n",
    "import seaborn as sns\n",
    "import xgboost as xgb\n",
    "from sklearn.model_selection import train_test_split\n",
    "from sklearn.metrics import accuracy_score, classification_report\n",
    "from tensorflow.keras.models import Sequential\n",
    "from tensorflow.keras.layers import Dense, Dropout\n",
    "from tensorflow.keras.losses import BinaryCrossentropy\n",
    "from tensorflow.keras.regularizers import l2\n",
    "from tensorflow.keras.callbacks import EarlyStopping, ModelCheckpoint"
   ]
  },
  {
   "cell_type": "code",
   "execution_count": 2,
   "metadata": {},
   "outputs": [],
   "source": [
    "# Carregamento dos dados\n",
    "dataset = pd.read_csv('../data/WA_Fn-UseC_-Telco-Customer-Churn.csv')"
   ]
  },
  {
   "cell_type": "code",
   "execution_count": 3,
   "metadata": {},
   "outputs": [],
   "source": [
    "# Convertendo as variáveis categóricas em variáveis dummy menos customerID\n",
    "dataset_dummies = pd.get_dummies(dataset.drop('customerID', axis=1))\n",
    "\n",
    "# Dividindo os dados em características e target\n",
    "X = dataset_dummies.drop(['Churn_Yes', 'Churn_No'], axis=1)  # Características\n",
    "y = dataset_dummies['Churn_Yes']  # Churn_Yes ja tem 0 e 1\n",
    "\n",
    "# Dividindo os dados em conjuntos de treinamento e teste\n",
    "X_train, X_test, y_train, y_test = train_test_split(X, y, test_size=0.2, random_state=42)"
   ]
  },
  {
   "cell_type": "markdown",
   "metadata": {},
   "source": [
    "# XGBoost"
   ]
  },
  {
   "cell_type": "code",
   "execution_count": 4,
   "metadata": {},
   "outputs": [],
   "source": [
    "# Configuração do modelo XGBoost\n",
    "xg_model = xgb.XGBClassifier(\n",
    "    n_estimators=100,\n",
    "    learning_rate=0.1,\n",
    "    max_depth=5,\n",
    "    subsample=0.5,\n",
    "    colsample_bytree=0.5,\n",
    "    objective='binary:logistic',\n",
    "    random_state=42\n",
    ")"
   ]
  },
  {
   "cell_type": "code",
   "execution_count": 5,
   "metadata": {},
   "outputs": [
    {
     "data": {
      "text/html": [
       "<style>#sk-container-id-1 {color: black;background-color: white;}#sk-container-id-1 pre{padding: 0;}#sk-container-id-1 div.sk-toggleable {background-color: white;}#sk-container-id-1 label.sk-toggleable__label {cursor: pointer;display: block;width: 100%;margin-bottom: 0;padding: 0.3em;box-sizing: border-box;text-align: center;}#sk-container-id-1 label.sk-toggleable__label-arrow:before {content: \"▸\";float: left;margin-right: 0.25em;color: #696969;}#sk-container-id-1 label.sk-toggleable__label-arrow:hover:before {color: black;}#sk-container-id-1 div.sk-estimator:hover label.sk-toggleable__label-arrow:before {color: black;}#sk-container-id-1 div.sk-toggleable__content {max-height: 0;max-width: 0;overflow: hidden;text-align: left;background-color: #f0f8ff;}#sk-container-id-1 div.sk-toggleable__content pre {margin: 0.2em;color: black;border-radius: 0.25em;background-color: #f0f8ff;}#sk-container-id-1 input.sk-toggleable__control:checked~div.sk-toggleable__content {max-height: 200px;max-width: 100%;overflow: auto;}#sk-container-id-1 input.sk-toggleable__control:checked~label.sk-toggleable__label-arrow:before {content: \"▾\";}#sk-container-id-1 div.sk-estimator input.sk-toggleable__control:checked~label.sk-toggleable__label {background-color: #d4ebff;}#sk-container-id-1 div.sk-label input.sk-toggleable__control:checked~label.sk-toggleable__label {background-color: #d4ebff;}#sk-container-id-1 input.sk-hidden--visually {border: 0;clip: rect(1px 1px 1px 1px);clip: rect(1px, 1px, 1px, 1px);height: 1px;margin: -1px;overflow: hidden;padding: 0;position: absolute;width: 1px;}#sk-container-id-1 div.sk-estimator {font-family: monospace;background-color: #f0f8ff;border: 1px dotted black;border-radius: 0.25em;box-sizing: border-box;margin-bottom: 0.5em;}#sk-container-id-1 div.sk-estimator:hover {background-color: #d4ebff;}#sk-container-id-1 div.sk-parallel-item::after {content: \"\";width: 100%;border-bottom: 1px solid gray;flex-grow: 1;}#sk-container-id-1 div.sk-label:hover label.sk-toggleable__label {background-color: #d4ebff;}#sk-container-id-1 div.sk-serial::before {content: \"\";position: absolute;border-left: 1px solid gray;box-sizing: border-box;top: 0;bottom: 0;left: 50%;z-index: 0;}#sk-container-id-1 div.sk-serial {display: flex;flex-direction: column;align-items: center;background-color: white;padding-right: 0.2em;padding-left: 0.2em;position: relative;}#sk-container-id-1 div.sk-item {position: relative;z-index: 1;}#sk-container-id-1 div.sk-parallel {display: flex;align-items: stretch;justify-content: center;background-color: white;position: relative;}#sk-container-id-1 div.sk-item::before, #sk-container-id-1 div.sk-parallel-item::before {content: \"\";position: absolute;border-left: 1px solid gray;box-sizing: border-box;top: 0;bottom: 0;left: 50%;z-index: -1;}#sk-container-id-1 div.sk-parallel-item {display: flex;flex-direction: column;z-index: 1;position: relative;background-color: white;}#sk-container-id-1 div.sk-parallel-item:first-child::after {align-self: flex-end;width: 50%;}#sk-container-id-1 div.sk-parallel-item:last-child::after {align-self: flex-start;width: 50%;}#sk-container-id-1 div.sk-parallel-item:only-child::after {width: 0;}#sk-container-id-1 div.sk-dashed-wrapped {border: 1px dashed gray;margin: 0 0.4em 0.5em 0.4em;box-sizing: border-box;padding-bottom: 0.4em;background-color: white;}#sk-container-id-1 div.sk-label label {font-family: monospace;font-weight: bold;display: inline-block;line-height: 1.2em;}#sk-container-id-1 div.sk-label-container {text-align: center;}#sk-container-id-1 div.sk-container {/* jupyter's `normalize.less` sets `[hidden] { display: none; }` but bootstrap.min.css set `[hidden] { display: none !important; }` so we also need the `!important` here to be able to override the default hidden behavior on the sphinx rendered scikit-learn.org. See: https://github.com/scikit-learn/scikit-learn/issues/21755 */display: inline-block !important;position: relative;}#sk-container-id-1 div.sk-text-repr-fallback {display: none;}</style><div id=\"sk-container-id-1\" class=\"sk-top-container\"><div class=\"sk-text-repr-fallback\"><pre>XGBClassifier(base_score=None, booster=None, callbacks=None,\n",
       "              colsample_bylevel=None, colsample_bynode=None,\n",
       "              colsample_bytree=0.5, device=None, early_stopping_rounds=None,\n",
       "              enable_categorical=False, eval_metric=None, feature_types=None,\n",
       "              gamma=None, grow_policy=None, importance_type=None,\n",
       "              interaction_constraints=None, learning_rate=0.1, max_bin=None,\n",
       "              max_cat_threshold=None, max_cat_to_onehot=None,\n",
       "              max_delta_step=None, max_depth=5, max_leaves=None,\n",
       "              min_child_weight=None, missing=nan, monotone_constraints=None,\n",
       "              multi_strategy=None, n_estimators=100, n_jobs=None,\n",
       "              num_parallel_tree=None, random_state=42, ...)</pre><b>In a Jupyter environment, please rerun this cell to show the HTML representation or trust the notebook. <br />On GitHub, the HTML representation is unable to render, please try loading this page with nbviewer.org.</b></div><div class=\"sk-container\" hidden><div class=\"sk-item\"><div class=\"sk-estimator sk-toggleable\"><input class=\"sk-toggleable__control sk-hidden--visually\" id=\"sk-estimator-id-1\" type=\"checkbox\" checked><label for=\"sk-estimator-id-1\" class=\"sk-toggleable__label sk-toggleable__label-arrow\">XGBClassifier</label><div class=\"sk-toggleable__content\"><pre>XGBClassifier(base_score=None, booster=None, callbacks=None,\n",
       "              colsample_bylevel=None, colsample_bynode=None,\n",
       "              colsample_bytree=0.5, device=None, early_stopping_rounds=None,\n",
       "              enable_categorical=False, eval_metric=None, feature_types=None,\n",
       "              gamma=None, grow_policy=None, importance_type=None,\n",
       "              interaction_constraints=None, learning_rate=0.1, max_bin=None,\n",
       "              max_cat_threshold=None, max_cat_to_onehot=None,\n",
       "              max_delta_step=None, max_depth=5, max_leaves=None,\n",
       "              min_child_weight=None, missing=nan, monotone_constraints=None,\n",
       "              multi_strategy=None, n_estimators=100, n_jobs=None,\n",
       "              num_parallel_tree=None, random_state=42, ...)</pre></div></div></div></div></div>"
      ],
      "text/plain": [
       "XGBClassifier(base_score=None, booster=None, callbacks=None,\n",
       "              colsample_bylevel=None, colsample_bynode=None,\n",
       "              colsample_bytree=0.5, device=None, early_stopping_rounds=None,\n",
       "              enable_categorical=False, eval_metric=None, feature_types=None,\n",
       "              gamma=None, grow_policy=None, importance_type=None,\n",
       "              interaction_constraints=None, learning_rate=0.1, max_bin=None,\n",
       "              max_cat_threshold=None, max_cat_to_onehot=None,\n",
       "              max_delta_step=None, max_depth=5, max_leaves=None,\n",
       "              min_child_weight=None, missing=nan, monotone_constraints=None,\n",
       "              multi_strategy=None, n_estimators=100, n_jobs=None,\n",
       "              num_parallel_tree=None, random_state=42, ...)"
      ]
     },
     "execution_count": 5,
     "metadata": {},
     "output_type": "execute_result"
    }
   ],
   "source": [
    "xg_model.fit(X_train, y_train)"
   ]
  },
  {
   "cell_type": "code",
   "execution_count": 6,
   "metadata": {},
   "outputs": [
    {
     "name": "stdout",
     "output_type": "stream",
     "text": [
      "Accuracy: 0.8041163946061036\n",
      "              precision    recall  f1-score   support\n",
      "\n",
      "       False       0.85      0.90      0.87      1036\n",
      "        True       0.66      0.54      0.60       373\n",
      "\n",
      "    accuracy                           0.80      1409\n",
      "   macro avg       0.75      0.72      0.73      1409\n",
      "weighted avg       0.80      0.80      0.80      1409\n",
      "\n"
     ]
    }
   ],
   "source": [
    "predictions = xg_model.predict(X_test)\n",
    "print(\"Accuracy:\", accuracy_score(y_test, predictions))\n",
    "print(classification_report(y_test, predictions))"
   ]
  },
  {
   "cell_type": "markdown",
   "metadata": {},
   "source": [
    "# Rede neural"
   ]
  },
  {
   "cell_type": "code",
   "execution_count": 7,
   "metadata": {},
   "outputs": [
    {
     "name": "stdout",
     "output_type": "stream",
     "text": [
      "Model: \"sequential\"\n",
      "_________________________________________________________________\n",
      " Layer (type)                Output Shape              Param #   \n",
      "=================================================================\n",
      " dense (Dense)               (None, 128)               841728    \n",
      "                                                                 \n",
      " dropout (Dropout)           (None, 128)               0         \n",
      "                                                                 \n",
      " dense_1 (Dense)             (None, 64)                8256      \n",
      "                                                                 \n",
      " dropout_1 (Dropout)         (None, 64)                0         \n",
      "                                                                 \n",
      " dense_2 (Dense)             (None, 32)                2080      \n",
      "                                                                 \n",
      " dropout_2 (Dropout)         (None, 32)                0         \n",
      "                                                                 \n",
      " dense_3 (Dense)             (None, 1)                 33        \n",
      "                                                                 \n",
      "=================================================================\n",
      "Total params: 852,097\n",
      "Trainable params: 852,097\n",
      "Non-trainable params: 0\n",
      "_________________________________________________________________\n"
     ]
    }
   ],
   "source": [
    "# Define the model\n",
    "nn_model = Sequential([\n",
    "    Dense(128, activation='relu', input_shape=(X_train.shape[1],), kernel_regularizer=l2(0.01)), \n",
    "    Dropout(0.3), \n",
    "    Dense(64, activation='relu', kernel_regularizer=l2(0.01)),\n",
    "    Dropout(0.3), \n",
    "    Dense(32, activation='relu', kernel_regularizer=l2(0.01)),\n",
    "    Dropout(0.3), \n",
    "    Dense(1, activation='sigmoid') \n",
    "])\n",
    "\n",
    "# Compile the model\n",
    "nn_model.compile(optimizer='adam',\n",
    "              loss= BinaryCrossentropy(from_logits=False), \n",
    "              metrics=['accuracy'])\n",
    "\n",
    "# Print the model summary\n",
    "nn_model.summary()"
   ]
  },
  {
   "cell_type": "code",
   "execution_count": 8,
   "metadata": {},
   "outputs": [
    {
     "ename": "NameError",
     "evalue": "name 'X_val' is not defined",
     "output_type": "error",
     "traceback": [
      "\u001b[1;31m---------------------------------------------------------------------------\u001b[0m",
      "\u001b[1;31mNameError\u001b[0m                                 Traceback (most recent call last)",
      "Cell \u001b[1;32mIn [8], line 4\u001b[0m\n\u001b[0;32m      2\u001b[0m X_train \u001b[38;5;241m=\u001b[39m X_train\u001b[38;5;241m.\u001b[39mastype(\u001b[38;5;124m'\u001b[39m\u001b[38;5;124mfloat32\u001b[39m\u001b[38;5;124m'\u001b[39m)\n\u001b[0;32m      3\u001b[0m y_train \u001b[38;5;241m=\u001b[39m y_train\u001b[38;5;241m.\u001b[39mastype(\u001b[38;5;124m'\u001b[39m\u001b[38;5;124mfloat32\u001b[39m\u001b[38;5;124m'\u001b[39m)\n\u001b[1;32m----> 4\u001b[0m X_val \u001b[38;5;241m=\u001b[39m \u001b[43mX_val\u001b[49m\u001b[38;5;241m.\u001b[39mastype(\u001b[38;5;124m'\u001b[39m\u001b[38;5;124mfloat32\u001b[39m\u001b[38;5;124m'\u001b[39m)\n\u001b[0;32m      5\u001b[0m y_val \u001b[38;5;241m=\u001b[39m y_val\u001b[38;5;241m.\u001b[39mastype(\u001b[38;5;124m'\u001b[39m\u001b[38;5;124mfloat32\u001b[39m\u001b[38;5;124m'\u001b[39m)\n",
      "\u001b[1;31mNameError\u001b[0m: name 'X_val' is not defined"
     ]
    }
   ],
   "source": [
    "# Convert data types\n",
    "X_train = X_train.astype('float32')\n",
    "y_train = y_train.astype('float32')"
   ]
  },
  {
   "cell_type": "code",
   "execution_count": null,
   "metadata": {},
   "outputs": [
    {
     "name": "stdout",
     "output_type": "stream",
     "text": [
      "Epoch 1/50\n",
      "159/159 [==============================] - ETA: 0s - loss: 1.4270 - accuracy: 0.7410\n",
      "Epoch 1: val_loss improved from inf to 0.85029, saving model to best_model.h5\n",
      "159/159 [==============================] - 3s 11ms/step - loss: 1.4270 - accuracy: 0.7410 - val_loss: 0.8503 - val_accuracy: 0.7908\n",
      "Epoch 2/50\n",
      "154/159 [============================>.] - ETA: 0s - loss: 0.7560 - accuracy: 0.7800\n",
      "Epoch 2: val_loss improved from 0.85029 to 0.61839, saving model to best_model.h5\n",
      "159/159 [==============================] - 1s 9ms/step - loss: 0.7538 - accuracy: 0.7793 - val_loss: 0.6184 - val_accuracy: 0.7855\n",
      "Epoch 3/50\n",
      "156/159 [============================>.] - ETA: 0s - loss: 0.6072 - accuracy: 0.7756\n",
      "Epoch 3: val_loss improved from 0.61839 to 0.55226, saving model to best_model.h5\n",
      "159/159 [==============================] - 2s 10ms/step - loss: 0.6077 - accuracy: 0.7763 - val_loss: 0.5523 - val_accuracy: 0.7943\n",
      "Epoch 4/50\n",
      "153/159 [===========================>..] - ETA: 0s - loss: 0.5468 - accuracy: 0.7829\n",
      "Epoch 4: val_loss improved from 0.55226 to 0.49082, saving model to best_model.h5\n",
      "159/159 [==============================] - 1s 9ms/step - loss: 0.5453 - accuracy: 0.7836 - val_loss: 0.4908 - val_accuracy: 0.8050\n",
      "Epoch 5/50\n",
      "157/159 [============================>.] - ETA: 0s - loss: 0.5198 - accuracy: 0.7826\n",
      "Epoch 5: val_loss improved from 0.49082 to 0.47585, saving model to best_model.h5\n",
      "159/159 [==============================] - 2s 10ms/step - loss: 0.5210 - accuracy: 0.7822 - val_loss: 0.4759 - val_accuracy: 0.7872\n",
      "Epoch 6/50\n",
      "153/159 [===========================>..] - ETA: 0s - loss: 0.5061 - accuracy: 0.7823\n",
      "Epoch 6: val_loss improved from 0.47585 to 0.45999, saving model to best_model.h5\n",
      "159/159 [==============================] - 2s 10ms/step - loss: 0.5049 - accuracy: 0.7821 - val_loss: 0.4600 - val_accuracy: 0.7979\n",
      "Epoch 7/50\n",
      "155/159 [============================>.] - ETA: 0s - loss: 0.4909 - accuracy: 0.7879\n",
      "Epoch 7: val_loss improved from 0.45999 to 0.45905, saving model to best_model.h5\n",
      "159/159 [==============================] - 2s 10ms/step - loss: 0.4922 - accuracy: 0.7872 - val_loss: 0.4591 - val_accuracy: 0.8014\n",
      "Epoch 8/50\n",
      "158/159 [============================>.] - ETA: 0s - loss: 0.4856 - accuracy: 0.7868\n",
      "Epoch 8: val_loss improved from 0.45905 to 0.45819, saving model to best_model.h5\n",
      "159/159 [==============================] - 2s 12ms/step - loss: 0.4858 - accuracy: 0.7864 - val_loss: 0.4582 - val_accuracy: 0.8014\n",
      "Epoch 9/50\n",
      "156/159 [============================>.] - ETA: 0s - loss: 0.4825 - accuracy: 0.7837\n",
      "Epoch 9: val_loss improved from 0.45819 to 0.45057, saving model to best_model.h5\n",
      "159/159 [==============================] - 2s 13ms/step - loss: 0.4824 - accuracy: 0.7840 - val_loss: 0.4506 - val_accuracy: 0.7890\n",
      "Epoch 10/50\n",
      "154/159 [============================>.] - ETA: 0s - loss: 0.4813 - accuracy: 0.7900\n",
      "Epoch 10: val_loss improved from 0.45057 to 0.44713, saving model to best_model.h5\n",
      "159/159 [==============================] - 2s 10ms/step - loss: 0.4820 - accuracy: 0.7899 - val_loss: 0.4471 - val_accuracy: 0.8103\n",
      "Epoch 11/50\n",
      "159/159 [==============================] - ETA: 0s - loss: 0.4763 - accuracy: 0.7893\n",
      "Epoch 11: val_loss improved from 0.44713 to 0.44545, saving model to best_model.h5\n",
      "159/159 [==============================] - 2s 12ms/step - loss: 0.4763 - accuracy: 0.7893 - val_loss: 0.4454 - val_accuracy: 0.8067\n",
      "Epoch 12/50\n",
      "154/159 [============================>.] - ETA: 0s - loss: 0.4807 - accuracy: 0.7819\n",
      "Epoch 12: val_loss did not improve from 0.44545\n",
      "159/159 [==============================] - 2s 10ms/step - loss: 0.4814 - accuracy: 0.7821 - val_loss: 0.4494 - val_accuracy: 0.7926\n",
      "Epoch 13/50\n",
      "159/159 [==============================] - ETA: 0s - loss: 0.4834 - accuracy: 0.7872\n",
      "Epoch 13: val_loss did not improve from 0.44545\n",
      "159/159 [==============================] - 2s 11ms/step - loss: 0.4834 - accuracy: 0.7872 - val_loss: 0.4463 - val_accuracy: 0.7872\n",
      "Epoch 14/50\n",
      "156/159 [============================>.] - ETA: 0s - loss: 0.4750 - accuracy: 0.7885\n",
      "Epoch 14: val_loss improved from 0.44545 to 0.44391, saving model to best_model.h5\n",
      "159/159 [==============================] - 2s 10ms/step - loss: 0.4751 - accuracy: 0.7884 - val_loss: 0.4439 - val_accuracy: 0.7961\n",
      "Epoch 15/50\n",
      "157/159 [============================>.] - ETA: 0s - loss: 0.4767 - accuracy: 0.7844\n",
      "Epoch 15: val_loss did not improve from 0.44391\n",
      "159/159 [==============================] - 1s 9ms/step - loss: 0.4761 - accuracy: 0.7850 - val_loss: 0.4615 - val_accuracy: 0.7855\n",
      "Epoch 16/50\n",
      "159/159 [==============================] - ETA: 0s - loss: 0.4754 - accuracy: 0.7913\n",
      "Epoch 16: val_loss did not improve from 0.44391\n",
      "159/159 [==============================] - 1s 9ms/step - loss: 0.4754 - accuracy: 0.7913 - val_loss: 0.4453 - val_accuracy: 0.8032\n",
      "Epoch 17/50\n",
      "155/159 [============================>.] - ETA: 0s - loss: 0.4748 - accuracy: 0.7849\n",
      "Epoch 17: val_loss improved from 0.44391 to 0.44328, saving model to best_model.h5\n",
      "159/159 [==============================] - 1s 9ms/step - loss: 0.4760 - accuracy: 0.7834 - val_loss: 0.4433 - val_accuracy: 0.8014\n",
      "Epoch 18/50\n",
      "154/159 [============================>.] - ETA: 0s - loss: 0.4776 - accuracy: 0.7786\n",
      "Epoch 18: val_loss did not improve from 0.44328\n",
      "159/159 [==============================] - 1s 9ms/step - loss: 0.4762 - accuracy: 0.7807 - val_loss: 0.4480 - val_accuracy: 0.7890\n",
      "Epoch 19/50\n",
      "154/159 [============================>.] - ETA: 0s - loss: 0.4781 - accuracy: 0.7786\n",
      "Epoch 19: val_loss did not improve from 0.44328\n",
      "159/159 [==============================] - 1s 9ms/step - loss: 0.4774 - accuracy: 0.7795 - val_loss: 0.4476 - val_accuracy: 0.7996\n",
      "Epoch 20/50\n",
      "154/159 [============================>.] - ETA: 0s - loss: 0.4728 - accuracy: 0.7894\n",
      "Epoch 20: val_loss did not improve from 0.44328\n",
      "159/159 [==============================] - 1s 9ms/step - loss: 0.4726 - accuracy: 0.7892 - val_loss: 0.4557 - val_accuracy: 0.7926\n",
      "Epoch 21/50\n",
      "158/159 [============================>.] - ETA: 0s - loss: 0.4706 - accuracy: 0.7892\n",
      "Epoch 21: val_loss did not improve from 0.44328\n",
      "159/159 [==============================] - 1s 9ms/step - loss: 0.4721 - accuracy: 0.7886 - val_loss: 0.4456 - val_accuracy: 0.7926\n",
      "Epoch 22/50\n",
      "158/159 [============================>.] - ETA: 0s - loss: 0.4748 - accuracy: 0.7900\n",
      "Epoch 22: val_loss improved from 0.44328 to 0.43385, saving model to best_model.h5\n",
      "159/159 [==============================] - 1s 9ms/step - loss: 0.4744 - accuracy: 0.7903 - val_loss: 0.4339 - val_accuracy: 0.8121\n",
      "Epoch 23/50\n",
      "158/159 [============================>.] - ETA: 0s - loss: 0.4746 - accuracy: 0.7919\n",
      "Epoch 23: val_loss did not improve from 0.43385\n",
      "159/159 [==============================] - 1s 9ms/step - loss: 0.4748 - accuracy: 0.7915 - val_loss: 0.4349 - val_accuracy: 0.8067\n",
      "Epoch 24/50\n",
      "156/159 [============================>.] - ETA: 0s - loss: 0.4713 - accuracy: 0.7871\n",
      "Epoch 24: val_loss did not improve from 0.43385\n",
      "159/159 [==============================] - 1s 9ms/step - loss: 0.4713 - accuracy: 0.7874 - val_loss: 0.4522 - val_accuracy: 0.8014\n",
      "Epoch 25/50\n",
      "157/159 [============================>.] - ETA: 0s - loss: 0.4728 - accuracy: 0.7874\n",
      "Epoch 25: val_loss did not improve from 0.43385\n",
      "159/159 [==============================] - 1s 9ms/step - loss: 0.4730 - accuracy: 0.7874 - val_loss: 0.4415 - val_accuracy: 0.8050\n",
      "Epoch 26/50\n",
      "155/159 [============================>.] - ETA: 0s - loss: 0.4731 - accuracy: 0.7919\n",
      "Epoch 26: val_loss did not improve from 0.43385\n",
      "159/159 [==============================] - 1s 9ms/step - loss: 0.4729 - accuracy: 0.7921 - val_loss: 0.4406 - val_accuracy: 0.7979\n",
      "Epoch 27/50\n",
      "158/159 [============================>.] - ETA: 0s - loss: 0.4741 - accuracy: 0.7832\n",
      "Epoch 27: val_loss did not improve from 0.43385\n",
      "159/159 [==============================] - 1s 9ms/step - loss: 0.4740 - accuracy: 0.7830 - val_loss: 0.4362 - val_accuracy: 0.7996\n",
      "Epoch 28/50\n",
      "154/159 [============================>.] - ETA: 0s - loss: 0.4742 - accuracy: 0.7877\n",
      "Epoch 28: val_loss did not improve from 0.43385\n",
      "159/159 [==============================] - 2s 10ms/step - loss: 0.4739 - accuracy: 0.7868 - val_loss: 0.4423 - val_accuracy: 0.8067\n",
      "Epoch 29/50\n",
      "158/159 [============================>.] - ETA: 0s - loss: 0.4698 - accuracy: 0.7846\n",
      "Epoch 29: val_loss did not improve from 0.43385\n",
      "159/159 [==============================] - 1s 9ms/step - loss: 0.4703 - accuracy: 0.7842 - val_loss: 0.4545 - val_accuracy: 0.7872\n",
      "Epoch 30/50\n",
      "156/159 [============================>.] - ETA: 0s - loss: 0.4793 - accuracy: 0.7867\n",
      "Epoch 30: val_loss did not improve from 0.43385\n",
      "159/159 [==============================] - 1s 9ms/step - loss: 0.4764 - accuracy: 0.7888 - val_loss: 0.4714 - val_accuracy: 0.8032\n",
      "Epoch 31/50\n",
      "158/159 [============================>.] - ETA: 0s - loss: 0.4772 - accuracy: 0.7880\n",
      "Epoch 31: val_loss did not improve from 0.43385\n",
      "159/159 [==============================] - 1s 9ms/step - loss: 0.4769 - accuracy: 0.7884 - val_loss: 0.4551 - val_accuracy: 0.7855\n",
      "Epoch 32/50\n",
      "154/159 [============================>.] - ETA: 0s - loss: 0.4759 - accuracy: 0.7841\n",
      "Epoch 32: val_loss did not improve from 0.43385\n",
      "159/159 [==============================] - 2s 11ms/step - loss: 0.4739 - accuracy: 0.7858 - val_loss: 0.4400 - val_accuracy: 0.7996\n",
      "Epoch 32: early stopping\n"
     ]
    }
   ],
   "source": [
    "callbacks = [\n",
    "    EarlyStopping(monitor='val_loss', patience=10, verbose=1),\n",
    "    ModelCheckpoint('best_model.h5', save_best_only=True, verbose=1)\n",
    "]\n",
    "\n",
    "history = nn_model.fit(X_train, y_train, epochs=50, batch_size=32, validation_split=0.1, callbacks=callbacks)"
   ]
  },
  {
   "cell_type": "code",
   "execution_count": null,
   "metadata": {},
   "outputs": [
    {
     "name": "stdout",
     "output_type": "stream",
     "text": [
      "45/45 [==============================] - 0s 5ms/step - loss: 0.4308 - accuracy: 0.8034\n",
      "Test Accuracy: 0.8034066557884216\n"
     ]
    }
   ],
   "source": [
    "X_test = X_test.astype('float32')\n",
    "y_test = y_test.astype('float32')\n",
    "test_loss, test_acc = nn_model.evaluate(X_test, y_test)\n",
    "print('Test Accuracy:', test_acc)"
   ]
  },
  {
   "cell_type": "code",
   "execution_count": null,
   "metadata": {},
   "outputs": [
    {
     "name": "stdout",
     "output_type": "stream",
     "text": [
      "45/45 [==============================] - 0s 4ms/step\n",
      "              precision    recall  f1-score   support\n",
      "\n",
      "         0.0       0.83      0.92      0.87      1036\n",
      "         1.0       0.68      0.49      0.57       373\n",
      "\n",
      "    accuracy                           0.80      1409\n",
      "   macro avg       0.76      0.70      0.72      1409\n",
      "weighted avg       0.79      0.80      0.79      1409\n",
      "\n"
     ]
    }
   ],
   "source": [
    "# Classification report\n",
    "predictions = nn_model.predict(X_test)\n",
    "predictions = (predictions > 0.5).astype(int)\n",
    "print(classification_report(y_test, predictions))"
   ]
  },
  {
   "cell_type": "markdown",
   "metadata": {},
   "source": [
    "# Ensemble"
   ]
  },
  {
   "cell_type": "code",
   "execution_count": null,
   "metadata": {},
   "outputs": [],
   "source": [
    "# For classification, get probabilities of the positive class\n",
    "nn_predictions = nn_model.predict(X_test)[:, 0]  # Assuming binary classification and sigmoid activation\n",
    "xgb_predictions = xg_model.predict_proba(X_test)[:, 1]  # Get probability of the positive class"
   ]
  },
  {
   "cell_type": "code",
   "execution_count": null,
   "metadata": {},
   "outputs": [],
   "source": [
    "# For classification, get probabilities of the positive class\n",
    "nn_predictions = nn_model.predict(X_test)[:, 0]  # Assuming binary classification and sigmoid activation\n",
    "xgb_predictions = xg_model.predict_proba(X_test)[:, 1]  # Get probability of the positive class"
   ]
  },
  {
   "cell_type": "code",
   "execution_count": null,
   "metadata": {},
   "outputs": [],
   "source": [
    "final_predictions = (nn_predictions + xgb_predictions) / 2"
   ]
  },
  {
   "cell_type": "code",
   "execution_count": null,
   "metadata": {},
   "outputs": [],
   "source": [
    "# If doing classification, you might need to threshold the averaged predictions\n",
    "final_class_predictions = (final_predictions > 0.5).astype(int)\n",
    "print(\"Ensemble Accuracy:\", accuracy_score(y_test, final_class_predictions))"
   ]
  },
  {
   "cell_type": "markdown",
   "metadata": {},
   "source": [
    "# Dataset desbalanceado"
   ]
  },
  {
   "cell_type": "code",
   "execution_count": null,
   "metadata": {},
   "outputs": [
    {
     "data": {
      "image/png": "[encoded data removed]",
      "text/plain": [
       "<Figure size 1000x600 with 1 Axes>"
      ]
     },
     "metadata": {},
     "output_type": "display_data"
    }
   ],
   "source": [
    "# Gráfico da Distribuição das classes em churn\n",
    "plt.figure(figsize=(10, 6))\n",
    "sns.countplot(x='Churn', data=dataset, palette='Paired', legend=False, hue='Churn')\n",
    "plt.title('Distribuição das classes em churn')\n",
    "plt.show()"
   ]
  },
  {
   "cell_type": "code",
   "execution_count": null,
   "metadata": {},
   "outputs": [],
   "source": []
  }
 ],
 "metadata": {
  "kernelspec": {
   "display_name": "Python 3",
   "language": "python",
   "name": "python3"
  },
  "language_info": {
   "codemirror_mode": {
    "name": "ipython",
    "version": 3
   },
   "file_extension": ".py",
   "mimetype": "text/x-python",
   "name": "python",
   "nbconvert_exporter": "python",
   "pygments_lexer": "ipython3",
   "version": "3.10.5"
  }
 },
 "nbformat": 4,
 "nbformat_minor": 2
}
