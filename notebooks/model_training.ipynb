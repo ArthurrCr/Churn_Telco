{
 "cells": [
  {
   "cell_type": "code",
   "execution_count": 32,
   "metadata": {},
   "outputs": [],
   "source": [
    "!pip uninstall numpy"
   ]
  },
  {
   "cell_type": "code",
   "execution_count": null,
   "metadata": {},
   "outputs": [],
   "source": [
    "!pip install numpy==1.23.1"
   ]
  },
  {
   "cell_type": "code",
   "execution_count": 1,
   "metadata": {},
   "outputs": [],
   "source": [
    "import pandas as pd\n",
    "import numpy as np\n",
    "import matplotlib.pyplot as plt\n",
    "import seaborn as sns\n",
    "import xgboost as xgb\n",
    "from sklearn.model_selection import train_test_split\n",
    "from sklearn.metrics import accuracy_score, classification_report\n",
    "from tensorflow.keras.models import Sequential\n",
    "from tensorflow.keras.layers import Dense, Dropout\n",
    "from tensorflow.keras.losses import BinaryCrossentropy\n",
    "from tensorflow.keras.regularizers import l2\n",
    "from tensorflow.keras.callbacks import EarlyStopping, ModelCheckpoint\n",
    "from sklearn.preprocessing import StandardScaler\n",
    "from sklearn.impute import KNNImputer"
   ]
  },
  {
   "cell_type": "code",
   "execution_count": 2,
   "metadata": {},
   "outputs": [],
   "source": [
    "# Carregamento dos dados\n",
    "dataset = pd.read_csv('../data/WA_Fn-UseC_-Telco-Customer-Churn.csv')"
   ]
  },
  {
   "cell_type": "code",
   "execution_count": 3,
   "metadata": {},
   "outputs": [
    {
     "name": "stdout",
     "output_type": "stream",
     "text": [
      "<class 'pandas.core.frame.DataFrame'>\n",
      "RangeIndex: 7043 entries, 0 to 7042\n",
      "Data columns (total 21 columns):\n",
      " #   Column            Non-Null Count  Dtype  \n",
      "---  ------            --------------  -----  \n",
      " 0   customerID        7043 non-null   object \n",
      " 1   gender            7043 non-null   object \n",
      " 2   SeniorCitizen     7043 non-null   int64  \n",
      " 3   Partner           7043 non-null   object \n",
      " 4   Dependents        7043 non-null   object \n",
      " 5   tenure            7043 non-null   int64  \n",
      " 6   PhoneService      7043 non-null   object \n",
      " 7   MultipleLines     7043 non-null   object \n",
      " 8   InternetService   7043 non-null   object \n",
      " 9   OnlineSecurity    7043 non-null   object \n",
      " 10  OnlineBackup      7043 non-null   object \n",
      " 11  DeviceProtection  7043 non-null   object \n",
      " 12  TechSupport       7043 non-null   object \n",
      " 13  StreamingTV       7043 non-null   object \n",
      " 14  StreamingMovies   7043 non-null   object \n",
      " 15  Contract          7043 non-null   object \n",
      " 16  PaperlessBilling  7043 non-null   object \n",
      " 17  PaymentMethod     7043 non-null   object \n",
      " 18  MonthlyCharges    7043 non-null   float64\n",
      " 19  TotalCharges      7043 non-null   object \n",
      " 20  Churn             7043 non-null   object \n",
      "dtypes: float64(1), int64(2), object(18)\n",
      "memory usage: 1.1+ MB\n"
     ]
    },
    {
     "data": {
      "text/plain": [
       "None"
      ]
     },
     "metadata": {},
     "output_type": "display_data"
    }
   ],
   "source": [
    "display(dataset.info())"
   ]
  },
  {
   "cell_type": "code",
   "execution_count": 4,
   "metadata": {},
   "outputs": [
    {
     "data": {
      "text/plain": [
       "customerID          0\n",
       "gender              0\n",
       "SeniorCitizen       0\n",
       "Partner             0\n",
       "Dependents          0\n",
       "tenure              0\n",
       "PhoneService        0\n",
       "MultipleLines       0\n",
       "InternetService     0\n",
       "OnlineSecurity      0\n",
       "OnlineBackup        0\n",
       "DeviceProtection    0\n",
       "TechSupport         0\n",
       "StreamingTV         0\n",
       "StreamingMovies     0\n",
       "Contract            0\n",
       "PaperlessBilling    0\n",
       "PaymentMethod       0\n",
       "MonthlyCharges      0\n",
       "TotalCharges        0\n",
       "Churn               0\n",
       "dtype: int64"
      ]
     },
     "metadata": {},
     "output_type": "display_data"
    }
   ],
   "source": [
    "# verificar nan em dataset\n",
    "display(dataset.isna().sum())"
   ]
  },
  {
   "cell_type": "code",
   "execution_count": 5,
   "metadata": {},
   "outputs": [],
   "source": [
    "# Converter TotalCharges para float\n",
    "dataset['TotalCharges'] = pd.to_numeric(dataset['TotalCharges'], errors='coerce')"
   ]
  },
  {
   "cell_type": "code",
   "execution_count": 6,
   "metadata": {},
   "outputs": [
    {
     "data": {
      "text/plain": [
       "customerID           0\n",
       "gender               0\n",
       "SeniorCitizen        0\n",
       "Partner              0\n",
       "Dependents           0\n",
       "tenure               0\n",
       "PhoneService         0\n",
       "MultipleLines        0\n",
       "InternetService      0\n",
       "OnlineSecurity       0\n",
       "OnlineBackup         0\n",
       "DeviceProtection     0\n",
       "TechSupport          0\n",
       "StreamingTV          0\n",
       "StreamingMovies      0\n",
       "Contract             0\n",
       "PaperlessBilling     0\n",
       "PaymentMethod        0\n",
       "MonthlyCharges       0\n",
       "TotalCharges        11\n",
       "Churn                0\n",
       "dtype: int64"
      ]
     },
     "metadata": {},
     "output_type": "display_data"
    }
   ],
   "source": [
    "# verificar nan em dataset\n",
    "display(dataset.isna().sum())"
   ]
  },
  {
   "cell_type": "code",
   "execution_count": 7,
   "metadata": {},
   "outputs": [],
   "source": [
    "# Remover a coluna 'customerID'\n",
    "dataset.drop('customerID', axis=1, inplace=True)\n",
    "\n",
    "# Selecionar colunas categóricas, mantendo as colunas do tipo int e float no DataFrame\n",
    "categorical_cols = dataset.select_dtypes(include=['object']).columns.tolist()\n",
    "\n",
    "# Criar dummies para as colunas categóricas\n",
    "dataset_dummies = pd.get_dummies(dataset, columns=categorical_cols, drop_first=False)\n",
    "\n",
    "# Separar as features e o target\n",
    "scaler = StandardScaler()\n",
    "features_scaled = scaler.fit_transform(dataset_dummies.drop('TotalCharges', axis=1))  # remove 'TotalCharges' from the features\n",
    "\n",
    "# Após a normalização, a coluna 'TotalCharges' é adicionada de volta ao array de features\n",
    "features_scaled = np.column_stack((features_scaled, dataset_dummies['TotalCharges']))\n",
    "\n",
    "imputer = KNNImputer(n_neighbors=10) # Usa o KNN para preencher os valores faltantes\n",
    "features_imputed = imputer.fit_transform(features_scaled)\n",
    "\n",
    "# Adicionar 'TotalCharges' como última coluna\n",
    "dataset['TotalCharges'] = features_imputed[:, -1]"
   ]
  },
  {
   "cell_type": "code",
   "execution_count": 8,
   "metadata": {},
   "outputs": [],
   "source": [
    "# Selecionar colunas categóricas, mantendo as colunas do tipo int e float no DataFrame\n",
    "categorical_cols = dataset.select_dtypes(include=['object']).columns.tolist()\n",
    "\n",
    "# Criar dummies para as colunas categóricas\n",
    "dataset_dummies = pd.get_dummies(dataset, columns=categorical_cols, drop_first=False)\n",
    "\n",
    "# Dividindo os dados em características e target\n",
    "X = dataset_dummies.drop(['Churn_Yes', 'Churn_No'], axis=1)  # Características\n",
    "y = dataset_dummies['Churn_Yes']  # Churn_Yes ja tem 0 e 1"
   ]
  },
  {
   "cell_type": "code",
   "execution_count": 9,
   "metadata": {},
   "outputs": [],
   "source": [
    "# Dividindo os dados em conjuntos de treinamento e teste\n",
    "X_train, X_test, y_train, y_test = train_test_split(X, y, test_size=0.1, random_state=42)"
   ]
  },
  {
   "cell_type": "markdown",
   "metadata": {},
   "source": [
    "# XGBoost"
   ]
  },
  {
   "cell_type": "code",
   "execution_count": 10,
   "metadata": {},
   "outputs": [],
   "source": [
    "# Configuração do modelo XGBoost\n",
    "xg_model = xgb.XGBClassifier(\n",
    "    n_estimators=100,\n",
    "    learning_rate=0.1,\n",
    "    max_depth=5,\n",
    "    subsample=0.5,\n",
    "    colsample_bytree=0.5,\n",
    "    objective='binary:logistic',\n",
    "    random_state=42\n",
    ")"
   ]
  },
  {
   "cell_type": "code",
   "execution_count": 11,
   "metadata": {},
   "outputs": [
    {
     "data": {
      "text/html": [
       "<style>#sk-container-id-1 {color: black;background-color: white;}#sk-container-id-1 pre{padding: 0;}#sk-container-id-1 div.sk-toggleable {background-color: white;}#sk-container-id-1 label.sk-toggleable__label {cursor: pointer;display: block;width: 100%;margin-bottom: 0;padding: 0.3em;box-sizing: border-box;text-align: center;}#sk-container-id-1 label.sk-toggleable__label-arrow:before {content: \"▸\";float: left;margin-right: 0.25em;color: #696969;}#sk-container-id-1 label.sk-toggleable__label-arrow:hover:before {color: black;}#sk-container-id-1 div.sk-estimator:hover label.sk-toggleable__label-arrow:before {color: black;}#sk-container-id-1 div.sk-toggleable__content {max-height: 0;max-width: 0;overflow: hidden;text-align: left;background-color: #f0f8ff;}#sk-container-id-1 div.sk-toggleable__content pre {margin: 0.2em;color: black;border-radius: 0.25em;background-color: #f0f8ff;}#sk-container-id-1 input.sk-toggleable__control:checked~div.sk-toggleable__content {max-height: 200px;max-width: 100%;overflow: auto;}#sk-container-id-1 input.sk-toggleable__control:checked~label.sk-toggleable__label-arrow:before {content: \"▾\";}#sk-container-id-1 div.sk-estimator input.sk-toggleable__control:checked~label.sk-toggleable__label {background-color: #d4ebff;}#sk-container-id-1 div.sk-label input.sk-toggleable__control:checked~label.sk-toggleable__label {background-color: #d4ebff;}#sk-container-id-1 input.sk-hidden--visually {border: 0;clip: rect(1px 1px 1px 1px);clip: rect(1px, 1px, 1px, 1px);height: 1px;margin: -1px;overflow: hidden;padding: 0;position: absolute;width: 1px;}#sk-container-id-1 div.sk-estimator {font-family: monospace;background-color: #f0f8ff;border: 1px dotted black;border-radius: 0.25em;box-sizing: border-box;margin-bottom: 0.5em;}#sk-container-id-1 div.sk-estimator:hover {background-color: #d4ebff;}#sk-container-id-1 div.sk-parallel-item::after {content: \"\";width: 100%;border-bottom: 1px solid gray;flex-grow: 1;}#sk-container-id-1 div.sk-label:hover label.sk-toggleable__label {background-color: #d4ebff;}#sk-container-id-1 div.sk-serial::before {content: \"\";position: absolute;border-left: 1px solid gray;box-sizing: border-box;top: 0;bottom: 0;left: 50%;z-index: 0;}#sk-container-id-1 div.sk-serial {display: flex;flex-direction: column;align-items: center;background-color: white;padding-right: 0.2em;padding-left: 0.2em;position: relative;}#sk-container-id-1 div.sk-item {position: relative;z-index: 1;}#sk-container-id-1 div.sk-parallel {display: flex;align-items: stretch;justify-content: center;background-color: white;position: relative;}#sk-container-id-1 div.sk-item::before, #sk-container-id-1 div.sk-parallel-item::before {content: \"\";position: absolute;border-left: 1px solid gray;box-sizing: border-box;top: 0;bottom: 0;left: 50%;z-index: -1;}#sk-container-id-1 div.sk-parallel-item {display: flex;flex-direction: column;z-index: 1;position: relative;background-color: white;}#sk-container-id-1 div.sk-parallel-item:first-child::after {align-self: flex-end;width: 50%;}#sk-container-id-1 div.sk-parallel-item:last-child::after {align-self: flex-start;width: 50%;}#sk-container-id-1 div.sk-parallel-item:only-child::after {width: 0;}#sk-container-id-1 div.sk-dashed-wrapped {border: 1px dashed gray;margin: 0 0.4em 0.5em 0.4em;box-sizing: border-box;padding-bottom: 0.4em;background-color: white;}#sk-container-id-1 div.sk-label label {font-family: monospace;font-weight: bold;display: inline-block;line-height: 1.2em;}#sk-container-id-1 div.sk-label-container {text-align: center;}#sk-container-id-1 div.sk-container {/* jupyter's `normalize.less` sets `[hidden] { display: none; }` but bootstrap.min.css set `[hidden] { display: none !important; }` so we also need the `!important` here to be able to override the default hidden behavior on the sphinx rendered scikit-learn.org. See: https://github.com/scikit-learn/scikit-learn/issues/21755 */display: inline-block !important;position: relative;}#sk-container-id-1 div.sk-text-repr-fallback {display: none;}</style><div id=\"sk-container-id-1\" class=\"sk-top-container\"><div class=\"sk-text-repr-fallback\"><pre>XGBClassifier(base_score=None, booster=None, callbacks=None,\n",
       "              colsample_bylevel=None, colsample_bynode=None,\n",
       "              colsample_bytree=0.5, device=None, early_stopping_rounds=None,\n",
       "              enable_categorical=False, eval_metric=None, feature_types=None,\n",
       "              gamma=None, grow_policy=None, importance_type=None,\n",
       "              interaction_constraints=None, learning_rate=0.1, max_bin=None,\n",
       "              max_cat_threshold=None, max_cat_to_onehot=None,\n",
       "              max_delta_step=None, max_depth=5, max_leaves=None,\n",
       "              min_child_weight=None, missing=nan, monotone_constraints=None,\n",
       "              multi_strategy=None, n_estimators=100, n_jobs=None,\n",
       "              num_parallel_tree=None, random_state=42, ...)</pre><b>In a Jupyter environment, please rerun this cell to show the HTML representation or trust the notebook. <br />On GitHub, the HTML representation is unable to render, please try loading this page with nbviewer.org.</b></div><div class=\"sk-container\" hidden><div class=\"sk-item\"><div class=\"sk-estimator sk-toggleable\"><input class=\"sk-toggleable__control sk-hidden--visually\" id=\"sk-estimator-id-1\" type=\"checkbox\" checked><label for=\"sk-estimator-id-1\" class=\"sk-toggleable__label sk-toggleable__label-arrow\">XGBClassifier</label><div class=\"sk-toggleable__content\"><pre>XGBClassifier(base_score=None, booster=None, callbacks=None,\n",
       "              colsample_bylevel=None, colsample_bynode=None,\n",
       "              colsample_bytree=0.5, device=None, early_stopping_rounds=None,\n",
       "              enable_categorical=False, eval_metric=None, feature_types=None,\n",
       "              gamma=None, grow_policy=None, importance_type=None,\n",
       "              interaction_constraints=None, learning_rate=0.1, max_bin=None,\n",
       "              max_cat_threshold=None, max_cat_to_onehot=None,\n",
       "              max_delta_step=None, max_depth=5, max_leaves=None,\n",
       "              min_child_weight=None, missing=nan, monotone_constraints=None,\n",
       "              multi_strategy=None, n_estimators=100, n_jobs=None,\n",
       "              num_parallel_tree=None, random_state=42, ...)</pre></div></div></div></div></div>"
      ],
      "text/plain": [
       "XGBClassifier(base_score=None, booster=None, callbacks=None,\n",
       "              colsample_bylevel=None, colsample_bynode=None,\n",
       "              colsample_bytree=0.5, device=None, early_stopping_rounds=None,\n",
       "              enable_categorical=False, eval_metric=None, feature_types=None,\n",
       "              gamma=None, grow_policy=None, importance_type=None,\n",
       "              interaction_constraints=None, learning_rate=0.1, max_bin=None,\n",
       "              max_cat_threshold=None, max_cat_to_onehot=None,\n",
       "              max_delta_step=None, max_depth=5, max_leaves=None,\n",
       "              min_child_weight=None, missing=nan, monotone_constraints=None,\n",
       "              multi_strategy=None, n_estimators=100, n_jobs=None,\n",
       "              num_parallel_tree=None, random_state=42, ...)"
      ]
     },
     "execution_count": 11,
     "metadata": {},
     "output_type": "execute_result"
    }
   ],
   "source": [
    "xg_model.fit(X_train, y_train)"
   ]
  },
  {
   "cell_type": "code",
   "execution_count": 12,
   "metadata": {},
   "outputs": [
    {
     "name": "stdout",
     "output_type": "stream",
     "text": [
      "Accuracy: 0.8113475177304964\n",
      "              precision    recall  f1-score   support\n",
      "\n",
      "       False       0.84      0.91      0.88       511\n",
      "        True       0.70      0.54      0.61       194\n",
      "\n",
      "    accuracy                           0.81       705\n",
      "   macro avg       0.77      0.73      0.74       705\n",
      "weighted avg       0.80      0.81      0.80       705\n",
      "\n"
     ]
    }
   ],
   "source": [
    "predictions = xg_model.predict(X_test)\n",
    "print(\"Accuracy:\", accuracy_score(y_test, predictions))\n",
    "print(classification_report(y_test, predictions))"
   ]
  },
  {
   "cell_type": "markdown",
   "metadata": {},
   "source": [
    "# Rede neural"
   ]
  },
  {
   "cell_type": "code",
   "execution_count": 13,
   "metadata": {},
   "outputs": [
    {
     "name": "stdout",
     "output_type": "stream",
     "text": [
      "Model: \"sequential\"\n",
      "_________________________________________________________________\n",
      " Layer (type)                Output Shape              Param #   \n",
      "=================================================================\n",
      " dense (Dense)               (None, 128)               5888      \n",
      "                                                                 \n",
      " dropout (Dropout)           (None, 128)               0         \n",
      "                                                                 \n",
      " dense_1 (Dense)             (None, 64)                8256      \n",
      "                                                                 \n",
      " dropout_1 (Dropout)         (None, 64)                0         \n",
      "                                                                 \n",
      " dense_2 (Dense)             (None, 32)                2080      \n",
      "                                                                 \n",
      " dropout_2 (Dropout)         (None, 32)                0         \n",
      "                                                                 \n",
      " dense_3 (Dense)             (None, 1)                 33        \n",
      "                                                                 \n",
      "=================================================================\n",
      "Total params: 16,257\n",
      "Trainable params: 16,257\n",
      "Non-trainable params: 0\n",
      "_________________________________________________________________\n"
     ]
    }
   ],
   "source": [
    "# Define the model\n",
    "nn_model = Sequential([\n",
    "    Dense(128, activation='relu', input_shape=(X_train.shape[1],), kernel_regularizer=l2(0.01)), \n",
    "    Dropout(0.3), \n",
    "    Dense(64, activation='relu', kernel_regularizer=l2(0.01)),\n",
    "    Dropout(0.3), \n",
    "    Dense(32, activation='relu', kernel_regularizer=l2(0.01)),\n",
    "    Dropout(0.3), \n",
    "    Dense(1, activation='sigmoid') \n",
    "])\n",
    "\n",
    "# Compile the model\n",
    "nn_model.compile(optimizer='adam',\n",
    "              loss= BinaryCrossentropy(from_logits=False), \n",
    "              metrics=['accuracy'])\n",
    "\n",
    "# Print the model summary\n",
    "nn_model.summary()"
   ]
  },
  {
   "cell_type": "code",
   "execution_count": 14,
   "metadata": {},
   "outputs": [],
   "source": [
    "# Convert data types\n",
    "X_train = X_train.astype('float32')\n",
    "y_train = y_train.astype('float32')"
   ]
  },
  {
   "cell_type": "code",
   "execution_count": 15,
   "metadata": {},
   "outputs": [
    {
     "name": "stdout",
     "output_type": "stream",
     "text": [
      "Epoch 1/100\n",
      "179/179 [==============================] - 2s 5ms/step - loss: 25.7494 - accuracy: 0.6413 - val_loss: 6.0420 - val_accuracy: 0.7823\n",
      "Epoch 2/100\n",
      "179/179 [==============================] - 1s 3ms/step - loss: 6.7227 - accuracy: 0.6534 - val_loss: 1.7292 - val_accuracy: 0.7808\n",
      "Epoch 3/100\n",
      "179/179 [==============================] - 1s 3ms/step - loss: 3.1121 - accuracy: 0.6630 - val_loss: 1.4061 - val_accuracy: 0.7618\n",
      "Epoch 4/100\n",
      "179/179 [==============================] - 1s 4ms/step - loss: 1.6795 - accuracy: 0.7049 - val_loss: 1.3620 - val_accuracy: 0.7618\n",
      "Epoch 5/100\n",
      "179/179 [==============================] - 1s 3ms/step - loss: 1.4902 - accuracy: 0.7309 - val_loss: 1.3467 - val_accuracy: 0.7618\n",
      "Epoch 6/100\n",
      "179/179 [==============================] - 1s 3ms/step - loss: 1.3839 - accuracy: 0.7397 - val_loss: 1.3151 - val_accuracy: 0.7618\n",
      "Epoch 7/100\n",
      "179/179 [==============================] - 1s 3ms/step - loss: 1.3596 - accuracy: 0.7390 - val_loss: 1.2891 - val_accuracy: 0.7634\n",
      "Epoch 8/100\n",
      "179/179 [==============================] - 1s 3ms/step - loss: 1.3133 - accuracy: 0.7475 - val_loss: 1.2561 - val_accuracy: 0.7792\n",
      "Epoch 9/100\n",
      "179/179 [==============================] - 1s 3ms/step - loss: 1.2928 - accuracy: 0.7468 - val_loss: 1.2442 - val_accuracy: 0.7808\n",
      "Epoch 10/100\n",
      "179/179 [==============================] - 1s 3ms/step - loss: 1.2726 - accuracy: 0.7484 - val_loss: 1.2227 - val_accuracy: 0.7760\n",
      "Epoch 11/100\n",
      "179/179 [==============================] - 1s 3ms/step - loss: 1.2481 - accuracy: 0.7556 - val_loss: 1.1986 - val_accuracy: 0.7839\n",
      "Epoch 12/100\n",
      "179/179 [==============================] - 1s 3ms/step - loss: 1.2342 - accuracy: 0.7488 - val_loss: 1.1807 - val_accuracy: 0.7808\n",
      "Epoch 13/100\n",
      "179/179 [==============================] - 1s 3ms/step - loss: 1.2063 - accuracy: 0.7523 - val_loss: 1.1556 - val_accuracy: 0.7792\n",
      "Epoch 14/100\n",
      "179/179 [==============================] - 1s 4ms/step - loss: 1.1890 - accuracy: 0.7540 - val_loss: 1.1371 - val_accuracy: 0.7808\n",
      "Epoch 15/100\n",
      "179/179 [==============================] - 1s 3ms/step - loss: 1.1568 - accuracy: 0.7530 - val_loss: 1.1197 - val_accuracy: 0.7839\n",
      "Epoch 16/100\n",
      "179/179 [==============================] - 1s 3ms/step - loss: 1.1413 - accuracy: 0.7567 - val_loss: 1.1005 - val_accuracy: 0.7855\n",
      "Epoch 17/100\n",
      "179/179 [==============================] - 1s 3ms/step - loss: 1.1296 - accuracy: 0.7544 - val_loss: 1.0737 - val_accuracy: 0.7744\n",
      "Epoch 18/100\n",
      "179/179 [==============================] - 1s 3ms/step - loss: 1.0964 - accuracy: 0.7535 - val_loss: 1.0590 - val_accuracy: 0.7855\n",
      "Epoch 19/100\n",
      "179/179 [==============================] - 1s 3ms/step - loss: 1.0757 - accuracy: 0.7596 - val_loss: 1.0320 - val_accuracy: 0.7823\n",
      "Epoch 20/100\n",
      "179/179 [==============================] - 1s 3ms/step - loss: 1.0550 - accuracy: 0.7533 - val_loss: 1.0115 - val_accuracy: 0.7839\n",
      "Epoch 21/100\n",
      "179/179 [==============================] - 1s 3ms/step - loss: 1.0363 - accuracy: 0.7570 - val_loss: 0.9929 - val_accuracy: 0.7808\n",
      "Epoch 22/100\n",
      "179/179 [==============================] - 1s 4ms/step - loss: 1.0135 - accuracy: 0.7577 - val_loss: 0.9749 - val_accuracy: 0.7823\n",
      "Epoch 23/100\n",
      "179/179 [==============================] - 1s 3ms/step - loss: 0.9990 - accuracy: 0.7500 - val_loss: 0.9513 - val_accuracy: 0.7855\n",
      "Epoch 24/100\n",
      "179/179 [==============================] - 1s 3ms/step - loss: 0.9762 - accuracy: 0.7582 - val_loss: 0.9347 - val_accuracy: 0.7855\n",
      "Epoch 25/100\n",
      "179/179 [==============================] - 1s 3ms/step - loss: 0.9714 - accuracy: 0.7570 - val_loss: 0.9135 - val_accuracy: 0.7823\n",
      "Epoch 26/100\n",
      "179/179 [==============================] - 1s 4ms/step - loss: 0.9305 - accuracy: 0.7584 - val_loss: 0.8930 - val_accuracy: 0.7839\n",
      "Epoch 27/100\n",
      "179/179 [==============================] - 1s 3ms/step - loss: 0.9189 - accuracy: 0.7530 - val_loss: 0.8798 - val_accuracy: 0.7886\n",
      "Epoch 28/100\n",
      "179/179 [==============================] - 1s 3ms/step - loss: 0.8954 - accuracy: 0.7570 - val_loss: 0.8574 - val_accuracy: 0.7839\n",
      "Epoch 29/100\n",
      "179/179 [==============================] - 1s 3ms/step - loss: 0.8826 - accuracy: 0.7575 - val_loss: 0.8413 - val_accuracy: 0.7776\n",
      "Epoch 30/100\n",
      "179/179 [==============================] - 1s 4ms/step - loss: 0.8582 - accuracy: 0.7593 - val_loss: 0.8159 - val_accuracy: 0.7871\n",
      "Epoch 31/100\n",
      "179/179 [==============================] - 1s 3ms/step - loss: 0.8391 - accuracy: 0.7621 - val_loss: 0.7936 - val_accuracy: 0.7871\n",
      "Epoch 32/100\n",
      "179/179 [==============================] - 1s 3ms/step - loss: 0.8317 - accuracy: 0.7572 - val_loss: 0.7831 - val_accuracy: 0.7823\n",
      "Epoch 33/100\n",
      "179/179 [==============================] - 1s 3ms/step - loss: 0.8030 - accuracy: 0.7605 - val_loss: 0.7626 - val_accuracy: 0.7823\n",
      "Epoch 34/100\n",
      "179/179 [==============================] - 1s 3ms/step - loss: 0.7910 - accuracy: 0.7591 - val_loss: 0.7461 - val_accuracy: 0.7871\n",
      "Epoch 35/100\n",
      "179/179 [==============================] - 1s 3ms/step - loss: 0.7682 - accuracy: 0.7568 - val_loss: 0.7275 - val_accuracy: 0.7855\n",
      "Epoch 36/100\n",
      "179/179 [==============================] - 1s 3ms/step - loss: 0.7465 - accuracy: 0.7617 - val_loss: 0.7062 - val_accuracy: 0.7839\n",
      "Epoch 37/100\n",
      "179/179 [==============================] - 1s 4ms/step - loss: 0.7335 - accuracy: 0.7595 - val_loss: 0.6976 - val_accuracy: 0.7839\n",
      "Epoch 38/100\n",
      "179/179 [==============================] - 1s 3ms/step - loss: 0.7181 - accuracy: 0.7586 - val_loss: 0.6768 - val_accuracy: 0.7871\n",
      "Epoch 39/100\n",
      "179/179 [==============================] - 1s 3ms/step - loss: 0.6966 - accuracy: 0.7646 - val_loss: 0.6677 - val_accuracy: 0.7808\n",
      "Epoch 40/100\n",
      "179/179 [==============================] - 1s 3ms/step - loss: 0.6864 - accuracy: 0.7616 - val_loss: 0.6424 - val_accuracy: 0.7839\n",
      "Epoch 41/100\n",
      "179/179 [==============================] - 1s 3ms/step - loss: 0.6682 - accuracy: 0.7600 - val_loss: 0.6327 - val_accuracy: 0.7839\n",
      "Epoch 42/100\n",
      "179/179 [==============================] - 1s 3ms/step - loss: 0.6522 - accuracy: 0.7637 - val_loss: 0.6136 - val_accuracy: 0.7855\n",
      "Epoch 43/100\n",
      "179/179 [==============================] - 1s 4ms/step - loss: 0.6384 - accuracy: 0.7610 - val_loss: 0.5999 - val_accuracy: 0.7839\n",
      "Epoch 44/100\n",
      "179/179 [==============================] - 1s 4ms/step - loss: 0.6271 - accuracy: 0.7633 - val_loss: 0.5941 - val_accuracy: 0.7855\n",
      "Epoch 45/100\n",
      "179/179 [==============================] - 1s 4ms/step - loss: 0.6171 - accuracy: 0.7654 - val_loss: 0.5863 - val_accuracy: 0.7823\n",
      "Epoch 46/100\n",
      "179/179 [==============================] - 1s 3ms/step - loss: 0.6047 - accuracy: 0.7612 - val_loss: 0.5653 - val_accuracy: 0.7823\n",
      "Epoch 47/100\n",
      "179/179 [==============================] - 1s 3ms/step - loss: 0.5950 - accuracy: 0.7633 - val_loss: 0.5569 - val_accuracy: 0.7886\n",
      "Epoch 48/100\n",
      "179/179 [==============================] - 1s 3ms/step - loss: 0.5853 - accuracy: 0.7667 - val_loss: 0.5374 - val_accuracy: 0.7981\n",
      "Epoch 49/100\n",
      "179/179 [==============================] - 1s 3ms/step - loss: 0.5758 - accuracy: 0.7688 - val_loss: 0.5332 - val_accuracy: 0.7902\n",
      "Epoch 50/100\n",
      "179/179 [==============================] - 1s 4ms/step - loss: 0.5657 - accuracy: 0.7672 - val_loss: 0.5374 - val_accuracy: 0.7871\n",
      "Epoch 51/100\n",
      "179/179 [==============================] - 1s 4ms/step - loss: 0.5603 - accuracy: 0.7670 - val_loss: 0.5187 - val_accuracy: 0.7871\n",
      "Epoch 52/100\n",
      "179/179 [==============================] - 1s 3ms/step - loss: 0.5586 - accuracy: 0.7617 - val_loss: 0.5151 - val_accuracy: 0.7950\n",
      "Epoch 53/100\n",
      "179/179 [==============================] - 1s 3ms/step - loss: 0.5433 - accuracy: 0.7721 - val_loss: 0.5044 - val_accuracy: 0.7871\n",
      "Epoch 54/100\n",
      "179/179 [==============================] - 1s 3ms/step - loss: 0.5351 - accuracy: 0.7719 - val_loss: 0.4989 - val_accuracy: 0.7871\n",
      "Epoch 55/100\n",
      "179/179 [==============================] - 1s 3ms/step - loss: 0.5327 - accuracy: 0.7747 - val_loss: 0.5022 - val_accuracy: 0.7855\n",
      "Epoch 56/100\n",
      "179/179 [==============================] - 1s 3ms/step - loss: 0.5252 - accuracy: 0.7709 - val_loss: 0.4918 - val_accuracy: 0.7886\n",
      "Epoch 57/100\n",
      "179/179 [==============================] - 1s 3ms/step - loss: 0.5235 - accuracy: 0.7730 - val_loss: 0.4880 - val_accuracy: 0.7855\n",
      "Epoch 58/100\n",
      "179/179 [==============================] - 1s 3ms/step - loss: 0.5238 - accuracy: 0.7668 - val_loss: 0.4841 - val_accuracy: 0.7950\n",
      "Epoch 59/100\n",
      "179/179 [==============================] - 1s 4ms/step - loss: 0.5140 - accuracy: 0.7707 - val_loss: 0.4811 - val_accuracy: 0.7902\n",
      "Epoch 60/100\n",
      "179/179 [==============================] - 1s 3ms/step - loss: 0.5139 - accuracy: 0.7698 - val_loss: 0.4782 - val_accuracy: 0.7918\n",
      "Epoch 61/100\n",
      "179/179 [==============================] - 1s 3ms/step - loss: 0.5133 - accuracy: 0.7751 - val_loss: 0.4797 - val_accuracy: 0.7886\n",
      "Epoch 62/100\n",
      "179/179 [==============================] - 1s 3ms/step - loss: 0.5080 - accuracy: 0.7716 - val_loss: 0.4761 - val_accuracy: 0.7886\n",
      "Epoch 63/100\n",
      "179/179 [==============================] - 1s 3ms/step - loss: 0.5105 - accuracy: 0.7693 - val_loss: 0.4747 - val_accuracy: 0.7934\n",
      "Epoch 64/100\n",
      "179/179 [==============================] - 1s 3ms/step - loss: 0.5078 - accuracy: 0.7703 - val_loss: 0.4638 - val_accuracy: 0.7855\n",
      "Epoch 65/100\n",
      "179/179 [==============================] - 1s 3ms/step - loss: 0.5074 - accuracy: 0.7714 - val_loss: 0.4609 - val_accuracy: 0.7855\n",
      "Epoch 66/100\n",
      "179/179 [==============================] - 1s 3ms/step - loss: 0.5097 - accuracy: 0.7689 - val_loss: 0.4683 - val_accuracy: 0.7950\n",
      "Epoch 67/100\n",
      "179/179 [==============================] - 1s 4ms/step - loss: 0.5040 - accuracy: 0.7651 - val_loss: 0.4670 - val_accuracy: 0.7918\n",
      "Epoch 68/100\n",
      "179/179 [==============================] - 1s 3ms/step - loss: 0.5089 - accuracy: 0.7684 - val_loss: 0.4732 - val_accuracy: 0.7855\n",
      "Epoch 69/100\n",
      "179/179 [==============================] - 1s 3ms/step - loss: 0.5001 - accuracy: 0.7712 - val_loss: 0.4663 - val_accuracy: 0.7823\n",
      "Epoch 70/100\n",
      "179/179 [==============================] - 1s 3ms/step - loss: 0.5046 - accuracy: 0.7705 - val_loss: 0.4613 - val_accuracy: 0.7871\n",
      "Epoch 71/100\n",
      "179/179 [==============================] - 1s 3ms/step - loss: 0.5007 - accuracy: 0.7737 - val_loss: 0.4644 - val_accuracy: 0.7871\n",
      "Epoch 72/100\n",
      "179/179 [==============================] - 1s 3ms/step - loss: 0.4963 - accuracy: 0.7738 - val_loss: 0.4586 - val_accuracy: 0.7950\n",
      "Epoch 73/100\n",
      "179/179 [==============================] - 1s 3ms/step - loss: 0.4986 - accuracy: 0.7702 - val_loss: 0.4635 - val_accuracy: 0.7886\n",
      "Epoch 74/100\n",
      "179/179 [==============================] - 1s 4ms/step - loss: 0.4992 - accuracy: 0.7742 - val_loss: 0.4541 - val_accuracy: 0.7918\n",
      "Epoch 75/100\n",
      "179/179 [==============================] - 1s 3ms/step - loss: 0.5074 - accuracy: 0.7672 - val_loss: 0.4615 - val_accuracy: 0.7886\n",
      "Epoch 76/100\n",
      "179/179 [==============================] - 1s 3ms/step - loss: 0.4956 - accuracy: 0.7719 - val_loss: 0.4575 - val_accuracy: 0.7855\n",
      "Epoch 77/100\n",
      "179/179 [==============================] - 1s 3ms/step - loss: 0.4980 - accuracy: 0.7712 - val_loss: 0.4585 - val_accuracy: 0.7886\n",
      "Epoch 78/100\n",
      "179/179 [==============================] - 1s 3ms/step - loss: 0.5015 - accuracy: 0.7679 - val_loss: 0.4565 - val_accuracy: 0.7918\n",
      "Epoch 79/100\n",
      "179/179 [==============================] - 1s 3ms/step - loss: 0.4971 - accuracy: 0.7749 - val_loss: 0.4562 - val_accuracy: 0.7871\n",
      "Epoch 80/100\n",
      "179/179 [==============================] - 1s 3ms/step - loss: 0.4967 - accuracy: 0.7702 - val_loss: 0.4564 - val_accuracy: 0.7839\n",
      "Epoch 81/100\n",
      "179/179 [==============================] - 1s 4ms/step - loss: 0.4948 - accuracy: 0.7728 - val_loss: 0.4667 - val_accuracy: 0.7950\n",
      "Epoch 82/100\n",
      "179/179 [==============================] - 1s 3ms/step - loss: 0.4956 - accuracy: 0.7751 - val_loss: 0.4521 - val_accuracy: 0.7855\n",
      "Epoch 83/100\n",
      "179/179 [==============================] - 1s 3ms/step - loss: 0.4954 - accuracy: 0.7756 - val_loss: 0.4557 - val_accuracy: 0.7886\n",
      "Epoch 84/100\n",
      "179/179 [==============================] - 1s 3ms/step - loss: 0.4966 - accuracy: 0.7738 - val_loss: 0.4558 - val_accuracy: 0.7871\n",
      "Epoch 85/100\n",
      "179/179 [==============================] - 1s 3ms/step - loss: 0.4958 - accuracy: 0.7712 - val_loss: 0.4669 - val_accuracy: 0.7886\n",
      "Epoch 86/100\n",
      "179/179 [==============================] - 1s 3ms/step - loss: 0.4936 - accuracy: 0.7751 - val_loss: 0.4544 - val_accuracy: 0.7902\n",
      "Epoch 87/100\n",
      "179/179 [==============================] - 1s 3ms/step - loss: 0.5022 - accuracy: 0.7667 - val_loss: 0.4586 - val_accuracy: 0.7950\n",
      "Epoch 88/100\n",
      "179/179 [==============================] - 1s 3ms/step - loss: 0.4906 - accuracy: 0.7705 - val_loss: 0.4545 - val_accuracy: 0.7823\n",
      "Epoch 89/100\n",
      "179/179 [==============================] - 1s 4ms/step - loss: 0.5008 - accuracy: 0.7733 - val_loss: 0.4656 - val_accuracy: 0.7886\n",
      "Epoch 90/100\n",
      "179/179 [==============================] - 1s 3ms/step - loss: 0.4953 - accuracy: 0.7742 - val_loss: 0.4555 - val_accuracy: 0.7871\n",
      "Epoch 91/100\n",
      "179/179 [==============================] - 1s 3ms/step - loss: 0.5002 - accuracy: 0.7691 - val_loss: 0.4546 - val_accuracy: 0.7902\n",
      "Epoch 92/100\n",
      "179/179 [==============================] - 1s 3ms/step - loss: 0.4935 - accuracy: 0.7714 - val_loss: 0.4610 - val_accuracy: 0.7950\n",
      "Epoch 93/100\n",
      "179/179 [==============================] - 1s 3ms/step - loss: 0.4964 - accuracy: 0.7735 - val_loss: 0.4643 - val_accuracy: 0.7902\n",
      "Epoch 94/100\n",
      "179/179 [==============================] - 1s 3ms/step - loss: 0.4984 - accuracy: 0.7703 - val_loss: 0.4642 - val_accuracy: 0.7950\n",
      "Epoch 95/100\n",
      "179/179 [==============================] - 1s 3ms/step - loss: 0.4960 - accuracy: 0.7717 - val_loss: 0.4555 - val_accuracy: 0.7823\n",
      "Epoch 96/100\n",
      "179/179 [==============================] - 1s 4ms/step - loss: 0.4928 - accuracy: 0.7730 - val_loss: 0.4564 - val_accuracy: 0.7823\n",
      "Epoch 97/100\n",
      "179/179 [==============================] - 1s 3ms/step - loss: 0.4963 - accuracy: 0.7674 - val_loss: 0.4638 - val_accuracy: 0.7950\n",
      "Epoch 98/100\n",
      "179/179 [==============================] - 1s 3ms/step - loss: 0.4965 - accuracy: 0.7721 - val_loss: 0.4618 - val_accuracy: 0.7886\n",
      "Epoch 99/100\n",
      "179/179 [==============================] - 1s 3ms/step - loss: 0.4996 - accuracy: 0.7742 - val_loss: 0.4573 - val_accuracy: 0.7886\n",
      "Epoch 100/100\n",
      "179/179 [==============================] - 1s 3ms/step - loss: 0.4920 - accuracy: 0.7738 - val_loss: 0.4622 - val_accuracy: 0.7871\n"
     ]
    }
   ],
   "source": [
    "history = nn_model.fit(X_train, y_train, epochs=100, batch_size=32, validation_split=0.1)"
   ]
  },
  {
   "cell_type": "code",
   "execution_count": 16,
   "metadata": {},
   "outputs": [
    {
     "data": {
      "image/png": "[encoded data removed]",
      "text/plain": [
       "<Figure size 640x480 with 1 Axes>"
      ]
     },
     "metadata": {},
     "output_type": "display_data"
    }
   ],
   "source": [
    "# plotar a curva de perda de um modo\n",
    "plt.plot(history.history['loss'], label='train')\n",
    "plt.plot(history.history['val_loss'], label='validation')\n",
    "plt.legend()\n",
    "plt.show()"
   ]
  },
  {
   "cell_type": "code",
   "execution_count": 17,
   "metadata": {},
   "outputs": [
    {
     "name": "stdout",
     "output_type": "stream",
     "text": [
      "23/23 [==============================] - 0s 2ms/step - loss: 0.4667 - accuracy: 0.7787\n",
      "Test Accuracy: 0.778723418712616\n"
     ]
    }
   ],
   "source": [
    "X_test = X_test.astype('float32')\n",
    "y_test = y_test.astype('float32')\n",
    "test_loss, test_acc = nn_model.evaluate(X_test, y_test)\n",
    "print('Test Accuracy:', test_acc)"
   ]
  },
  {
   "cell_type": "code",
   "execution_count": 18,
   "metadata": {},
   "outputs": [
    {
     "name": "stdout",
     "output_type": "stream",
     "text": [
      "23/23 [==============================] - 0s 2ms/step\n",
      "              precision    recall  f1-score   support\n",
      "\n",
      "         0.0       0.79      0.95      0.86       511\n",
      "         1.0       0.71      0.34      0.45       194\n",
      "\n",
      "    accuracy                           0.78       705\n",
      "   macro avg       0.75      0.64      0.66       705\n",
      "weighted avg       0.77      0.78      0.75       705\n",
      "\n"
     ]
    }
   ],
   "source": [
    "# Classification report\n",
    "predictions = nn_model.predict(X_test)\n",
    "predictions = (predictions > 0.5).astype(int)\n",
    "print(classification_report(y_test, predictions))"
   ]
  },
  {
   "cell_type": "markdown",
   "metadata": {},
   "source": [
    "# Ensemble"
   ]
  },
  {
   "cell_type": "code",
   "execution_count": 19,
   "metadata": {},
   "outputs": [
    {
     "name": "stdout",
     "output_type": "stream",
     "text": [
      "23/23 [==============================] - 0s 2ms/step\n"
     ]
    }
   ],
   "source": [
    "nn_predictions = nn_model.predict(X_test)[:, 0]  # Retorna a probabilidade da classe positiva\n",
    "xgb_predictions = xg_model.predict_proba(X_test)[:, 1]  # Retorna a probabilidade da classe positiva"
   ]
  },
  {
   "cell_type": "code",
   "execution_count": 20,
   "metadata": {},
   "outputs": [],
   "source": [
    "# Média das previsões\n",
    "final_predictions = (nn_predictions + xgb_predictions) / 2"
   ]
  },
  {
   "cell_type": "code",
   "execution_count": 21,
   "metadata": {},
   "outputs": [
    {
     "name": "stdout",
     "output_type": "stream",
     "text": [
      "Ensemble Accuracy: 0.8042553191489362\n"
     ]
    }
   ],
   "source": [
    "# Acurácia\n",
    "final_class_predictions = (final_predictions > 0.5).astype(int)\n",
    "print(\"Ensemble Accuracy:\", accuracy_score(y_test, final_class_predictions))"
   ]
  },
  {
   "cell_type": "code",
   "execution_count": 22,
   "metadata": {},
   "outputs": [
    {
     "name": "stdout",
     "output_type": "stream",
     "text": [
      "              precision    recall  f1-score   support\n",
      "\n",
      "         0.0       0.82      0.94      0.87       511\n",
      "         1.0       0.75      0.44      0.55       194\n",
      "\n",
      "    accuracy                           0.80       705\n",
      "   macro avg       0.78      0.69      0.71       705\n",
      "weighted avg       0.80      0.80      0.79       705\n",
      "\n"
     ]
    }
   ],
   "source": [
    "# Classification report\n",
    "print(classification_report(y_test, final_class_predictions))"
   ]
  },
  {
   "cell_type": "markdown",
   "metadata": {},
   "source": [
    "# Dataset desbalanceado"
   ]
  },
  {
   "cell_type": "code",
   "execution_count": 23,
   "metadata": {},
   "outputs": [
    {
     "data": {
      "image/png": "[encoded data removed]",
      "text/plain": [
       "<Figure size 1000x600 with 1 Axes>"
      ]
     },
     "metadata": {},
     "output_type": "display_data"
    }
   ],
   "source": [
    "# Gráfico da Distribuição das classes em churn\n",
    "plt.figure(figsize=(10, 6))\n",
    "sns.countplot(x='Churn', data=dataset, palette='Paired', legend=False, hue='Churn')\n",
    "plt.title('Distribuição das classes em churn')\n",
    "plt.show()"
   ]
  },
  {
   "cell_type": "markdown",
   "metadata": {},
   "source": [
    "A classificação desequilibrada é um problema comum no aprendizado de máquina, especialmente no domínio da classificação binária. Isso ocorre quando o conjunto de dados de treinamento tem uma distribuição desigual de classes, levando a um possível viés no modelo treinado. É importante abordar o desequilíbrio de classes para melhorar o desempenho do nosso modelo e garantir sua precisão."
   ]
  },
  {
   "cell_type": "markdown",
   "metadata": {},
   "source": [
    "## Modificando os Pesos na Função de Perda"
   ]
  },
  {
   "cell_type": "markdown",
   "metadata": {},
   "source": [
    "A atribuição de pesos diferentes aos exemplos na função de perda pode ajudar a compensar o desequilíbrio. Isso significa dar maior importância aos exemplos da classe minoritária durante o treinamento do modelo."
   ]
  },
  {
   "cell_type": "markdown",
   "metadata": {},
   "source": [
    "**`(y_train == 1).sum()`**: Este trecho conta quantas vezes a classe `1` aparece no conjunto de dados de treino. Isso é feito comparando cada elemento de `y_train` com `1` (verdadeiro onde a condição é atendida) e somando esses valores verdadeiros.\n",
    "\n",
    "**`(y_train == 0).sum()`**: Similarmente, este trecho conta quantas vezes a classe `0` aparece em `y_train`.\n",
    "\n",
    "**Divisão**: A divisão do número de exemplos da classe minoritária (1) pelo número de exemplos da classe majoritária(0) calcula um fator de peso. Esse peso será usado para equilibrar as classes, aumentando a importância das instâncias da classe minoritária durante o treinamento do modelo."
   ]
  },
  {
   "cell_type": "code",
   "execution_count": 24,
   "metadata": {},
   "outputs": [
    {
     "data": {
      "text/html": [
       "<style>#sk-container-id-2 {color: black;background-color: white;}#sk-container-id-2 pre{padding: 0;}#sk-container-id-2 div.sk-toggleable {background-color: white;}#sk-container-id-2 label.sk-toggleable__label {cursor: pointer;display: block;width: 100%;margin-bottom: 0;padding: 0.3em;box-sizing: border-box;text-align: center;}#sk-container-id-2 label.sk-toggleable__label-arrow:before {content: \"▸\";float: left;margin-right: 0.25em;color: #696969;}#sk-container-id-2 label.sk-toggleable__label-arrow:hover:before {color: black;}#sk-container-id-2 div.sk-estimator:hover label.sk-toggleable__label-arrow:before {color: black;}#sk-container-id-2 div.sk-toggleable__content {max-height: 0;max-width: 0;overflow: hidden;text-align: left;background-color: #f0f8ff;}#sk-container-id-2 div.sk-toggleable__content pre {margin: 0.2em;color: black;border-radius: 0.25em;background-color: #f0f8ff;}#sk-container-id-2 input.sk-toggleable__control:checked~div.sk-toggleable__content {max-height: 200px;max-width: 100%;overflow: auto;}#sk-container-id-2 input.sk-toggleable__control:checked~label.sk-toggleable__label-arrow:before {content: \"▾\";}#sk-container-id-2 div.sk-estimator input.sk-toggleable__control:checked~label.sk-toggleable__label {background-color: #d4ebff;}#sk-container-id-2 div.sk-label input.sk-toggleable__control:checked~label.sk-toggleable__label {background-color: #d4ebff;}#sk-container-id-2 input.sk-hidden--visually {border: 0;clip: rect(1px 1px 1px 1px);clip: rect(1px, 1px, 1px, 1px);height: 1px;margin: -1px;overflow: hidden;padding: 0;position: absolute;width: 1px;}#sk-container-id-2 div.sk-estimator {font-family: monospace;background-color: #f0f8ff;border: 1px dotted black;border-radius: 0.25em;box-sizing: border-box;margin-bottom: 0.5em;}#sk-container-id-2 div.sk-estimator:hover {background-color: #d4ebff;}#sk-container-id-2 div.sk-parallel-item::after {content: \"\";width: 100%;border-bottom: 1px solid gray;flex-grow: 1;}#sk-container-id-2 div.sk-label:hover label.sk-toggleable__label {background-color: #d4ebff;}#sk-container-id-2 div.sk-serial::before {content: \"\";position: absolute;border-left: 1px solid gray;box-sizing: border-box;top: 0;bottom: 0;left: 50%;z-index: 0;}#sk-container-id-2 div.sk-serial {display: flex;flex-direction: column;align-items: center;background-color: white;padding-right: 0.2em;padding-left: 0.2em;position: relative;}#sk-container-id-2 div.sk-item {position: relative;z-index: 1;}#sk-container-id-2 div.sk-parallel {display: flex;align-items: stretch;justify-content: center;background-color: white;position: relative;}#sk-container-id-2 div.sk-item::before, #sk-container-id-2 div.sk-parallel-item::before {content: \"\";position: absolute;border-left: 1px solid gray;box-sizing: border-box;top: 0;bottom: 0;left: 50%;z-index: -1;}#sk-container-id-2 div.sk-parallel-item {display: flex;flex-direction: column;z-index: 1;position: relative;background-color: white;}#sk-container-id-2 div.sk-parallel-item:first-child::after {align-self: flex-end;width: 50%;}#sk-container-id-2 div.sk-parallel-item:last-child::after {align-self: flex-start;width: 50%;}#sk-container-id-2 div.sk-parallel-item:only-child::after {width: 0;}#sk-container-id-2 div.sk-dashed-wrapped {border: 1px dashed gray;margin: 0 0.4em 0.5em 0.4em;box-sizing: border-box;padding-bottom: 0.4em;background-color: white;}#sk-container-id-2 div.sk-label label {font-family: monospace;font-weight: bold;display: inline-block;line-height: 1.2em;}#sk-container-id-2 div.sk-label-container {text-align: center;}#sk-container-id-2 div.sk-container {/* jupyter's `normalize.less` sets `[hidden] { display: none; }` but bootstrap.min.css set `[hidden] { display: none !important; }` so we also need the `!important` here to be able to override the default hidden behavior on the sphinx rendered scikit-learn.org. See: https://github.com/scikit-learn/scikit-learn/issues/21755 */display: inline-block !important;position: relative;}#sk-container-id-2 div.sk-text-repr-fallback {display: none;}</style><div id=\"sk-container-id-2\" class=\"sk-top-container\"><div class=\"sk-text-repr-fallback\"><pre>XGBClassifier(base_score=None, booster=None, callbacks=None,\n",
       "              colsample_bylevel=None, colsample_bynode=None,\n",
       "              colsample_bytree=0.7, device=None, early_stopping_rounds=None,\n",
       "              enable_categorical=False, eval_metric=None, feature_types=None,\n",
       "              gamma=None, grow_policy=None, importance_type=None,\n",
       "              interaction_constraints=None, learning_rate=0.01, max_bin=None,\n",
       "              max_cat_threshold=None, max_cat_to_onehot=None,\n",
       "              max_delta_step=None, max_depth=5, max_leaves=None,\n",
       "              min_child_weight=None, missing=nan, monotone_constraints=None,\n",
       "              multi_strategy=None, n_estimators=500, n_jobs=None,\n",
       "              num_parallel_tree=None, random_state=42, ...)</pre><b>In a Jupyter environment, please rerun this cell to show the HTML representation or trust the notebook. <br />On GitHub, the HTML representation is unable to render, please try loading this page with nbviewer.org.</b></div><div class=\"sk-container\" hidden><div class=\"sk-item\"><div class=\"sk-estimator sk-toggleable\"><input class=\"sk-toggleable__control sk-hidden--visually\" id=\"sk-estimator-id-2\" type=\"checkbox\" checked><label for=\"sk-estimator-id-2\" class=\"sk-toggleable__label sk-toggleable__label-arrow\">XGBClassifier</label><div class=\"sk-toggleable__content\"><pre>XGBClassifier(base_score=None, booster=None, callbacks=None,\n",
       "              colsample_bylevel=None, colsample_bynode=None,\n",
       "              colsample_bytree=0.7, device=None, early_stopping_rounds=None,\n",
       "              enable_categorical=False, eval_metric=None, feature_types=None,\n",
       "              gamma=None, grow_policy=None, importance_type=None,\n",
       "              interaction_constraints=None, learning_rate=0.01, max_bin=None,\n",
       "              max_cat_threshold=None, max_cat_to_onehot=None,\n",
       "              max_delta_step=None, max_depth=5, max_leaves=None,\n",
       "              min_child_weight=None, missing=nan, monotone_constraints=None,\n",
       "              multi_strategy=None, n_estimators=500, n_jobs=None,\n",
       "              num_parallel_tree=None, random_state=42, ...)</pre></div></div></div></div></div>"
      ],
      "text/plain": [
       "XGBClassifier(base_score=None, booster=None, callbacks=None,\n",
       "              colsample_bylevel=None, colsample_bynode=None,\n",
       "              colsample_bytree=0.7, device=None, early_stopping_rounds=None,\n",
       "              enable_categorical=False, eval_metric=None, feature_types=None,\n",
       "              gamma=None, grow_policy=None, importance_type=None,\n",
       "              interaction_constraints=None, learning_rate=0.01, max_bin=None,\n",
       "              max_cat_threshold=None, max_cat_to_onehot=None,\n",
       "              max_delta_step=None, max_depth=5, max_leaves=None,\n",
       "              min_child_weight=None, missing=nan, monotone_constraints=None,\n",
       "              multi_strategy=None, n_estimators=500, n_jobs=None,\n",
       "              num_parallel_tree=None, random_state=42, ...)"
      ]
     },
     "execution_count": 24,
     "metadata": {},
     "output_type": "execute_result"
    }
   ],
   "source": [
    "# Calculando os pesos para cada classe\n",
    "weights = (y_train == 1).sum() / (1.0 * (y_train == 0).sum())\n",
    "\n",
    "xg_model = xgb.XGBClassifier(\n",
    "    n_estimators=500,\n",
    "    learning_rate=0.01, \n",
    "    max_depth=5,         # Quantidade de camadas, quanto mais camadas, mais complexo\n",
    "    subsample=0.7,       # Quantidade de amostras por árvore, quanto menos amostras, mais rápido\n",
    "    colsample_bytree=0.7,# Quantidade de colunas por árvore, quanto menos colunas, mais rápido\n",
    "    reg_alpha=0.01,      # Regularização L1\n",
    "    reg_lambda=1.0,      # Regularização L2\n",
    "    objective='binary:logistic',\n",
    "    random_state=42,\n",
    "    scale_pos_weight=weights\n",
    ")\n",
    "\n",
    "# Treinamento do modelo\n",
    "xg_model.fit(X_train, y_train)"
   ]
  },
  {
   "cell_type": "code",
   "execution_count": 25,
   "metadata": {},
   "outputs": [
    {
     "name": "stdout",
     "output_type": "stream",
     "text": [
      "Accuracy: 0.7815602836879433\n",
      "              precision    recall  f1-score   support\n",
      "\n",
      "         0.0       0.77      0.99      0.87       511\n",
      "         1.0       0.88      0.24      0.37       194\n",
      "\n",
      "    accuracy                           0.78       705\n",
      "   macro avg       0.83      0.61      0.62       705\n",
      "weighted avg       0.80      0.78      0.73       705\n",
      "\n"
     ]
    }
   ],
   "source": [
    "predictions = xg_model.predict(X_test)\n",
    "print(\"Accuracy:\", accuracy_score(y_test, predictions))\n",
    "print(classification_report(y_test, predictions))"
   ]
  },
  {
   "cell_type": "code",
   "execution_count": 26,
   "metadata": {},
   "outputs": [
    {
     "name": "stdout",
     "output_type": "stream",
     "text": [
      "23/23 [==============================] - 0s 2ms/step\n",
      "Ensemble Accuracy: 0.7872340425531915\n"
     ]
    }
   ],
   "source": [
    "nn_predictions = nn_model.predict(X_test)[:, 0]  # Retorna a probabilidade da classe positiva\n",
    "xgb_predictions = xg_model.predict_proba(X_test)[:, 1]  # Retorna a probabilidade da classe positiva\n",
    "\n",
    "# Média das previsões\n",
    "final_predictions = (nn_predictions + xgb_predictions) / 2\n",
    "\n",
    "# Acurácia\n",
    "final_class_predictions = (final_predictions > 0.5).astype(int)\n",
    "print(\"Ensemble Accuracy:\", accuracy_score(y_test, final_class_predictions))"
   ]
  },
  {
   "cell_type": "code",
   "execution_count": 27,
   "metadata": {},
   "outputs": [
    {
     "name": "stdout",
     "output_type": "stream",
     "text": [
      "              precision    recall  f1-score   support\n",
      "\n",
      "         0.0       0.78      0.98      0.87       511\n",
      "         1.0       0.82      0.29      0.43       194\n",
      "\n",
      "    accuracy                           0.79       705\n",
      "   macro avg       0.80      0.63      0.65       705\n",
      "weighted avg       0.79      0.79      0.75       705\n",
      "\n"
     ]
    }
   ],
   "source": [
    "# Classification report\n",
    "print(classification_report(y_test, final_class_predictions))"
   ]
  },
  {
   "cell_type": "markdown",
   "metadata": {},
   "source": [
    "### Análise de Classe\n",
    "- **Classe 0 (Majoritária)**\n",
    "  - **Precisão**: 0.80. Isso indica que 80% das previsões para classe 0 estão corretas.\n",
    "  - **Recall**: 0.97. Significa que 97% das instâncias reais de classe 0 foram identificadas corretamente pelo modelo.\n",
    "  - **F1-Score**: 0.87. O F1-score é uma média harmônica de precisão e recall, e um valor de 0.87 sugere um bom equilíbrio entre precisão e recall para esta classe.\n",
    "  - **Suporte**: 511. Número total de casos reais da classe 0 no conjunto de teste.\n",
    "\n",
    "- **Classe 1 (Minoritária)**\n",
    "  - **Precisão**: 0.81. Isto sugere que 81% das previsões de classe 1 pelo modelo estão corretas.\n",
    "  - **Recall**: 0.35. Apenas 37% das instâncias reais de classe 1 foram identificadas corretamente, o que é bastante baixo.\n",
    "  - **F1-Score**: 0.49. Este valor mais baixo indica uma baixa eficácia do modelo em equilibrar a precisão e o recall para a classe minoritária.\n",
    "  - **Suporte**: 194. Número total de casos reais da classe 1 no conjunto de teste.\n",
    "\n",
    "### Análise Agregada\n",
    "- **Acurácia**: 0.80. Isso mostra que o modelo acertou 80% das vezes para todas as previsões feitas.\n",
    "- **Média Macro (avg)**:\n",
    "  - **Precisão**: 0.80. Média simples das precisões para ambas as classes.\n",
    "  - **Recall**: 0.66. Média simples dos recalls, afetada negativamente pelo baixo recall da classe 1.\n",
    "  - **F1-Score**: 0.68. Indica a média do F1-score, que também é puxada para baixo pela performance na classe 1.\n",
    "- **Média Ponderada (weighted avg)**:\n",
    "  - **Precisão**: 0.80. Considera o número de instâncias em cada classe, dando mais peso à classe 0.\n",
    "  - **Recall**: 0.80. Similar à precisão, ponderada pelo suporte.\n",
    "  - **F1-Score**: 0.77. F1-score ponderado que favorece a classe com mais suporte."
   ]
  },
  {
   "cell_type": "markdown",
   "metadata": {},
   "source": [
    "Ponderar os pesos pode aumentar a precisão da classe minoritária, porém o recall e o f1-score podem ser afetados negativamente. Portanto, é importante encontrar um equilíbrio entre as métricas de avaliação para ambas as classes."
   ]
  },
  {
   "cell_type": "markdown",
   "metadata": {},
   "source": [
    "# Engenharia de Recursos"
   ]
  },
  {
   "cell_type": "markdown",
   "metadata": {},
   "source": [
    "Um tema comum em aprendizado de máquina é a seleção de boas características para maximizar o desempenho do modelo.\n",
    "\n",
    "Para conjuntos de dados estruturados, geralmente há dois passos para escolher um conjunto final de características:\n",
    "\n",
    "1. **Engenharia de características**: criação de novas características a partir dos dados (por exemplo, a partir do preço unitário e do volume total, talvez criar uma característica de receita total, igual ao preço vezes o volume).\n",
    "\n",
    "2. **Seleção de características**: de um conjunto de características $ p $, selecionar um subconjunto que mantenha (ou até melhore) o desempenho.\n",
    "\n",
    "Para realizar esses passos, existem considerações técnicas e empresariais. Não cobriremos as últimas: elas geralmente são específicas da aplicação e, o mais importante, dependem fortemente dos dados disponíveis.\n",
    "\n",
    "Portanto, nos concentraremos nos métodos técnicos para realizar a seleção de características: dado um conjunto de características $ x_1, \\ldots, x_p $, podemos selecionar um subconjunto $ x_1',\\ldots, x_m' $ (onde $ m $ representa \"mínimo\") que nos leve a um nível ótimo de desempenho do modelo?\n",
    "\n",
    "Uma resposta comum (antiga) é que $ p > N $ significa muitas características. Isso sempre foi o caso em estatísticas tradicionais, para métodos como regressão linear ou logística, para os quais $ p > N $ literalmente significa que o algoritmo quebra, já que a matriz $ X^T X $ não é mais invertível.\n",
    "\n",
    "Essa não é mais uma resposta satisfatória. De fato, é comum, por exemplo, em genômica, ter conjuntos de dados onde $ p \\gg N $: dados de expressão genética geralmente consideram $ p $ na ordem de 10.000 ou até 100.000 mil, enquanto $ N $ pode ser de algumas centenas (um para cada paciente no estudo, por exemplo).\n",
    "\n",
    "O mesmo pode ser visto em problemas como processamento de imagens, onde cada pixel contribui com $ O(1) $ características. À medida que os tamanhos das imagens aumentam, a contagem total de características escala quadraticamente.\n",
    "\n",
    "Para crédito, é comum ter conjuntos de dados com $ p $ entre 100-10.000 características relativas à informação financeira, comportamental e demográfica de um indivíduo. $ N $ aqui geralmente será na ordem de 100.000 - 100 milhões, ou seja, uma porcentagem da população (considerando o caso brasileiro com população total de cerca de 200 milhões)."
   ]
  },
  {
   "cell_type": "markdown",
   "metadata": {},
   "source": [
    "**Há sempre características inúteis.** No caso da genômica, nem todos os genes estão ativos em um determinado momento - apenas uma fração deles contribui para o fenômeno de interesse. Em uma imagem de 800x600 de um gato, apenas uma pequena parte dos pixels descreverá realmente o gato, com o restante sendo objetos que não são de interesse. Da mesma forma, por mais rica que seja a informação das características de um indivíduo, apenas algumas contribuirão para seu comportamento de crédito.\n",
    "\n",
    "**Nosso objetivo é então encontrar maneiras sistemáticas de filtrar características inúteis.**\n",
    "\n",
    "É senso comum que, se você tem poucas características, seu modelo pode simplesmente não ter informações suficientes para ter um bom desempenho.\n",
    "\n",
    "Menos óbvio é que ter muitas características também pode ser problemático. Elas podem causar perda de desempenho devido a algumas razões relacionadas:\n",
    "\n",
    "- **Sobreajuste**: quanto mais características, mais difícil será para os pontos terem vizinhos próximos (a chamada maldição da dimensionalidade); você precisará de exponencialmente mais dados para cobrir o espaço de características de maneira significativa. Seu algoritmo é propenso a apenas sobreajustar;\n",
    "\n",
    "- **Ruído**: variáveis inúteis introduzem ruído que pode afetar o treinamento;\n",
    "\n",
    "- **Considerações de tempo/espaço**: quanto mais dimensões, mais memória seu computador precisa, e mais tempo levará para treinamento, otimização de hiperparâmetros, etc.\n",
    "\n",
    "Um dos métodos para seleção de características é o algoritmo Boruta, introduzido em 2010 por Kursa e Rudnicki. Ele se provou consistentemente como uma ferramenta poderosa para seleção direta de boas características em casos com milhares de características.\n",
    "\n",
    "De maneira simples, o Boruta funciona da seguinte forma: para cada característica, digamos `x1`, o Boruta cria uma cópia `x1_copy` (chamada de *sombra* pelos autores) e então mistura aleatoriamente os valores entre todos os pontos, criando ruído.\n",
    "\n",
    "Ele então ajusta um modelo (geralmente uma floresta aleatória) implementando um método de importância de características e analisa como a importância da característica original se compara às cópias ruidosas. Se elas forem significativamente diferentes, então `x1` é considerada valiosa e mantida; se não, significa que `x1` é basicamente ruído, e é removida."
   ]
  },
  {
   "cell_type": "markdown",
   "metadata": {},
   "source": [
    "No caso de desequilíbrio de classes, **não use o upsampling**; em vez disso, faça uma validação cruzada com um **undersampling** da classe majoritária durante a seleção de características. Para o Boruta, use um **classificador base RandomForest com pesos**: `class_weight='balanced_subsample'`, e para o modelo final (treinado com todo o conjunto de treinamento usando as características selecionadas), veja se usar `class_weight` dá um resultado melhor do que não usá-lo.\n",
    "\n",
    "O parâmetro `perc` é um parâmetro extremamente importante introduzido na versão Python. Ele basicamente define quão \"flexível\" queremos ser com nossas características: `perc=100` é o mais rigoroso, e quanto mais próximo de 0, mais flexíveis somos ao permitir que características menos importantes sejam selecionadas.\n",
    "\n",
    "Usaremos o Boruta com florestas aleatórias.\n",
    "\n",
    "Como observado pelo próprio autor (em *Boruta para quem tem pressa*, Miron B. Kursa, 21 de maio de 2020), é importante que tenhamos um número suficiente de árvores:\n",
    "> \"Para conjuntos de dados com muitas características, a configuração padrão da fonte de importância provavelmente é insuficiente; no caso particular do Random Forest, o número de árvores muitas vezes não é grande o suficiente para permitir que os escores de importância se estabilizem, o que, por sua vez, muitas vezes leva a falsos negativos e resultados instáveis.\"\n",
    "\n",
    "Isso pode ser resolvido permitindo que o próprio Boruta identifique um número ótimo de árvores."
   ]
  },
  {
   "cell_type": "code",
   "execution_count": 28,
   "metadata": {},
   "outputs": [],
   "source": [
    "from sklearn.datasets import make_classification\n",
    "from sklearn.ensemble import RandomForestClassifier\n",
    "from sklearn.model_selection import train_test_split\n",
    "\n",
    "from boruta.boruta_py import BorutaPy\n",
    "from sklearn.ensemble import RandomForestClassifier"
   ]
  },
  {
   "cell_type": "code",
   "execution_count": 29,
   "metadata": {},
   "outputs": [],
   "source": [
    "def select_feature_boruta(X, y, \n",
    "                         perc=100,\n",
    "                         alpha=0.05,\n",
    "                         max_iter=100,\n",
    "                         max_depth=7,\n",
    "                         n_estimators='auto',\n",
    "                         n_jobs=1):\n",
    "\n",
    "    X_is_df = isinstance(X, pd.DataFrame)\n",
    "    y_is_df = isinstance(y, pd.Series)\n",
    "        \n",
    "    selector = BorutaPy(\n",
    "            estimator=RandomForestClassifier(n_estimators=100, max_depth=max_depth, n_jobs=n_jobs),\n",
    "            n_estimators=n_estimators,\n",
    "            perc=perc,      \n",
    "            alpha=alpha,    \n",
    "            max_iter=max_iter,\n",
    "            random_state=1,\n",
    "            verbose=0,\n",
    "        )\n",
    "\n",
    "    # boruta needs a numpy array, not a dataframe\n",
    "    X_train = X.values if X_is_df else X\n",
    "    y_train = y.values if y_is_df else y\n",
    "\n",
    "    selector.fit(X_train, y_train) \n",
    "        \n",
    "    if X_is_df:\n",
    "        columns = X.columns\n",
    "        return sorted(np.array(columns)[selector.support_.tolist()])\n",
    "    else:\n",
    "        return sorted(selector.support_.tolist())"
   ]
  },
  {
   "cell_type": "code",
   "execution_count": 30,
   "metadata": {},
   "outputs": [
    {
     "ename": "AttributeError",
     "evalue": "module 'numpy' has no attribute 'int'.\n`np.int` was a deprecated alias for the builtin `int`. To avoid this error in existing code, use `int` by itself. Doing this will not modify any behavior and is safe. When replacing `np.int`, you may wish to use e.g. `np.int64` or `np.int32` to specify the precision. If you wish to review your current use, check the release note link for additional information.\nThe aliases was originally deprecated in NumPy 1.20; for more details and guidance see the original release note at:\n    https://numpy.org/devdocs/release/1.20.0-notes.html#deprecations",
     "output_type": "error",
     "traceback": [
      "\u001b[1;31m---------------------------------------------------------------------------\u001b[0m",
      "\u001b[1;31mAttributeError\u001b[0m                            Traceback (most recent call last)",
      "Cell \u001b[1;32mIn [30], line 1\u001b[0m\n\u001b[1;32m----> 1\u001b[0m selected_features \u001b[38;5;241m=\u001b[39m \u001b[43mselect_feature_boruta\u001b[49m\u001b[43m(\u001b[49m\u001b[43mX_train\u001b[49m\u001b[43m,\u001b[49m\u001b[43m \u001b[49m\u001b[43my_train\u001b[49m\u001b[43m,\u001b[49m\u001b[43m \u001b[49m\u001b[43mn_jobs\u001b[49m\u001b[38;5;241;43m=\u001b[39;49m\u001b[38;5;241;43m10\u001b[39;49m\u001b[43m)\u001b[49m\n\u001b[0;32m      2\u001b[0m selected_features\n",
      "Cell \u001b[1;32mIn [29], line 26\u001b[0m, in \u001b[0;36mselect_feature_boruta\u001b[1;34m(X, y, perc, alpha, max_iter, max_depth, n_estimators, n_jobs)\u001b[0m\n\u001b[0;32m     23\u001b[0m X_train \u001b[38;5;241m=\u001b[39m X\u001b[38;5;241m.\u001b[39mvalues \u001b[38;5;28;01mif\u001b[39;00m X_is_df \u001b[38;5;28;01melse\u001b[39;00m X\n\u001b[0;32m     24\u001b[0m y_train \u001b[38;5;241m=\u001b[39m y\u001b[38;5;241m.\u001b[39mvalues \u001b[38;5;28;01mif\u001b[39;00m y_is_df \u001b[38;5;28;01melse\u001b[39;00m y\n\u001b[1;32m---> 26\u001b[0m \u001b[43mselector\u001b[49m\u001b[38;5;241;43m.\u001b[39;49m\u001b[43mfit\u001b[49m\u001b[43m(\u001b[49m\u001b[43mX_train\u001b[49m\u001b[43m,\u001b[49m\u001b[43m \u001b[49m\u001b[43my_train\u001b[49m\u001b[43m)\u001b[49m \n\u001b[0;32m     28\u001b[0m \u001b[38;5;28;01mif\u001b[39;00m X_is_df:\n\u001b[0;32m     29\u001b[0m     columns \u001b[38;5;241m=\u001b[39m X\u001b[38;5;241m.\u001b[39mcolumns\n",
      "File \u001b[1;32mc:\\Users\\arthu\\AppData\\Local\\Programs\\Python\\Python310\\lib\\site-packages\\boruta\\boruta_py.py:201\u001b[0m, in \u001b[0;36mBorutaPy.fit\u001b[1;34m(self, X, y)\u001b[0m\n\u001b[0;32m    188\u001b[0m \u001b[38;5;28;01mdef\u001b[39;00m \u001b[38;5;21mfit\u001b[39m(\u001b[38;5;28mself\u001b[39m, X, y):\n\u001b[0;32m    189\u001b[0m     \u001b[38;5;124;03m\"\"\"\u001b[39;00m\n\u001b[0;32m    190\u001b[0m \u001b[38;5;124;03m    Fits the Boruta feature selection with the provided estimator.\u001b[39;00m\n\u001b[0;32m    191\u001b[0m \n\u001b[1;32m   (...)\u001b[0m\n\u001b[0;32m    198\u001b[0m \u001b[38;5;124;03m        The target values.\u001b[39;00m\n\u001b[0;32m    199\u001b[0m \u001b[38;5;124;03m    \"\"\"\u001b[39;00m\n\u001b[1;32m--> 201\u001b[0m     \u001b[38;5;28;01mreturn\u001b[39;00m \u001b[38;5;28;43mself\u001b[39;49m\u001b[38;5;241;43m.\u001b[39;49m\u001b[43m_fit\u001b[49m\u001b[43m(\u001b[49m\u001b[43mX\u001b[49m\u001b[43m,\u001b[49m\u001b[43m \u001b[49m\u001b[43my\u001b[49m\u001b[43m)\u001b[49m\n",
      "File \u001b[1;32mc:\\Users\\arthu\\AppData\\Local\\Programs\\Python\\Python310\\lib\\site-packages\\boruta\\boruta_py.py:260\u001b[0m, in \u001b[0;36mBorutaPy._fit\u001b[1;34m(self, X, y)\u001b[0m\n\u001b[0;32m    255\u001b[0m _iter \u001b[38;5;241m=\u001b[39m \u001b[38;5;241m1\u001b[39m\n\u001b[0;32m    256\u001b[0m \u001b[38;5;66;03m# holds the decision about each feature:\u001b[39;00m\n\u001b[0;32m    257\u001b[0m \u001b[38;5;66;03m# 0  - default state = tentative in original code\u001b[39;00m\n\u001b[0;32m    258\u001b[0m \u001b[38;5;66;03m# 1  - accepted in original code\u001b[39;00m\n\u001b[0;32m    259\u001b[0m \u001b[38;5;66;03m# -1 - rejected in original code\u001b[39;00m\n\u001b[1;32m--> 260\u001b[0m dec_reg \u001b[38;5;241m=\u001b[39m np\u001b[38;5;241m.\u001b[39mzeros(n_feat, dtype\u001b[38;5;241m=\u001b[39m\u001b[43mnp\u001b[49m\u001b[38;5;241;43m.\u001b[39;49m\u001b[43mint\u001b[49m)\n\u001b[0;32m    261\u001b[0m \u001b[38;5;66;03m# counts how many times a given feature was more important than\u001b[39;00m\n\u001b[0;32m    262\u001b[0m \u001b[38;5;66;03m# the best of the shadow features\u001b[39;00m\n\u001b[0;32m    263\u001b[0m hit_reg \u001b[38;5;241m=\u001b[39m np\u001b[38;5;241m.\u001b[39mzeros(n_feat, dtype\u001b[38;5;241m=\u001b[39mnp\u001b[38;5;241m.\u001b[39mint)\n",
      "File \u001b[1;32mc:\\Users\\arthu\\AppData\\Local\\Programs\\Python\\Python310\\lib\\site-packages\\numpy\\__init__.py:305\u001b[0m, in \u001b[0;36m__getattr__\u001b[1;34m(attr)\u001b[0m\n\u001b[0;32m    300\u001b[0m     warnings\u001b[38;5;241m.\u001b[39mwarn(\n\u001b[0;32m    301\u001b[0m         \u001b[38;5;124mf\u001b[39m\u001b[38;5;124m\"\u001b[39m\u001b[38;5;124mIn the future `np.\u001b[39m\u001b[38;5;132;01m{\u001b[39;00mattr\u001b[38;5;132;01m}\u001b[39;00m\u001b[38;5;124m` will be defined as the \u001b[39m\u001b[38;5;124m\"\u001b[39m\n\u001b[0;32m    302\u001b[0m         \u001b[38;5;124m\"\u001b[39m\u001b[38;5;124mcorresponding NumPy scalar.\u001b[39m\u001b[38;5;124m\"\u001b[39m, \u001b[38;5;167;01mFutureWarning\u001b[39;00m, stacklevel\u001b[38;5;241m=\u001b[39m\u001b[38;5;241m2\u001b[39m)\n\u001b[0;32m    304\u001b[0m \u001b[38;5;28;01mif\u001b[39;00m attr \u001b[38;5;129;01min\u001b[39;00m __former_attrs__:\n\u001b[1;32m--> 305\u001b[0m     \u001b[38;5;28;01mraise\u001b[39;00m \u001b[38;5;167;01mAttributeError\u001b[39;00m(__former_attrs__[attr])\n\u001b[0;32m    307\u001b[0m \u001b[38;5;66;03m# Importing Tester requires importing all of UnitTest which is not a\u001b[39;00m\n\u001b[0;32m    308\u001b[0m \u001b[38;5;66;03m# cheap import Since it is mainly used in test suits, we lazy import it\u001b[39;00m\n\u001b[0;32m    309\u001b[0m \u001b[38;5;66;03m# here to save on the order of 10 ms of import time for most users\u001b[39;00m\n\u001b[0;32m    310\u001b[0m \u001b[38;5;66;03m#\u001b[39;00m\n\u001b[0;32m    311\u001b[0m \u001b[38;5;66;03m# The previous way Tester was imported also had a side effect of adding\u001b[39;00m\n\u001b[0;32m    312\u001b[0m \u001b[38;5;66;03m# the full `numpy.testing` namespace\u001b[39;00m\n\u001b[0;32m    313\u001b[0m \u001b[38;5;28;01mif\u001b[39;00m attr \u001b[38;5;241m==\u001b[39m \u001b[38;5;124m'\u001b[39m\u001b[38;5;124mtesting\u001b[39m\u001b[38;5;124m'\u001b[39m:\n",
      "\u001b[1;31mAttributeError\u001b[0m: module 'numpy' has no attribute 'int'.\n`np.int` was a deprecated alias for the builtin `int`. To avoid this error in existing code, use `int` by itself. Doing this will not modify any behavior and is safe. When replacing `np.int`, you may wish to use e.g. `np.int64` or `np.int32` to specify the precision. If you wish to review your current use, check the release note link for additional information.\nThe aliases was originally deprecated in NumPy 1.20; for more details and guidance see the original release note at:\n    https://numpy.org/devdocs/release/1.20.0-notes.html#deprecations"
     ]
    }
   ],
   "source": [
    "selected_features = select_feature_boruta(X_train, y_train, n_jobs=10)\n",
    "selected_features"
   ]
  },
  {
   "cell_type": "markdown",
   "metadata": {},
   "source": []
  },
  {
   "cell_type": "markdown",
   "metadata": {},
   "source": []
  }
 ],
 "metadata": {
  "kernelspec": {
   "display_name": "Python 3",
   "language": "python",
   "name": "python3"
  },
  "language_info": {
   "codemirror_mode": {
    "name": "ipython",
    "version": 3
   },
   "file_extension": ".py",
   "mimetype": "text/x-python",
   "name": "python",
   "nbconvert_exporter": "python",
   "pygments_lexer": "ipython3",
   "version": "3.10.5"
  }
 },
 "nbformat": 4,
 "nbformat_minor": 2
}
