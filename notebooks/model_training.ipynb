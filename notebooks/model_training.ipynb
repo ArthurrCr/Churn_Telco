{
 "cells": [
  {
   "cell_type": "code",
   "execution_count": 1,
   "metadata": {},
   "outputs": [],
   "source": [
    "import pandas as pd\n",
    "import numpy as np\n",
    "import matplotlib.pyplot as plt\n",
    "import seaborn as sns\n",
    "import xgboost as xgb\n",
    "from sklearn.model_selection import train_test_split\n",
    "from sklearn.metrics import accuracy_score, classification_report\n",
    "from tensorflow.keras.models import Sequential\n",
    "from tensorflow.keras.layers import Dense, Dropout\n",
    "from tensorflow.keras.losses import BinaryCrossentropy\n",
    "from tensorflow.keras.regularizers import l2\n",
    "from tensorflow.keras.callbacks import EarlyStopping, ModelCheckpoint\n",
    "from imblearn.over_sampling import SMOTE\n",
    "from imblearn.under_sampling import RandomUnderSampler"
   ]
  },
  {
   "cell_type": "code",
   "execution_count": 2,
   "metadata": {},
   "outputs": [],
   "source": [
    "# Carregamento dos dados\n",
    "dataset = pd.read_csv('../data/WA_Fn-UseC_-Telco-Customer-Churn.csv')"
   ]
  },
  {
   "cell_type": "code",
   "execution_count": 3,
   "metadata": {},
   "outputs": [],
   "source": [
    "# Convertendo as variáveis categóricas em variáveis dummy menos customerID\n",
    "dataset_dummies = pd.get_dummies(dataset.drop('customerID', axis=1))\n",
    "\n",
    "# Dividindo os dados em características e target\n",
    "X = dataset_dummies.drop(['Churn_Yes', 'Churn_No'], axis=1)  # Características\n",
    "y = dataset_dummies['Churn_Yes']  # Churn_Yes ja tem 0 e 1\n",
    "\n",
    "# Dividindo os dados em conjuntos de treinamento e teste\n",
    "X_train, X_test, y_train, y_test = train_test_split(X, y, test_size=0.1, random_state=42)"
   ]
  },
  {
   "cell_type": "markdown",
   "metadata": {},
   "source": [
    "# XGBoost"
   ]
  },
  {
   "cell_type": "code",
   "execution_count": 4,
   "metadata": {},
   "outputs": [],
   "source": [
    "# Configuração do modelo XGBoost\n",
    "xg_model = xgb.XGBClassifier(\n",
    "    n_estimators=100,\n",
    "    learning_rate=0.1,\n",
    "    max_depth=5,\n",
    "    subsample=0.5,\n",
    "    colsample_bytree=0.5,\n",
    "    objective='binary:logistic',\n",
    "    random_state=42\n",
    ")"
   ]
  },
  {
   "cell_type": "code",
   "execution_count": 5,
   "metadata": {},
   "outputs": [
    {
     "data": {
      "text/html": [
       "<style>#sk-container-id-1 {color: black;background-color: white;}#sk-container-id-1 pre{padding: 0;}#sk-container-id-1 div.sk-toggleable {background-color: white;}#sk-container-id-1 label.sk-toggleable__label {cursor: pointer;display: block;width: 100%;margin-bottom: 0;padding: 0.3em;box-sizing: border-box;text-align: center;}#sk-container-id-1 label.sk-toggleable__label-arrow:before {content: \"▸\";float: left;margin-right: 0.25em;color: #696969;}#sk-container-id-1 label.sk-toggleable__label-arrow:hover:before {color: black;}#sk-container-id-1 div.sk-estimator:hover label.sk-toggleable__label-arrow:before {color: black;}#sk-container-id-1 div.sk-toggleable__content {max-height: 0;max-width: 0;overflow: hidden;text-align: left;background-color: #f0f8ff;}#sk-container-id-1 div.sk-toggleable__content pre {margin: 0.2em;color: black;border-radius: 0.25em;background-color: #f0f8ff;}#sk-container-id-1 input.sk-toggleable__control:checked~div.sk-toggleable__content {max-height: 200px;max-width: 100%;overflow: auto;}#sk-container-id-1 input.sk-toggleable__control:checked~label.sk-toggleable__label-arrow:before {content: \"▾\";}#sk-container-id-1 div.sk-estimator input.sk-toggleable__control:checked~label.sk-toggleable__label {background-color: #d4ebff;}#sk-container-id-1 div.sk-label input.sk-toggleable__control:checked~label.sk-toggleable__label {background-color: #d4ebff;}#sk-container-id-1 input.sk-hidden--visually {border: 0;clip: rect(1px 1px 1px 1px);clip: rect(1px, 1px, 1px, 1px);height: 1px;margin: -1px;overflow: hidden;padding: 0;position: absolute;width: 1px;}#sk-container-id-1 div.sk-estimator {font-family: monospace;background-color: #f0f8ff;border: 1px dotted black;border-radius: 0.25em;box-sizing: border-box;margin-bottom: 0.5em;}#sk-container-id-1 div.sk-estimator:hover {background-color: #d4ebff;}#sk-container-id-1 div.sk-parallel-item::after {content: \"\";width: 100%;border-bottom: 1px solid gray;flex-grow: 1;}#sk-container-id-1 div.sk-label:hover label.sk-toggleable__label {background-color: #d4ebff;}#sk-container-id-1 div.sk-serial::before {content: \"\";position: absolute;border-left: 1px solid gray;box-sizing: border-box;top: 0;bottom: 0;left: 50%;z-index: 0;}#sk-container-id-1 div.sk-serial {display: flex;flex-direction: column;align-items: center;background-color: white;padding-right: 0.2em;padding-left: 0.2em;position: relative;}#sk-container-id-1 div.sk-item {position: relative;z-index: 1;}#sk-container-id-1 div.sk-parallel {display: flex;align-items: stretch;justify-content: center;background-color: white;position: relative;}#sk-container-id-1 div.sk-item::before, #sk-container-id-1 div.sk-parallel-item::before {content: \"\";position: absolute;border-left: 1px solid gray;box-sizing: border-box;top: 0;bottom: 0;left: 50%;z-index: -1;}#sk-container-id-1 div.sk-parallel-item {display: flex;flex-direction: column;z-index: 1;position: relative;background-color: white;}#sk-container-id-1 div.sk-parallel-item:first-child::after {align-self: flex-end;width: 50%;}#sk-container-id-1 div.sk-parallel-item:last-child::after {align-self: flex-start;width: 50%;}#sk-container-id-1 div.sk-parallel-item:only-child::after {width: 0;}#sk-container-id-1 div.sk-dashed-wrapped {border: 1px dashed gray;margin: 0 0.4em 0.5em 0.4em;box-sizing: border-box;padding-bottom: 0.4em;background-color: white;}#sk-container-id-1 div.sk-label label {font-family: monospace;font-weight: bold;display: inline-block;line-height: 1.2em;}#sk-container-id-1 div.sk-label-container {text-align: center;}#sk-container-id-1 div.sk-container {/* jupyter's `normalize.less` sets `[hidden] { display: none; }` but bootstrap.min.css set `[hidden] { display: none !important; }` so we also need the `!important` here to be able to override the default hidden behavior on the sphinx rendered scikit-learn.org. See: https://github.com/scikit-learn/scikit-learn/issues/21755 */display: inline-block !important;position: relative;}#sk-container-id-1 div.sk-text-repr-fallback {display: none;}</style><div id=\"sk-container-id-1\" class=\"sk-top-container\"><div class=\"sk-text-repr-fallback\"><pre>XGBClassifier(base_score=None, booster=None, callbacks=None,\n",
       "              colsample_bylevel=None, colsample_bynode=None,\n",
       "              colsample_bytree=0.5, device=None, early_stopping_rounds=None,\n",
       "              enable_categorical=False, eval_metric=None, feature_types=None,\n",
       "              gamma=None, grow_policy=None, importance_type=None,\n",
       "              interaction_constraints=None, learning_rate=0.1, max_bin=None,\n",
       "              max_cat_threshold=None, max_cat_to_onehot=None,\n",
       "              max_delta_step=None, max_depth=5, max_leaves=None,\n",
       "              min_child_weight=None, missing=nan, monotone_constraints=None,\n",
       "              multi_strategy=None, n_estimators=100, n_jobs=None,\n",
       "              num_parallel_tree=None, random_state=42, ...)</pre><b>In a Jupyter environment, please rerun this cell to show the HTML representation or trust the notebook. <br />On GitHub, the HTML representation is unable to render, please try loading this page with nbviewer.org.</b></div><div class=\"sk-container\" hidden><div class=\"sk-item\"><div class=\"sk-estimator sk-toggleable\"><input class=\"sk-toggleable__control sk-hidden--visually\" id=\"sk-estimator-id-1\" type=\"checkbox\" checked><label for=\"sk-estimator-id-1\" class=\"sk-toggleable__label sk-toggleable__label-arrow\">XGBClassifier</label><div class=\"sk-toggleable__content\"><pre>XGBClassifier(base_score=None, booster=None, callbacks=None,\n",
       "              colsample_bylevel=None, colsample_bynode=None,\n",
       "              colsample_bytree=0.5, device=None, early_stopping_rounds=None,\n",
       "              enable_categorical=False, eval_metric=None, feature_types=None,\n",
       "              gamma=None, grow_policy=None, importance_type=None,\n",
       "              interaction_constraints=None, learning_rate=0.1, max_bin=None,\n",
       "              max_cat_threshold=None, max_cat_to_onehot=None,\n",
       "              max_delta_step=None, max_depth=5, max_leaves=None,\n",
       "              min_child_weight=None, missing=nan, monotone_constraints=None,\n",
       "              multi_strategy=None, n_estimators=100, n_jobs=None,\n",
       "              num_parallel_tree=None, random_state=42, ...)</pre></div></div></div></div></div>"
      ],
      "text/plain": [
       "XGBClassifier(base_score=None, booster=None, callbacks=None,\n",
       "              colsample_bylevel=None, colsample_bynode=None,\n",
       "              colsample_bytree=0.5, device=None, early_stopping_rounds=None,\n",
       "              enable_categorical=False, eval_metric=None, feature_types=None,\n",
       "              gamma=None, grow_policy=None, importance_type=None,\n",
       "              interaction_constraints=None, learning_rate=0.1, max_bin=None,\n",
       "              max_cat_threshold=None, max_cat_to_onehot=None,\n",
       "              max_delta_step=None, max_depth=5, max_leaves=None,\n",
       "              min_child_weight=None, missing=nan, monotone_constraints=None,\n",
       "              multi_strategy=None, n_estimators=100, n_jobs=None,\n",
       "              num_parallel_tree=None, random_state=42, ...)"
      ]
     },
     "execution_count": 5,
     "metadata": {},
     "output_type": "execute_result"
    }
   ],
   "source": [
    "xg_model.fit(X_train, y_train)"
   ]
  },
  {
   "cell_type": "code",
   "execution_count": 6,
   "metadata": {},
   "outputs": [
    {
     "name": "stdout",
     "output_type": "stream",
     "text": [
      "Accuracy: 0.8042553191489362\n",
      "              precision    recall  f1-score   support\n",
      "\n",
      "       False       0.84      0.91      0.87       511\n",
      "        True       0.68      0.54      0.60       194\n",
      "\n",
      "    accuracy                           0.80       705\n",
      "   macro avg       0.76      0.72      0.74       705\n",
      "weighted avg       0.80      0.80      0.80       705\n",
      "\n"
     ]
    }
   ],
   "source": [
    "predictions = xg_model.predict(X_test)\n",
    "print(\"Accuracy:\", accuracy_score(y_test, predictions))\n",
    "print(classification_report(y_test, predictions))"
   ]
  },
  {
   "cell_type": "markdown",
   "metadata": {},
   "source": [
    "# Rede neural"
   ]
  },
  {
   "cell_type": "code",
   "execution_count": 7,
   "metadata": {},
   "outputs": [
    {
     "name": "stdout",
     "output_type": "stream",
     "text": [
      "Model: \"sequential\"\n",
      "_________________________________________________________________\n",
      " Layer (type)                Output Shape              Param #   \n",
      "=================================================================\n",
      " dense (Dense)               (None, 128)               841728    \n",
      "                                                                 \n",
      " dropout (Dropout)           (None, 128)               0         \n",
      "                                                                 \n",
      " dense_1 (Dense)             (None, 64)                8256      \n",
      "                                                                 \n",
      " dropout_1 (Dropout)         (None, 64)                0         \n",
      "                                                                 \n",
      " dense_2 (Dense)             (None, 32)                2080      \n",
      "                                                                 \n",
      " dropout_2 (Dropout)         (None, 32)                0         \n",
      "                                                                 \n",
      " dense_3 (Dense)             (None, 1)                 33        \n",
      "                                                                 \n",
      "=================================================================\n",
      "Total params: 852,097\n",
      "Trainable params: 852,097\n",
      "Non-trainable params: 0\n",
      "_________________________________________________________________\n"
     ]
    }
   ],
   "source": [
    "# Define the model\n",
    "nn_model = Sequential([\n",
    "    Dense(128, activation='relu', input_shape=(X_train.shape[1],), kernel_regularizer=l2(0.01)), \n",
    "    Dropout(0.3), \n",
    "    Dense(64, activation='relu', kernel_regularizer=l2(0.01)),\n",
    "    Dropout(0.3), \n",
    "    Dense(32, activation='relu', kernel_regularizer=l2(0.01)),\n",
    "    Dropout(0.3), \n",
    "    Dense(1, activation='sigmoid') \n",
    "])\n",
    "\n",
    "# Compile the model\n",
    "nn_model.compile(optimizer='adam',\n",
    "              loss= BinaryCrossentropy(from_logits=False), \n",
    "              metrics=['accuracy'])\n",
    "\n",
    "# Print the model summary\n",
    "nn_model.summary()"
   ]
  },
  {
   "cell_type": "code",
   "execution_count": 8,
   "metadata": {},
   "outputs": [],
   "source": [
    "# Convert data types\n",
    "X_train = X_train.astype('float32')\n",
    "y_train = y_train.astype('float32')"
   ]
  },
  {
   "cell_type": "code",
   "execution_count": 9,
   "metadata": {},
   "outputs": [
    {
     "name": "stdout",
     "output_type": "stream",
     "text": [
      "Epoch 1/50\n",
      "177/179 [============================>.] - ETA: 0s - loss: 1.3456 - accuracy: 0.7592\n",
      "Epoch 1: val_loss improved from inf to 0.81458, saving model to best_model.h5\n",
      "179/179 [==============================] - 3s 12ms/step - loss: 1.3423 - accuracy: 0.7588 - val_loss: 0.8146 - val_accuracy: 0.7997\n",
      "Epoch 2/50\n",
      "175/179 [============================>.] - ETA: 0s - loss: 0.7292 - accuracy: 0.7796\n",
      "Epoch 2: val_loss improved from 0.81458 to 0.60335, saving model to best_model.h5\n",
      "179/179 [==============================] - 2s 12ms/step - loss: 0.7279 - accuracy: 0.7800 - val_loss: 0.6033 - val_accuracy: 0.7981\n",
      "Epoch 3/50\n",
      "176/179 [============================>.] - ETA: 0s - loss: 0.5891 - accuracy: 0.7814\n",
      "Epoch 3: val_loss improved from 0.60335 to 0.52158, saving model to best_model.h5\n",
      "179/179 [==============================] - 2s 11ms/step - loss: 0.5901 - accuracy: 0.7807 - val_loss: 0.5216 - val_accuracy: 0.7997\n",
      "Epoch 4/50\n",
      "179/179 [==============================] - ETA: 0s - loss: 0.5315 - accuracy: 0.7877\n",
      "Epoch 4: val_loss improved from 0.52158 to 0.48552, saving model to best_model.h5\n",
      "179/179 [==============================] - 2s 12ms/step - loss: 0.5315 - accuracy: 0.7877 - val_loss: 0.4855 - val_accuracy: 0.7965\n",
      "Epoch 5/50\n",
      "179/179 [==============================] - ETA: 0s - loss: 0.5032 - accuracy: 0.7845\n",
      "Epoch 5: val_loss improved from 0.48552 to 0.46923, saving model to best_model.h5\n",
      "179/179 [==============================] - 2s 13ms/step - loss: 0.5032 - accuracy: 0.7845 - val_loss: 0.4692 - val_accuracy: 0.7981\n",
      "Epoch 6/50\n",
      "177/179 [============================>.] - ETA: 0s - loss: 0.4895 - accuracy: 0.7860\n",
      "Epoch 6: val_loss improved from 0.46923 to 0.45781, saving model to best_model.h5\n",
      "179/179 [==============================] - 2s 12ms/step - loss: 0.4900 - accuracy: 0.7858 - val_loss: 0.4578 - val_accuracy: 0.7997\n",
      "Epoch 7/50\n",
      "177/179 [============================>.] - ETA: 0s - loss: 0.4874 - accuracy: 0.7883\n",
      "Epoch 7: val_loss improved from 0.45781 to 0.45155, saving model to best_model.h5\n",
      "179/179 [==============================] - 2s 12ms/step - loss: 0.4865 - accuracy: 0.7887 - val_loss: 0.4515 - val_accuracy: 0.7997\n",
      "Epoch 8/50\n",
      "178/179 [============================>.] - ETA: 0s - loss: 0.4803 - accuracy: 0.7834\n",
      "Epoch 8: val_loss did not improve from 0.45155\n",
      "179/179 [==============================] - 2s 12ms/step - loss: 0.4802 - accuracy: 0.7835 - val_loss: 0.4620 - val_accuracy: 0.7902\n",
      "Epoch 9/50\n",
      "174/179 [============================>.] - ETA: 0s - loss: 0.4765 - accuracy: 0.7838\n",
      "Epoch 9: val_loss improved from 0.45155 to 0.45096, saving model to best_model.h5\n",
      "179/179 [==============================] - 2s 13ms/step - loss: 0.4763 - accuracy: 0.7842 - val_loss: 0.4510 - val_accuracy: 0.7950\n",
      "Epoch 10/50\n",
      "177/179 [============================>.] - ETA: 0s - loss: 0.4776 - accuracy: 0.7864\n",
      "Epoch 10: val_loss improved from 0.45096 to 0.44665, saving model to best_model.h5\n",
      "179/179 [==============================] - 2s 12ms/step - loss: 0.4786 - accuracy: 0.7852 - val_loss: 0.4467 - val_accuracy: 0.8013\n",
      "Epoch 11/50\n",
      "176/179 [============================>.] - ETA: 0s - loss: 0.4770 - accuracy: 0.7887\n",
      "Epoch 11: val_loss did not improve from 0.44665\n",
      "179/179 [==============================] - 2s 11ms/step - loss: 0.4763 - accuracy: 0.7893 - val_loss: 0.4471 - val_accuracy: 0.7950\n",
      "Epoch 12/50\n",
      "177/179 [============================>.] - ETA: 0s - loss: 0.4733 - accuracy: 0.7867\n",
      "Epoch 12: val_loss improved from 0.44665 to 0.44594, saving model to best_model.h5\n",
      "179/179 [==============================] - 2s 14ms/step - loss: 0.4727 - accuracy: 0.7870 - val_loss: 0.4459 - val_accuracy: 0.7965\n",
      "Epoch 13/50\n",
      "178/179 [============================>.] - ETA: 0s - loss: 0.4745 - accuracy: 0.7842\n",
      "Epoch 13: val_loss improved from 0.44594 to 0.44467, saving model to best_model.h5\n",
      "179/179 [==============================] - 2s 12ms/step - loss: 0.4743 - accuracy: 0.7844 - val_loss: 0.4447 - val_accuracy: 0.7950\n",
      "Epoch 14/50\n",
      "177/179 [============================>.] - ETA: 0s - loss: 0.4771 - accuracy: 0.7869\n",
      "Epoch 14: val_loss did not improve from 0.44467\n",
      "179/179 [==============================] - 2s 11ms/step - loss: 0.4773 - accuracy: 0.7861 - val_loss: 0.4666 - val_accuracy: 0.7729\n",
      "Epoch 15/50\n",
      "179/179 [==============================] - ETA: 0s - loss: 0.4746 - accuracy: 0.7863\n",
      "Epoch 15: val_loss did not improve from 0.44467\n",
      "179/179 [==============================] - 2s 10ms/step - loss: 0.4746 - accuracy: 0.7863 - val_loss: 0.4449 - val_accuracy: 0.7934\n",
      "Epoch 16/50\n",
      "176/179 [============================>.] - ETA: 0s - loss: 0.4707 - accuracy: 0.7907\n",
      "Epoch 16: val_loss improved from 0.44467 to 0.44397, saving model to best_model.h5\n",
      "179/179 [==============================] - 2s 11ms/step - loss: 0.4699 - accuracy: 0.7907 - val_loss: 0.4440 - val_accuracy: 0.7965\n",
      "Epoch 17/50\n",
      "179/179 [==============================] - ETA: 0s - loss: 0.4734 - accuracy: 0.7889\n",
      "Epoch 17: val_loss improved from 0.44397 to 0.44108, saving model to best_model.h5\n",
      "179/179 [==============================] - 2s 12ms/step - loss: 0.4734 - accuracy: 0.7889 - val_loss: 0.4411 - val_accuracy: 0.8013\n",
      "Epoch 18/50\n",
      "174/179 [============================>.] - ETA: 0s - loss: 0.4736 - accuracy: 0.7947\n",
      "Epoch 18: val_loss improved from 0.44108 to 0.43958, saving model to best_model.h5\n",
      "179/179 [==============================] - 2s 11ms/step - loss: 0.4721 - accuracy: 0.7959 - val_loss: 0.4396 - val_accuracy: 0.7965\n",
      "Epoch 19/50\n",
      "178/179 [============================>.] - ETA: 0s - loss: 0.4715 - accuracy: 0.7941\n",
      "Epoch 19: val_loss did not improve from 0.43958\n",
      "179/179 [==============================] - 2s 12ms/step - loss: 0.4716 - accuracy: 0.7942 - val_loss: 0.4397 - val_accuracy: 0.7950\n",
      "Epoch 20/50\n",
      "176/179 [============================>.] - ETA: 0s - loss: 0.4728 - accuracy: 0.7846\n",
      "Epoch 20: val_loss did not improve from 0.43958\n",
      "179/179 [==============================] - 2s 13ms/step - loss: 0.4738 - accuracy: 0.7840 - val_loss: 0.4441 - val_accuracy: 0.7997\n",
      "Epoch 21/50\n",
      "174/179 [============================>.] - ETA: 0s - loss: 0.4766 - accuracy: 0.7859\n",
      "Epoch 21: val_loss did not improve from 0.43958\n",
      "179/179 [==============================] - 2s 13ms/step - loss: 0.4758 - accuracy: 0.7865 - val_loss: 0.4459 - val_accuracy: 0.8060\n",
      "Epoch 22/50\n",
      "178/179 [============================>.] - ETA: 0s - loss: 0.4724 - accuracy: 0.7860\n",
      "Epoch 22: val_loss did not improve from 0.43958\n",
      "179/179 [==============================] - 2s 11ms/step - loss: 0.4724 - accuracy: 0.7861 - val_loss: 0.4781 - val_accuracy: 0.7539\n",
      "Epoch 23/50\n",
      "175/179 [============================>.] - ETA: 0s - loss: 0.4643 - accuracy: 0.7927\n",
      "Epoch 23: val_loss did not improve from 0.43958\n",
      "179/179 [==============================] - 2s 11ms/step - loss: 0.4657 - accuracy: 0.7923 - val_loss: 0.4439 - val_accuracy: 0.7997\n",
      "Epoch 24/50\n",
      "175/179 [============================>.] - ETA: 0s - loss: 0.4721 - accuracy: 0.7829\n",
      "Epoch 24: val_loss did not improve from 0.43958\n",
      "179/179 [==============================] - 2s 10ms/step - loss: 0.4719 - accuracy: 0.7830 - val_loss: 0.4438 - val_accuracy: 0.8028\n",
      "Epoch 25/50\n",
      "177/179 [============================>.] - ETA: 0s - loss: 0.4658 - accuracy: 0.7918\n",
      "Epoch 25: val_loss did not improve from 0.43958\n",
      "179/179 [==============================] - 2s 12ms/step - loss: 0.4655 - accuracy: 0.7923 - val_loss: 0.4432 - val_accuracy: 0.7918\n",
      "Epoch 26/50\n",
      "178/179 [============================>.] - ETA: 0s - loss: 0.4692 - accuracy: 0.7874\n",
      "Epoch 26: val_loss improved from 0.43958 to 0.43709, saving model to best_model.h5\n",
      "179/179 [==============================] - 2s 11ms/step - loss: 0.4691 - accuracy: 0.7875 - val_loss: 0.4371 - val_accuracy: 0.7997\n",
      "Epoch 27/50\n",
      "179/179 [==============================] - ETA: 0s - loss: 0.4694 - accuracy: 0.7889\n",
      "Epoch 27: val_loss did not improve from 0.43709\n",
      "179/179 [==============================] - 2s 12ms/step - loss: 0.4694 - accuracy: 0.7889 - val_loss: 0.4428 - val_accuracy: 0.7950\n",
      "Epoch 28/50\n",
      "176/179 [============================>.] - ETA: 0s - loss: 0.4741 - accuracy: 0.7846\n",
      "Epoch 28: val_loss did not improve from 0.43709\n",
      "179/179 [==============================] - 2s 11ms/step - loss: 0.4736 - accuracy: 0.7849 - val_loss: 0.4420 - val_accuracy: 0.7950\n",
      "Epoch 29/50\n",
      "178/179 [============================>.] - ETA: 0s - loss: 0.4675 - accuracy: 0.7911\n",
      "Epoch 29: val_loss did not improve from 0.43709\n",
      "179/179 [==============================] - 2s 12ms/step - loss: 0.4674 - accuracy: 0.7910 - val_loss: 0.4436 - val_accuracy: 0.7981\n",
      "Epoch 30/50\n",
      "175/179 [============================>.] - ETA: 0s - loss: 0.4631 - accuracy: 0.7955\n",
      "Epoch 30: val_loss improved from 0.43709 to 0.43625, saving model to best_model.h5\n",
      "179/179 [==============================] - 2s 11ms/step - loss: 0.4647 - accuracy: 0.7945 - val_loss: 0.4363 - val_accuracy: 0.8044\n",
      "Epoch 31/50\n",
      "176/179 [============================>.] - ETA: 0s - loss: 0.4709 - accuracy: 0.7850\n",
      "Epoch 31: val_loss did not improve from 0.43625\n",
      "179/179 [==============================] - 2s 12ms/step - loss: 0.4695 - accuracy: 0.7861 - val_loss: 0.4576 - val_accuracy: 0.7997\n",
      "Epoch 32/50\n",
      "174/179 [============================>.] - ETA: 0s - loss: 0.4710 - accuracy: 0.7917\n",
      "Epoch 32: val_loss did not improve from 0.43625\n",
      "179/179 [==============================] - 2s 12ms/step - loss: 0.4704 - accuracy: 0.7919 - val_loss: 0.4440 - val_accuracy: 0.7965\n",
      "Epoch 33/50\n",
      "178/179 [============================>.] - ETA: 0s - loss: 0.4689 - accuracy: 0.7918\n",
      "Epoch 33: val_loss did not improve from 0.43625\n",
      "179/179 [==============================] - 2s 12ms/step - loss: 0.4687 - accuracy: 0.7919 - val_loss: 0.4485 - val_accuracy: 0.8060\n",
      "Epoch 34/50\n",
      "178/179 [============================>.] - ETA: 0s - loss: 0.4725 - accuracy: 0.7865\n",
      "Epoch 34: val_loss did not improve from 0.43625\n",
      "179/179 [==============================] - 2s 11ms/step - loss: 0.4724 - accuracy: 0.7866 - val_loss: 0.4401 - val_accuracy: 0.7934\n",
      "Epoch 35/50\n",
      "178/179 [============================>.] - ETA: 0s - loss: 0.4672 - accuracy: 0.7902\n",
      "Epoch 35: val_loss did not improve from 0.43625\n",
      "179/179 [==============================] - 2s 13ms/step - loss: 0.4673 - accuracy: 0.7901 - val_loss: 0.4407 - val_accuracy: 0.7997\n",
      "Epoch 36/50\n",
      "177/179 [============================>.] - ETA: 0s - loss: 0.4701 - accuracy: 0.7899\n",
      "Epoch 36: val_loss did not improve from 0.43625\n",
      "179/179 [==============================] - 2s 12ms/step - loss: 0.4704 - accuracy: 0.7898 - val_loss: 0.4459 - val_accuracy: 0.8060\n",
      "Epoch 37/50\n",
      "179/179 [==============================] - ETA: 0s - loss: 0.4694 - accuracy: 0.7891\n",
      "Epoch 37: val_loss did not improve from 0.43625\n",
      "179/179 [==============================] - 2s 14ms/step - loss: 0.4694 - accuracy: 0.7891 - val_loss: 0.4517 - val_accuracy: 0.7823\n",
      "Epoch 38/50\n",
      "179/179 [==============================] - ETA: 0s - loss: 0.4708 - accuracy: 0.7907\n",
      "Epoch 38: val_loss did not improve from 0.43625\n",
      "179/179 [==============================] - 2s 11ms/step - loss: 0.4708 - accuracy: 0.7907 - val_loss: 0.4406 - val_accuracy: 0.7934\n",
      "Epoch 39/50\n",
      "177/179 [============================>.] - ETA: 0s - loss: 0.4746 - accuracy: 0.7873\n",
      "Epoch 39: val_loss did not improve from 0.43625\n",
      "179/179 [==============================] - 2s 13ms/step - loss: 0.4743 - accuracy: 0.7873 - val_loss: 0.4439 - val_accuracy: 0.8028\n",
      "Epoch 40/50\n",
      "177/179 [============================>.] - ETA: 0s - loss: 0.4699 - accuracy: 0.7913\n",
      "Epoch 40: val_loss did not improve from 0.43625\n",
      "179/179 [==============================] - 2s 11ms/step - loss: 0.4697 - accuracy: 0.7917 - val_loss: 0.4418 - val_accuracy: 0.7950\n",
      "Epoch 40: early stopping\n"
     ]
    }
   ],
   "source": [
    "callbacks = [\n",
    "    EarlyStopping(monitor='val_loss', patience=10, verbose=1),\n",
    "    ModelCheckpoint('best_model.h5', save_best_only=True, verbose=1)\n",
    "]\n",
    "\n",
    "history = nn_model.fit(X_train, y_train, epochs=50, batch_size=32, validation_split=0.1, callbacks=callbacks)"
   ]
  },
  {
   "cell_type": "code",
   "execution_count": 10,
   "metadata": {},
   "outputs": [
    {
     "name": "stdout",
     "output_type": "stream",
     "text": [
      "23/23 [==============================] - 0s 4ms/step - loss: 0.4270 - accuracy: 0.8255\n",
      "Test Accuracy: 0.8255318999290466\n"
     ]
    }
   ],
   "source": [
    "X_test = X_test.astype('float32')\n",
    "y_test = y_test.astype('float32')\n",
    "test_loss, test_acc = nn_model.evaluate(X_test, y_test)\n",
    "print('Test Accuracy:', test_acc)"
   ]
  },
  {
   "cell_type": "code",
   "execution_count": 11,
   "metadata": {},
   "outputs": [
    {
     "name": "stdout",
     "output_type": "stream",
     "text": [
      "23/23 [==============================] - 0s 4ms/step\n",
      "              precision    recall  f1-score   support\n",
      "\n",
      "         0.0       0.86      0.91      0.88       511\n",
      "         1.0       0.72      0.59      0.65       194\n",
      "\n",
      "    accuracy                           0.83       705\n",
      "   macro avg       0.79      0.75      0.77       705\n",
      "weighted avg       0.82      0.83      0.82       705\n",
      "\n"
     ]
    }
   ],
   "source": [
    "# Classification report\n",
    "predictions = nn_model.predict(X_test)\n",
    "predictions = (predictions > 0.5).astype(int)\n",
    "print(classification_report(y_test, predictions))"
   ]
  },
  {
   "cell_type": "markdown",
   "metadata": {},
   "source": [
    "# Ensemble"
   ]
  },
  {
   "cell_type": "code",
   "execution_count": 12,
   "metadata": {},
   "outputs": [
    {
     "name": "stdout",
     "output_type": "stream",
     "text": [
      "23/23 [==============================] - 0s 3ms/step\n"
     ]
    }
   ],
   "source": [
    "nn_predictions = nn_model.predict(X_test)[:, 0]  # Retorna a probabilidade da classe positiva\n",
    "xgb_predictions = xg_model.predict_proba(X_test)[:, 1]  # Retorna a probabilidade da classe positiva"
   ]
  },
  {
   "cell_type": "code",
   "execution_count": 13,
   "metadata": {},
   "outputs": [],
   "source": [
    "# Média das previsões\n",
    "final_predictions = (nn_predictions + xgb_predictions) / 2"
   ]
  },
  {
   "cell_type": "code",
   "execution_count": 14,
   "metadata": {},
   "outputs": [
    {
     "name": "stdout",
     "output_type": "stream",
     "text": [
      "Ensemble Accuracy: 0.8184397163120567\n"
     ]
    }
   ],
   "source": [
    "# Acurácia\n",
    "final_class_predictions = (final_predictions > 0.5).astype(int)\n",
    "print(\"Ensemble Accuracy:\", accuracy_score(y_test, final_class_predictions))"
   ]
  },
  {
   "cell_type": "code",
   "execution_count": 15,
   "metadata": {},
   "outputs": [
    {
     "name": "stdout",
     "output_type": "stream",
     "text": [
      "              precision    recall  f1-score   support\n",
      "\n",
      "         0.0       0.85      0.91      0.88       511\n",
      "         1.0       0.71      0.58      0.64       194\n",
      "\n",
      "    accuracy                           0.82       705\n",
      "   macro avg       0.78      0.75      0.76       705\n",
      "weighted avg       0.81      0.82      0.81       705\n",
      "\n"
     ]
    }
   ],
   "source": [
    "# Classification report\n",
    "print(classification_report(y_test, final_class_predictions))"
   ]
  },
  {
   "cell_type": "markdown",
   "metadata": {},
   "source": [
    "# Dataset desbalanceado"
   ]
  },
  {
   "cell_type": "code",
   "execution_count": 16,
   "metadata": {},
   "outputs": [
    {
     "data": {
      "image/png": "[encoded data removed]",
      "text/plain": [
       "<Figure size 1000x600 with 1 Axes>"
      ]
     },
     "metadata": {},
     "output_type": "display_data"
    }
   ],
   "source": [
    "# Gráfico da Distribuição das classes em churn\n",
    "plt.figure(figsize=(10, 6))\n",
    "sns.countplot(x='Churn', data=dataset, palette='Paired', legend=False, hue='Churn')\n",
    "plt.title('Distribuição das classes em churn')\n",
    "plt.show()"
   ]
  },
  {
   "cell_type": "markdown",
   "metadata": {},
   "source": [
    "A classificação desequilibrada é um problema comum no aprendizado de máquina, especialmente no domínio da classificação binária. Isso ocorre quando o conjunto de dados de treinamento tem uma distribuição desigual de classes, levando a um possível viés no modelo treinado. É importante abordar o desequilíbrio de classes para melhorar o desempenho do nosso modelo e garantir sua precisão."
   ]
  },
  {
   "cell_type": "markdown",
   "metadata": {},
   "source": [
    "## Modificando os Pesos na Função de Perda"
   ]
  },
  {
   "cell_type": "markdown",
   "metadata": {},
   "source": [
    "A atribuição de pesos diferentes aos exemplos na função de perda pode ajudar a compensar o desequilíbrio. Isso significa dar maior importância aos exemplos da classe minoritária durante o treinamento do modelo."
   ]
  },
  {
   "cell_type": "markdown",
   "metadata": {},
   "source": [
    "**`(y_train == 1).sum()`**: Este trecho conta quantas vezes a classe `1` aparece no conjunto de dados de treino. Isso é feito comparando cada elemento de `y_train` com `1` (verdadeiro onde a condição é atendida) e somando esses valores verdadeiros.\n",
    "\n",
    "**`(y_train == 0).sum()`**: Similarmente, este trecho conta quantas vezes a classe `0` aparece em `y_train`.\n",
    "\n",
    "**Divisão**: A divisão do número de exemplos da classe minoritária (1) pelo número de exemplos da classe majoritária(0) calcula um fator de peso. Esse peso será usado para equilibrar as classes, aumentando a importância das instâncias da classe minoritária durante o treinamento do modelo."
   ]
  },
  {
   "cell_type": "code",
   "execution_count": 17,
   "metadata": {},
   "outputs": [
    {
     "data": {
      "text/html": [
       "<style>#sk-container-id-2 {color: black;background-color: white;}#sk-container-id-2 pre{padding: 0;}#sk-container-id-2 div.sk-toggleable {background-color: white;}#sk-container-id-2 label.sk-toggleable__label {cursor: pointer;display: block;width: 100%;margin-bottom: 0;padding: 0.3em;box-sizing: border-box;text-align: center;}#sk-container-id-2 label.sk-toggleable__label-arrow:before {content: \"▸\";float: left;margin-right: 0.25em;color: #696969;}#sk-container-id-2 label.sk-toggleable__label-arrow:hover:before {color: black;}#sk-container-id-2 div.sk-estimator:hover label.sk-toggleable__label-arrow:before {color: black;}#sk-container-id-2 div.sk-toggleable__content {max-height: 0;max-width: 0;overflow: hidden;text-align: left;background-color: #f0f8ff;}#sk-container-id-2 div.sk-toggleable__content pre {margin: 0.2em;color: black;border-radius: 0.25em;background-color: #f0f8ff;}#sk-container-id-2 input.sk-toggleable__control:checked~div.sk-toggleable__content {max-height: 200px;max-width: 100%;overflow: auto;}#sk-container-id-2 input.sk-toggleable__control:checked~label.sk-toggleable__label-arrow:before {content: \"▾\";}#sk-container-id-2 div.sk-estimator input.sk-toggleable__control:checked~label.sk-toggleable__label {background-color: #d4ebff;}#sk-container-id-2 div.sk-label input.sk-toggleable__control:checked~label.sk-toggleable__label {background-color: #d4ebff;}#sk-container-id-2 input.sk-hidden--visually {border: 0;clip: rect(1px 1px 1px 1px);clip: rect(1px, 1px, 1px, 1px);height: 1px;margin: -1px;overflow: hidden;padding: 0;position: absolute;width: 1px;}#sk-container-id-2 div.sk-estimator {font-family: monospace;background-color: #f0f8ff;border: 1px dotted black;border-radius: 0.25em;box-sizing: border-box;margin-bottom: 0.5em;}#sk-container-id-2 div.sk-estimator:hover {background-color: #d4ebff;}#sk-container-id-2 div.sk-parallel-item::after {content: \"\";width: 100%;border-bottom: 1px solid gray;flex-grow: 1;}#sk-container-id-2 div.sk-label:hover label.sk-toggleable__label {background-color: #d4ebff;}#sk-container-id-2 div.sk-serial::before {content: \"\";position: absolute;border-left: 1px solid gray;box-sizing: border-box;top: 0;bottom: 0;left: 50%;z-index: 0;}#sk-container-id-2 div.sk-serial {display: flex;flex-direction: column;align-items: center;background-color: white;padding-right: 0.2em;padding-left: 0.2em;position: relative;}#sk-container-id-2 div.sk-item {position: relative;z-index: 1;}#sk-container-id-2 div.sk-parallel {display: flex;align-items: stretch;justify-content: center;background-color: white;position: relative;}#sk-container-id-2 div.sk-item::before, #sk-container-id-2 div.sk-parallel-item::before {content: \"\";position: absolute;border-left: 1px solid gray;box-sizing: border-box;top: 0;bottom: 0;left: 50%;z-index: -1;}#sk-container-id-2 div.sk-parallel-item {display: flex;flex-direction: column;z-index: 1;position: relative;background-color: white;}#sk-container-id-2 div.sk-parallel-item:first-child::after {align-self: flex-end;width: 50%;}#sk-container-id-2 div.sk-parallel-item:last-child::after {align-self: flex-start;width: 50%;}#sk-container-id-2 div.sk-parallel-item:only-child::after {width: 0;}#sk-container-id-2 div.sk-dashed-wrapped {border: 1px dashed gray;margin: 0 0.4em 0.5em 0.4em;box-sizing: border-box;padding-bottom: 0.4em;background-color: white;}#sk-container-id-2 div.sk-label label {font-family: monospace;font-weight: bold;display: inline-block;line-height: 1.2em;}#sk-container-id-2 div.sk-label-container {text-align: center;}#sk-container-id-2 div.sk-container {/* jupyter's `normalize.less` sets `[hidden] { display: none; }` but bootstrap.min.css set `[hidden] { display: none !important; }` so we also need the `!important` here to be able to override the default hidden behavior on the sphinx rendered scikit-learn.org. See: https://github.com/scikit-learn/scikit-learn/issues/21755 */display: inline-block !important;position: relative;}#sk-container-id-2 div.sk-text-repr-fallback {display: none;}</style><div id=\"sk-container-id-2\" class=\"sk-top-container\"><div class=\"sk-text-repr-fallback\"><pre>XGBClassifier(base_score=None, booster=None, callbacks=None,\n",
       "              colsample_bylevel=None, colsample_bynode=None,\n",
       "              colsample_bytree=0.7, device=None, early_stopping_rounds=None,\n",
       "              enable_categorical=False, eval_metric=None, feature_types=None,\n",
       "              gamma=None, grow_policy=None, importance_type=None,\n",
       "              interaction_constraints=None, learning_rate=0.01, max_bin=None,\n",
       "              max_cat_threshold=None, max_cat_to_onehot=None,\n",
       "              max_delta_step=None, max_depth=5, max_leaves=None,\n",
       "              min_child_weight=None, missing=nan, monotone_constraints=None,\n",
       "              multi_strategy=None, n_estimators=500, n_jobs=None,\n",
       "              num_parallel_tree=None, random_state=42, ...)</pre><b>In a Jupyter environment, please rerun this cell to show the HTML representation or trust the notebook. <br />On GitHub, the HTML representation is unable to render, please try loading this page with nbviewer.org.</b></div><div class=\"sk-container\" hidden><div class=\"sk-item\"><div class=\"sk-estimator sk-toggleable\"><input class=\"sk-toggleable__control sk-hidden--visually\" id=\"sk-estimator-id-2\" type=\"checkbox\" checked><label for=\"sk-estimator-id-2\" class=\"sk-toggleable__label sk-toggleable__label-arrow\">XGBClassifier</label><div class=\"sk-toggleable__content\"><pre>XGBClassifier(base_score=None, booster=None, callbacks=None,\n",
       "              colsample_bylevel=None, colsample_bynode=None,\n",
       "              colsample_bytree=0.7, device=None, early_stopping_rounds=None,\n",
       "              enable_categorical=False, eval_metric=None, feature_types=None,\n",
       "              gamma=None, grow_policy=None, importance_type=None,\n",
       "              interaction_constraints=None, learning_rate=0.01, max_bin=None,\n",
       "              max_cat_threshold=None, max_cat_to_onehot=None,\n",
       "              max_delta_step=None, max_depth=5, max_leaves=None,\n",
       "              min_child_weight=None, missing=nan, monotone_constraints=None,\n",
       "              multi_strategy=None, n_estimators=500, n_jobs=None,\n",
       "              num_parallel_tree=None, random_state=42, ...)</pre></div></div></div></div></div>"
      ],
      "text/plain": [
       "XGBClassifier(base_score=None, booster=None, callbacks=None,\n",
       "              colsample_bylevel=None, colsample_bynode=None,\n",
       "              colsample_bytree=0.7, device=None, early_stopping_rounds=None,\n",
       "              enable_categorical=False, eval_metric=None, feature_types=None,\n",
       "              gamma=None, grow_policy=None, importance_type=None,\n",
       "              interaction_constraints=None, learning_rate=0.01, max_bin=None,\n",
       "              max_cat_threshold=None, max_cat_to_onehot=None,\n",
       "              max_delta_step=None, max_depth=5, max_leaves=None,\n",
       "              min_child_weight=None, missing=nan, monotone_constraints=None,\n",
       "              multi_strategy=None, n_estimators=500, n_jobs=None,\n",
       "              num_parallel_tree=None, random_state=42, ...)"
      ]
     },
     "execution_count": 17,
     "metadata": {},
     "output_type": "execute_result"
    }
   ],
   "source": [
    "# Calculando os pesos para cada classe\n",
    "weights = (y_train == 1).sum() / (1.0 * (y_train == 0).sum())\n",
    "\n",
    "xg_model = xgb.XGBClassifier(\n",
    "    n_estimators=500,\n",
    "    learning_rate=0.01, \n",
    "    max_depth=5,         # Quantidade de camadas, quanto mais camadas, mais complexo\n",
    "    subsample=0.7,       # Quantidade de amostras por árvore, quanto menos amostras, mais rápido\n",
    "    colsample_bytree=0.7,# Quantidade de colunas por árvore, quanto menos colunas, mais rápido\n",
    "    reg_alpha=0.01,      # Regularização L1\n",
    "    reg_lambda=1.0,      # Regularização L2\n",
    "    objective='binary:logistic',\n",
    "    random_state=42,\n",
    "    scale_pos_weight=weights\n",
    ")\n",
    "\n",
    "# Treinamento do modelo\n",
    "xg_model.fit(X_train, y_train)"
   ]
  },
  {
   "cell_type": "code",
   "execution_count": 19,
   "metadata": {},
   "outputs": [
    {
     "name": "stdout",
     "output_type": "stream",
     "text": [
      "Accuracy: 0.775886524822695\n",
      "              precision    recall  f1-score   support\n",
      "\n",
      "         0.0       0.77      0.99      0.86       511\n",
      "         1.0       0.86      0.22      0.35       194\n",
      "\n",
      "    accuracy                           0.78       705\n",
      "   macro avg       0.81      0.60      0.61       705\n",
      "weighted avg       0.79      0.78      0.72       705\n",
      "\n"
     ]
    }
   ],
   "source": [
    "predictions = xg_model.predict(X_test)\n",
    "print(\"Accuracy:\", accuracy_score(y_test, predictions))\n",
    "print(classification_report(y_test, predictions))"
   ]
  },
  {
   "cell_type": "code",
   "execution_count": 20,
   "metadata": {},
   "outputs": [
    {
     "name": "stdout",
     "output_type": "stream",
     "text": [
      "23/23 [==============================] - 0s 3ms/step\n",
      "Ensemble Accuracy: 0.7957446808510639\n"
     ]
    }
   ],
   "source": [
    "nn_predictions = nn_model.predict(X_test)[:, 0]  # Retorna a probabilidade da classe positiva\n",
    "xgb_predictions = xg_model.predict_proba(X_test)[:, 1]  # Retorna a probabilidade da classe positiva\n",
    "\n",
    "# Média das previsões\n",
    "final_predictions = (nn_predictions + xgb_predictions) / 2\n",
    "\n",
    "# Acurácia\n",
    "final_class_predictions = (final_predictions > 0.5).astype(int)\n",
    "print(\"Ensemble Accuracy:\", accuracy_score(y_test, final_class_predictions))"
   ]
  },
  {
   "cell_type": "code",
   "execution_count": 21,
   "metadata": {},
   "outputs": [
    {
     "name": "stdout",
     "output_type": "stream",
     "text": [
      "              precision    recall  f1-score   support\n",
      "\n",
      "         0.0       0.80      0.96      0.87       511\n",
      "         1.0       0.77      0.37      0.50       194\n",
      "\n",
      "    accuracy                           0.80       705\n",
      "   macro avg       0.79      0.66      0.68       705\n",
      "weighted avg       0.79      0.80      0.77       705\n",
      "\n"
     ]
    }
   ],
   "source": [
    "# Classification report\n",
    "print(classification_report(y_test, final_class_predictions))"
   ]
  },
  {
   "cell_type": "markdown",
   "metadata": {},
   "source": [
    "### Análise de Classe\n",
    "- **Classe 0 (Majoritária)**\n",
    "  - **Precisão**: 0.80. Isso indica que 80% das previsões para classe 0 estão corretas.\n",
    "  - **Recall**: 0.96. Significa que 96% das instâncias reais de classe 0 foram identificadas corretamente pelo modelo.\n",
    "  - **F1-Score**: 0.87. O F1-score é uma média harmônica de precisão e recall, e um valor de 0.87 sugere um bom equilíbrio entre precisão e recall para esta classe.\n",
    "  - **Suporte**: 511. Número total de casos reais da classe 0 no conjunto de teste.\n",
    "\n",
    "- **Classe 1 (Minoritária)**\n",
    "  - **Precisão**: 0.77. Isto sugere que 77% das previsões de classe 1 pelo modelo estão corretas.\n",
    "  - **Recall**: 0.37. Apenas 37% das instâncias reais de classe 1 foram identificadas corretamente, o que é bastante baixo.\n",
    "  - **F1-Score**: 0.50. Este valor mais baixo indica uma baixa eficácia do modelo em equilibrar a precisão e o recall para a classe minoritária.\n",
    "  - **Suporte**: 194. Número total de casos reais da classe 1 no conjunto de teste.\n",
    "\n",
    "### Análise Agregada\n",
    "- **Acurácia**: 0.80. Isso mostra que o modelo acertou 80% das vezes para todas as previsões feitas.\n",
    "- **Média Macro (avg)**:\n",
    "  - **Precisão**: 0.79. Média simples das precisões para ambas as classes.\n",
    "  - **Recall**: 0.66. Média simples dos recalls, afetada negativamente pelo baixo recall da classe 1.\n",
    "  - **F1-Score**: 0.68. Indica a média do F1-score, que também é puxada para baixo pela performance na classe 1.\n",
    "- **Média Ponderada (weighted avg)**:\n",
    "  - **Precisão**: 0.79. Considera o número de instâncias em cada classe, dando mais peso à classe 0.\n",
    "  - **Recall**: 0.80. Similar à precisão, ponderada pelo suporte.\n",
    "  - **F1-Score**: 0.77. F1-score ponderado que favorece a classe com mais suporte."
   ]
  },
  {
   "cell_type": "markdown",
   "metadata": {},
   "source": [
    "Ponderar os pesos pode aumentar a precisão da classe minoritária, porém o recall e o f1-score podem ser afetados negativamente. Portanto, é importante encontrar um equilíbrio entre as métricas de avaliação para ambas as classes."
   ]
  },
  {
   "cell_type": "markdown",
   "metadata": {},
   "source": []
  }
 ],
 "metadata": {
  "kernelspec": {
   "display_name": "Python 3",
   "language": "python",
   "name": "python3"
  },
  "language_info": {
   "codemirror_mode": {
    "name": "ipython",
    "version": 3
   },
   "file_extension": ".py",
   "mimetype": "text/x-python",
   "name": "python",
   "nbconvert_exporter": "python",
   "pygments_lexer": "ipython3",
   "version": "3.10.5"
  }
 },
 "nbformat": 4,
 "nbformat_minor": 2
}
