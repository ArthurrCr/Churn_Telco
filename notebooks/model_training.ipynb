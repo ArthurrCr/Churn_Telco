{
 "cells": [
  {
   "cell_type": "code",
   "execution_count": 1,
   "metadata": {},
   "outputs": [],
   "source": [
    "import pandas as pd\n",
    "import numpy as np\n",
    "import matplotlib.pyplot as plt\n",
    "import seaborn as sns\n",
    "import xgboost as xgb\n",
    "from sklearn.model_selection import train_test_split\n",
    "from sklearn.metrics import accuracy_score, classification_report\n",
    "from tensorflow.keras.models import Sequential\n",
    "from tensorflow.keras.layers import Dense, Dropout\n",
    "from tensorflow.keras.losses import BinaryCrossentropy\n",
    "from tensorflow.keras.regularizers import l2\n",
    "from sklearn.preprocessing import StandardScaler\n",
    "from sklearn.cluster import KMeans\n",
    "from sklearn.impute import KNNImputer\n",
    "from sklearn.ensemble import RandomForestClassifier\n",
    "from boruta.boruta_py import BorutaPy # boruta requer numpy 1.23.1 ou abaixo\n",
    "from sklearn.model_selection import GridSearchCV, StratifiedKFold\n",
    "from sklearn.svm import LinearSVC\n",
    "from sklearn.naive_bayes import GaussianNB\n",
    "from sklearn.discriminant_analysis import LinearDiscriminantAnalysis\n",
    "from sklearn.calibration import CalibratedClassifierCV\n",
    "from sklearn.linear_model import RidgeClassifier\n",
    "from sklearn.ensemble import AdaBoostClassifier"
   ]
  },
  {
   "cell_type": "code",
   "execution_count": 2,
   "metadata": {},
   "outputs": [],
   "source": [
    "# Carregamento dos dados\n",
    "dataset = pd.read_csv('../data/WA_Fn-UseC_-Telco-Customer-Churn.csv')"
   ]
  },
  {
   "cell_type": "code",
   "execution_count": 3,
   "metadata": {},
   "outputs": [
    {
     "name": "stdout",
     "output_type": "stream",
     "text": [
      "<class 'pandas.core.frame.DataFrame'>\n",
      "RangeIndex: 7043 entries, 0 to 7042\n",
      "Data columns (total 21 columns):\n",
      " #   Column            Non-Null Count  Dtype  \n",
      "---  ------            --------------  -----  \n",
      " 0   customerID        7043 non-null   object \n",
      " 1   gender            7043 non-null   object \n",
      " 2   SeniorCitizen     7043 non-null   int64  \n",
      " 3   Partner           7043 non-null   object \n",
      " 4   Dependents        7043 non-null   object \n",
      " 5   tenure            7043 non-null   int64  \n",
      " 6   PhoneService      7043 non-null   object \n",
      " 7   MultipleLines     7043 non-null   object \n",
      " 8   InternetService   7043 non-null   object \n",
      " 9   OnlineSecurity    7043 non-null   object \n",
      " 10  OnlineBackup      7043 non-null   object \n",
      " 11  DeviceProtection  7043 non-null   object \n",
      " 12  TechSupport       7043 non-null   object \n",
      " 13  StreamingTV       7043 non-null   object \n",
      " 14  StreamingMovies   7043 non-null   object \n",
      " 15  Contract          7043 non-null   object \n",
      " 16  PaperlessBilling  7043 non-null   object \n",
      " 17  PaymentMethod     7043 non-null   object \n",
      " 18  MonthlyCharges    7043 non-null   float64\n",
      " 19  TotalCharges      7043 non-null   object \n",
      " 20  Churn             7043 non-null   object \n",
      "dtypes: float64(1), int64(2), object(18)\n",
      "memory usage: 1.1+ MB\n"
     ]
    },
    {
     "data": {
      "text/plain": [
       "None"
      ]
     },
     "metadata": {},
     "output_type": "display_data"
    }
   ],
   "source": [
    "display(dataset.info())"
   ]
  },
  {
   "cell_type": "code",
   "execution_count": 4,
   "metadata": {},
   "outputs": [],
   "source": [
    "# Converter TotalCharges para float\n",
    "dataset['TotalCharges'] = pd.to_numeric(dataset['TotalCharges'], errors='coerce')"
   ]
  },
  {
   "cell_type": "code",
   "execution_count": 5,
   "metadata": {},
   "outputs": [
    {
     "data": {
      "text/plain": [
       "customerID           0\n",
       "gender               0\n",
       "SeniorCitizen        0\n",
       "Partner              0\n",
       "Dependents           0\n",
       "tenure               0\n",
       "PhoneService         0\n",
       "MultipleLines        0\n",
       "InternetService      0\n",
       "OnlineSecurity       0\n",
       "OnlineBackup         0\n",
       "DeviceProtection     0\n",
       "TechSupport          0\n",
       "StreamingTV          0\n",
       "StreamingMovies      0\n",
       "Contract             0\n",
       "PaperlessBilling     0\n",
       "PaymentMethod        0\n",
       "MonthlyCharges       0\n",
       "TotalCharges        11\n",
       "Churn                0\n",
       "dtype: int64"
      ]
     },
     "metadata": {},
     "output_type": "display_data"
    }
   ],
   "source": [
    "# verificar nan em dataset\n",
    "display(dataset.isna().sum())"
   ]
  },
  {
   "cell_type": "code",
   "execution_count": 6,
   "metadata": {},
   "outputs": [],
   "source": [
    "# Remover a coluna 'customerID'\n",
    "dataset.drop('customerID', axis=1, inplace=True)\n",
    "\n",
    "# Selecionar colunas categóricas, mantendo as colunas do tipo int e float no DataFrame\n",
    "categorical_cols = dataset.select_dtypes(include=['object']).columns.tolist()\n",
    "\n",
    "# Criar um DataFrame com as colunas categóricas aplicando label encoding\n",
    "from sklearn import preprocessing\n",
    "label_encoder = preprocessing.LabelEncoder() \n",
    "dataset_dummies = dataset.copy()\n",
    "for col in categorical_cols:\n",
    "    dataset_dummies[col] = label_encoder.fit_transform(dataset[col])\n",
    "\n",
    "# Separar as features e o target\n",
    "scaler = StandardScaler()\n",
    "features_scaled = scaler.fit_transform(dataset_dummies.drop('TotalCharges', axis=1))  # remove 'TotalCharges' from the features\n",
    "\n",
    "# Após a normalização, a coluna 'TotalCharges' é adicionada de volta ao array de features\n",
    "features_scaled = np.column_stack((features_scaled, dataset_dummies['TotalCharges']))\n",
    "\n",
    "imputer = KNNImputer(n_neighbors=10) # Usa o KNN para preencher os valores faltantes\n",
    "features_imputed = imputer.fit_transform(features_scaled)\n",
    "\n",
    "# Adicionar 'TotalCharges' como última coluna\n",
    "dataset['TotalCharges'] = features_imputed[:, -1]"
   ]
  },
  {
   "cell_type": "code",
   "execution_count": 7,
   "metadata": {},
   "outputs": [
    {
     "data": {
      "text/plain": [
       "Index(['gender', 'SeniorCitizen', 'Partner', 'Dependents', 'tenure',\n",
       "       'PhoneService', 'MultipleLines', 'InternetService', 'OnlineSecurity',\n",
       "       'OnlineBackup', 'DeviceProtection', 'TechSupport', 'StreamingTV',\n",
       "       'StreamingMovies', 'Contract', 'PaperlessBilling', 'PaymentMethod',\n",
       "       'MonthlyCharges', 'TotalCharges', 'Churn'],\n",
       "      dtype='object')"
      ]
     },
     "execution_count": 7,
     "metadata": {},
     "output_type": "execute_result"
    }
   ],
   "source": [
    "dataset_dummies.columns"
   ]
  },
  {
   "cell_type": "code",
   "execution_count": 8,
   "metadata": {},
   "outputs": [],
   "source": [
    "# Criar um DataFrame com as colunas categóricas aplicando label encoding\n",
    "dataset_dummies = dataset.copy()\n",
    "for col in categorical_cols:\n",
    "    dataset_dummies[col] = label_encoder.fit_transform(dataset[col])\n",
    "\n",
    "# Dividindo os dados em características e target\n",
    "X = dataset_dummies.drop(['Churn'], axis=1)  # Características\n",
    "y = dataset_dummies['Churn'] "
   ]
  },
  {
   "cell_type": "code",
   "execution_count": 9,
   "metadata": {},
   "outputs": [],
   "source": [
    "# Dividindo os dados em conjuntos de treinamento e teste\n",
    "X_train, X_test, y_train, y_test = train_test_split(X, y, test_size=0.1, random_state=42)"
   ]
  },
  {
   "cell_type": "markdown",
   "metadata": {},
   "source": [
    "# XGBoost"
   ]
  },
  {
   "cell_type": "code",
   "execution_count": 10,
   "metadata": {},
   "outputs": [],
   "source": [
    "# Configuração do modelo XGBoost\n",
    "xg_model = xgb.XGBClassifier(\n",
    "    n_estimators=100,\n",
    "    learning_rate=0.1,\n",
    "    max_depth=5,\n",
    "    subsample=0.5,\n",
    "    colsample_bytree=0.5,\n",
    "    objective='binary:logistic',\n",
    "    random_state=42\n",
    ")"
   ]
  },
  {
   "cell_type": "code",
   "execution_count": 11,
   "metadata": {},
   "outputs": [
    {
     "data": {
      "text/html": [
       "<style>#sk-container-id-1 {color: black;background-color: white;}#sk-container-id-1 pre{padding: 0;}#sk-container-id-1 div.sk-toggleable {background-color: white;}#sk-container-id-1 label.sk-toggleable__label {cursor: pointer;display: block;width: 100%;margin-bottom: 0;padding: 0.3em;box-sizing: border-box;text-align: center;}#sk-container-id-1 label.sk-toggleable__label-arrow:before {content: \"▸\";float: left;margin-right: 0.25em;color: #696969;}#sk-container-id-1 label.sk-toggleable__label-arrow:hover:before {color: black;}#sk-container-id-1 div.sk-estimator:hover label.sk-toggleable__label-arrow:before {color: black;}#sk-container-id-1 div.sk-toggleable__content {max-height: 0;max-width: 0;overflow: hidden;text-align: left;background-color: #f0f8ff;}#sk-container-id-1 div.sk-toggleable__content pre {margin: 0.2em;color: black;border-radius: 0.25em;background-color: #f0f8ff;}#sk-container-id-1 input.sk-toggleable__control:checked~div.sk-toggleable__content {max-height: 200px;max-width: 100%;overflow: auto;}#sk-container-id-1 input.sk-toggleable__control:checked~label.sk-toggleable__label-arrow:before {content: \"▾\";}#sk-container-id-1 div.sk-estimator input.sk-toggleable__control:checked~label.sk-toggleable__label {background-color: #d4ebff;}#sk-container-id-1 div.sk-label input.sk-toggleable__control:checked~label.sk-toggleable__label {background-color: #d4ebff;}#sk-container-id-1 input.sk-hidden--visually {border: 0;clip: rect(1px 1px 1px 1px);clip: rect(1px, 1px, 1px, 1px);height: 1px;margin: -1px;overflow: hidden;padding: 0;position: absolute;width: 1px;}#sk-container-id-1 div.sk-estimator {font-family: monospace;background-color: #f0f8ff;border: 1px dotted black;border-radius: 0.25em;box-sizing: border-box;margin-bottom: 0.5em;}#sk-container-id-1 div.sk-estimator:hover {background-color: #d4ebff;}#sk-container-id-1 div.sk-parallel-item::after {content: \"\";width: 100%;border-bottom: 1px solid gray;flex-grow: 1;}#sk-container-id-1 div.sk-label:hover label.sk-toggleable__label {background-color: #d4ebff;}#sk-container-id-1 div.sk-serial::before {content: \"\";position: absolute;border-left: 1px solid gray;box-sizing: border-box;top: 0;bottom: 0;left: 50%;z-index: 0;}#sk-container-id-1 div.sk-serial {display: flex;flex-direction: column;align-items: center;background-color: white;padding-right: 0.2em;padding-left: 0.2em;position: relative;}#sk-container-id-1 div.sk-item {position: relative;z-index: 1;}#sk-container-id-1 div.sk-parallel {display: flex;align-items: stretch;justify-content: center;background-color: white;position: relative;}#sk-container-id-1 div.sk-item::before, #sk-container-id-1 div.sk-parallel-item::before {content: \"\";position: absolute;border-left: 1px solid gray;box-sizing: border-box;top: 0;bottom: 0;left: 50%;z-index: -1;}#sk-container-id-1 div.sk-parallel-item {display: flex;flex-direction: column;z-index: 1;position: relative;background-color: white;}#sk-container-id-1 div.sk-parallel-item:first-child::after {align-self: flex-end;width: 50%;}#sk-container-id-1 div.sk-parallel-item:last-child::after {align-self: flex-start;width: 50%;}#sk-container-id-1 div.sk-parallel-item:only-child::after {width: 0;}#sk-container-id-1 div.sk-dashed-wrapped {border: 1px dashed gray;margin: 0 0.4em 0.5em 0.4em;box-sizing: border-box;padding-bottom: 0.4em;background-color: white;}#sk-container-id-1 div.sk-label label {font-family: monospace;font-weight: bold;display: inline-block;line-height: 1.2em;}#sk-container-id-1 div.sk-label-container {text-align: center;}#sk-container-id-1 div.sk-container {/* jupyter's `normalize.less` sets `[hidden] { display: none; }` but bootstrap.min.css set `[hidden] { display: none !important; }` so we also need the `!important` here to be able to override the default hidden behavior on the sphinx rendered scikit-learn.org. See: https://github.com/scikit-learn/scikit-learn/issues/21755 */display: inline-block !important;position: relative;}#sk-container-id-1 div.sk-text-repr-fallback {display: none;}</style><div id=\"sk-container-id-1\" class=\"sk-top-container\"><div class=\"sk-text-repr-fallback\"><pre>XGBClassifier(base_score=None, booster=None, callbacks=None,\n",
       "              colsample_bylevel=None, colsample_bynode=None,\n",
       "              colsample_bytree=0.5, device=None, early_stopping_rounds=None,\n",
       "              enable_categorical=False, eval_metric=None, feature_types=None,\n",
       "              gamma=None, grow_policy=None, importance_type=None,\n",
       "              interaction_constraints=None, learning_rate=0.1, max_bin=None,\n",
       "              max_cat_threshold=None, max_cat_to_onehot=None,\n",
       "              max_delta_step=None, max_depth=5, max_leaves=None,\n",
       "              min_child_weight=None, missing=nan, monotone_constraints=None,\n",
       "              multi_strategy=None, n_estimators=100, n_jobs=None,\n",
       "              num_parallel_tree=None, random_state=42, ...)</pre><b>In a Jupyter environment, please rerun this cell to show the HTML representation or trust the notebook. <br />On GitHub, the HTML representation is unable to render, please try loading this page with nbviewer.org.</b></div><div class=\"sk-container\" hidden><div class=\"sk-item\"><div class=\"sk-estimator sk-toggleable\"><input class=\"sk-toggleable__control sk-hidden--visually\" id=\"sk-estimator-id-1\" type=\"checkbox\" checked><label for=\"sk-estimator-id-1\" class=\"sk-toggleable__label sk-toggleable__label-arrow\">XGBClassifier</label><div class=\"sk-toggleable__content\"><pre>XGBClassifier(base_score=None, booster=None, callbacks=None,\n",
       "              colsample_bylevel=None, colsample_bynode=None,\n",
       "              colsample_bytree=0.5, device=None, early_stopping_rounds=None,\n",
       "              enable_categorical=False, eval_metric=None, feature_types=None,\n",
       "              gamma=None, grow_policy=None, importance_type=None,\n",
       "              interaction_constraints=None, learning_rate=0.1, max_bin=None,\n",
       "              max_cat_threshold=None, max_cat_to_onehot=None,\n",
       "              max_delta_step=None, max_depth=5, max_leaves=None,\n",
       "              min_child_weight=None, missing=nan, monotone_constraints=None,\n",
       "              multi_strategy=None, n_estimators=100, n_jobs=None,\n",
       "              num_parallel_tree=None, random_state=42, ...)</pre></div></div></div></div></div>"
      ],
      "text/plain": [
       "XGBClassifier(base_score=None, booster=None, callbacks=None,\n",
       "              colsample_bylevel=None, colsample_bynode=None,\n",
       "              colsample_bytree=0.5, device=None, early_stopping_rounds=None,\n",
       "              enable_categorical=False, eval_metric=None, feature_types=None,\n",
       "              gamma=None, grow_policy=None, importance_type=None,\n",
       "              interaction_constraints=None, learning_rate=0.1, max_bin=None,\n",
       "              max_cat_threshold=None, max_cat_to_onehot=None,\n",
       "              max_delta_step=None, max_depth=5, max_leaves=None,\n",
       "              min_child_weight=None, missing=nan, monotone_constraints=None,\n",
       "              multi_strategy=None, n_estimators=100, n_jobs=None,\n",
       "              num_parallel_tree=None, random_state=42, ...)"
      ]
     },
     "execution_count": 11,
     "metadata": {},
     "output_type": "execute_result"
    }
   ],
   "source": [
    "xg_model.fit(X_train, y_train)"
   ]
  },
  {
   "cell_type": "code",
   "execution_count": 12,
   "metadata": {},
   "outputs": [
    {
     "name": "stdout",
     "output_type": "stream",
     "text": [
      "Accuracy: 0.8099290780141843\n",
      "              precision    recall  f1-score   support\n",
      "\n",
      "           0       0.84      0.91      0.87       511\n",
      "           1       0.70      0.54      0.61       194\n",
      "\n",
      "    accuracy                           0.81       705\n",
      "   macro avg       0.77      0.73      0.74       705\n",
      "weighted avg       0.80      0.81      0.80       705\n",
      "\n"
     ]
    }
   ],
   "source": [
    "predictions = xg_model.predict(X_test)\n",
    "print(\"Accuracy:\", accuracy_score(y_test, predictions))\n",
    "print(classification_report(y_test, predictions))"
   ]
  },
  {
   "cell_type": "markdown",
   "metadata": {},
   "source": [
    "# Rede neural"
   ]
  },
  {
   "cell_type": "code",
   "execution_count": 13,
   "metadata": {},
   "outputs": [
    {
     "name": "stdout",
     "output_type": "stream",
     "text": [
      "Model: \"sequential\"\n",
      "_________________________________________________________________\n",
      " Layer (type)                Output Shape              Param #   \n",
      "=================================================================\n",
      " dense (Dense)               (None, 128)               2560      \n",
      "                                                                 \n",
      " dropout (Dropout)           (None, 128)               0         \n",
      "                                                                 \n",
      " dense_1 (Dense)             (None, 64)                8256      \n",
      "                                                                 \n",
      " dropout_1 (Dropout)         (None, 64)                0         \n",
      "                                                                 \n",
      " dense_2 (Dense)             (None, 32)                2080      \n",
      "                                                                 \n",
      " dropout_2 (Dropout)         (None, 32)                0         \n",
      "                                                                 \n",
      " dense_3 (Dense)             (None, 1)                 33        \n",
      "                                                                 \n",
      "=================================================================\n",
      "Total params: 12,929\n",
      "Trainable params: 12,929\n",
      "Non-trainable params: 0\n",
      "_________________________________________________________________\n"
     ]
    }
   ],
   "source": [
    "# Define the model\n",
    "nn_model = Sequential([\n",
    "    Dense(128, activation='relu', input_shape=(X_train.shape[1],), kernel_regularizer=l2(0.01)), \n",
    "    Dropout(0.3), \n",
    "    Dense(64, activation='relu', kernel_regularizer=l2(0.01)),\n",
    "    Dropout(0.3), \n",
    "    Dense(32, activation='relu', kernel_regularizer=l2(0.01)),\n",
    "    Dropout(0.3), \n",
    "    Dense(1, activation='sigmoid') \n",
    "])\n",
    "\n",
    "# Compile the model\n",
    "nn_model.compile(optimizer='adam',\n",
    "              loss= BinaryCrossentropy(from_logits=False), \n",
    "              metrics=['accuracy'])\n",
    "\n",
    "# Print the model summary\n",
    "nn_model.summary()"
   ]
  },
  {
   "cell_type": "code",
   "execution_count": 14,
   "metadata": {},
   "outputs": [],
   "source": [
    "# Convert data types\n",
    "X_train = X_train.astype('float32')\n",
    "y_train = y_train.astype('float32')"
   ]
  },
  {
   "cell_type": "code",
   "execution_count": 15,
   "metadata": {},
   "outputs": [
    {
     "name": "stdout",
     "output_type": "stream",
     "text": [
      "Epoch 1/100\n",
      "179/179 [==============================] - 2s 4ms/step - loss: 20.3224 - accuracy: 0.6357 - val_loss: 2.2407 - val_accuracy: 0.7855\n",
      "Epoch 2/100\n",
      "179/179 [==============================] - 1s 3ms/step - loss: 4.2167 - accuracy: 0.6502 - val_loss: 1.4893 - val_accuracy: 0.7618\n",
      "Epoch 3/100\n",
      "179/179 [==============================] - 1s 3ms/step - loss: 2.2643 - accuracy: 0.7042 - val_loss: 1.4341 - val_accuracy: 0.7618\n",
      "Epoch 4/100\n",
      "179/179 [==============================] - 1s 3ms/step - loss: 1.6722 - accuracy: 0.7181 - val_loss: 1.3903 - val_accuracy: 0.7618\n",
      "Epoch 5/100\n",
      "179/179 [==============================] - 1s 3ms/step - loss: 1.5800 - accuracy: 0.7251 - val_loss: 1.3969 - val_accuracy: 0.7618\n",
      "Epoch 6/100\n",
      "179/179 [==============================] - 1s 3ms/step - loss: 1.4615 - accuracy: 0.7288 - val_loss: 1.3137 - val_accuracy: 0.7618\n",
      "Epoch 7/100\n",
      "179/179 [==============================] - 1s 3ms/step - loss: 1.3640 - accuracy: 0.7305 - val_loss: 1.2916 - val_accuracy: 0.7618\n",
      "Epoch 8/100\n",
      "179/179 [==============================] - 1s 3ms/step - loss: 1.3745 - accuracy: 0.7298 - val_loss: 1.2664 - val_accuracy: 0.7618\n",
      "Epoch 9/100\n",
      "179/179 [==============================] - 1s 4ms/step - loss: 1.3166 - accuracy: 0.7314 - val_loss: 1.2511 - val_accuracy: 0.7618\n",
      "Epoch 10/100\n",
      "179/179 [==============================] - 1s 3ms/step - loss: 1.2938 - accuracy: 0.7312 - val_loss: 1.2209 - val_accuracy: 0.7618\n",
      "Epoch 11/100\n",
      "179/179 [==============================] - 1s 3ms/step - loss: 1.2487 - accuracy: 0.7321 - val_loss: 1.2025 - val_accuracy: 0.7618\n",
      "Epoch 12/100\n",
      "179/179 [==============================] - 1s 3ms/step - loss: 1.2304 - accuracy: 0.7307 - val_loss: 1.1797 - val_accuracy: 0.7618\n",
      "Epoch 13/100\n",
      "179/179 [==============================] - 1s 3ms/step - loss: 1.2195 - accuracy: 0.7318 - val_loss: 1.1705 - val_accuracy: 0.7618\n",
      "Epoch 14/100\n",
      "179/179 [==============================] - 1s 3ms/step - loss: 1.1878 - accuracy: 0.7311 - val_loss: 1.1326 - val_accuracy: 0.7618\n",
      "Epoch 15/100\n",
      "179/179 [==============================] - 1s 3ms/step - loss: 1.1731 - accuracy: 0.7305 - val_loss: 1.1156 - val_accuracy: 0.7618\n",
      "Epoch 16/100\n",
      "179/179 [==============================] - 1s 3ms/step - loss: 1.1463 - accuracy: 0.7318 - val_loss: 1.0987 - val_accuracy: 0.7618\n",
      "Epoch 17/100\n",
      "179/179 [==============================] - 1s 3ms/step - loss: 1.1247 - accuracy: 0.7312 - val_loss: 1.0752 - val_accuracy: 0.7618\n",
      "Epoch 18/100\n",
      "179/179 [==============================] - 1s 3ms/step - loss: 1.0965 - accuracy: 0.7325 - val_loss: 1.0456 - val_accuracy: 0.7618\n",
      "Epoch 19/100\n",
      "179/179 [==============================] - 1s 3ms/step - loss: 1.0761 - accuracy: 0.7323 - val_loss: 1.0260 - val_accuracy: 0.7618\n",
      "Epoch 20/100\n",
      "179/179 [==============================] - 1s 3ms/step - loss: 1.0705 - accuracy: 0.7319 - val_loss: 1.0068 - val_accuracy: 0.7618\n",
      "Epoch 21/100\n",
      "179/179 [==============================] - 1s 3ms/step - loss: 1.0231 - accuracy: 0.7318 - val_loss: 0.9887 - val_accuracy: 0.7618\n",
      "Epoch 22/100\n",
      "179/179 [==============================] - 1s 3ms/step - loss: 1.0021 - accuracy: 0.7330 - val_loss: 0.9634 - val_accuracy: 0.7618\n",
      "Epoch 23/100\n",
      "179/179 [==============================] - 1s 3ms/step - loss: 0.9816 - accuracy: 0.7323 - val_loss: 0.9387 - val_accuracy: 0.7618\n",
      "Epoch 24/100\n",
      "179/179 [==============================] - 1s 4ms/step - loss: 0.9577 - accuracy: 0.7326 - val_loss: 0.9242 - val_accuracy: 0.7618\n",
      "Epoch 25/100\n",
      "179/179 [==============================] - 1s 4ms/step - loss: 0.9373 - accuracy: 0.7323 - val_loss: 0.9080 - val_accuracy: 0.7618\n",
      "Epoch 26/100\n",
      "179/179 [==============================] - 1s 4ms/step - loss: 0.9154 - accuracy: 0.7328 - val_loss: 0.8878 - val_accuracy: 0.7618\n",
      "Epoch 27/100\n",
      "179/179 [==============================] - 1s 3ms/step - loss: 0.8946 - accuracy: 0.7328 - val_loss: 0.8551 - val_accuracy: 0.7618\n",
      "Epoch 28/100\n",
      "179/179 [==============================] - 1s 3ms/step - loss: 0.8730 - accuracy: 0.7326 - val_loss: 0.8450 - val_accuracy: 0.7618\n",
      "Epoch 29/100\n",
      "179/179 [==============================] - 1s 3ms/step - loss: 0.8585 - accuracy: 0.7323 - val_loss: 0.8193 - val_accuracy: 0.7618\n",
      "Epoch 30/100\n",
      "179/179 [==============================] - 1s 3ms/step - loss: 0.8285 - accuracy: 0.7330 - val_loss: 0.7960 - val_accuracy: 0.7618\n",
      "Epoch 31/100\n",
      "179/179 [==============================] - 1s 3ms/step - loss: 0.8160 - accuracy: 0.7328 - val_loss: 0.7906 - val_accuracy: 0.7618\n",
      "Epoch 32/100\n",
      "179/179 [==============================] - 1s 3ms/step - loss: 0.7964 - accuracy: 0.7330 - val_loss: 0.7669 - val_accuracy: 0.7618\n",
      "Epoch 33/100\n",
      "179/179 [==============================] - 1s 3ms/step - loss: 0.7764 - accuracy: 0.7326 - val_loss: 0.7420 - val_accuracy: 0.7618\n",
      "Epoch 34/100\n",
      "179/179 [==============================] - 1s 3ms/step - loss: 0.7609 - accuracy: 0.7328 - val_loss: 0.7245 - val_accuracy: 0.7618\n",
      "Epoch 35/100\n",
      "179/179 [==============================] - 1s 3ms/step - loss: 0.7449 - accuracy: 0.7328 - val_loss: 0.7092 - val_accuracy: 0.7618\n",
      "Epoch 36/100\n",
      "179/179 [==============================] - 1s 3ms/step - loss: 0.7312 - accuracy: 0.7323 - val_loss: 0.6933 - val_accuracy: 0.7618\n",
      "Epoch 37/100\n",
      "179/179 [==============================] - 1s 3ms/step - loss: 0.7095 - accuracy: 0.7328 - val_loss: 0.6779 - val_accuracy: 0.7618\n",
      "Epoch 38/100\n",
      "179/179 [==============================] - 1s 3ms/step - loss: 0.6960 - accuracy: 0.7325 - val_loss: 0.6640 - val_accuracy: 0.7618\n",
      "Epoch 39/100\n",
      "179/179 [==============================] - 1s 3ms/step - loss: 0.6826 - accuracy: 0.7326 - val_loss: 0.6546 - val_accuracy: 0.7618\n",
      "Epoch 40/100\n",
      "179/179 [==============================] - 1s 3ms/step - loss: 0.6721 - accuracy: 0.7325 - val_loss: 0.6383 - val_accuracy: 0.7618\n",
      "Epoch 41/100\n",
      "179/179 [==============================] - 1s 3ms/step - loss: 0.6583 - accuracy: 0.7328 - val_loss: 0.6306 - val_accuracy: 0.7618\n",
      "Epoch 42/100\n",
      "179/179 [==============================] - 1s 3ms/step - loss: 0.6443 - accuracy: 0.7326 - val_loss: 0.6170 - val_accuracy: 0.7618\n",
      "Epoch 43/100\n",
      "179/179 [==============================] - 1s 3ms/step - loss: 0.6386 - accuracy: 0.7326 - val_loss: 0.6093 - val_accuracy: 0.7618\n",
      "Epoch 44/100\n",
      "179/179 [==============================] - 1s 3ms/step - loss: 0.6288 - accuracy: 0.7328 - val_loss: 0.6011 - val_accuracy: 0.7618\n",
      "Epoch 45/100\n",
      "179/179 [==============================] - 1s 3ms/step - loss: 0.6167 - accuracy: 0.7328 - val_loss: 0.5961 - val_accuracy: 0.7618\n",
      "Epoch 46/100\n",
      "179/179 [==============================] - 1s 3ms/step - loss: 0.6109 - accuracy: 0.7328 - val_loss: 0.5830 - val_accuracy: 0.7618\n",
      "Epoch 47/100\n",
      "179/179 [==============================] - 1s 3ms/step - loss: 0.6027 - accuracy: 0.7328 - val_loss: 0.5778 - val_accuracy: 0.7618\n",
      "Epoch 48/100\n",
      "179/179 [==============================] - 1s 3ms/step - loss: 0.6045 - accuracy: 0.7328 - val_loss: 0.5730 - val_accuracy: 0.7618\n",
      "Epoch 49/100\n",
      "179/179 [==============================] - 1s 3ms/step - loss: 0.5982 - accuracy: 0.7326 - val_loss: 0.5701 - val_accuracy: 0.7618\n",
      "Epoch 50/100\n",
      "179/179 [==============================] - 1s 3ms/step - loss: 0.5878 - accuracy: 0.7328 - val_loss: 0.5628 - val_accuracy: 0.7618\n",
      "Epoch 51/100\n",
      "179/179 [==============================] - 1s 3ms/step - loss: 0.5850 - accuracy: 0.7328 - val_loss: 0.5648 - val_accuracy: 0.7618\n",
      "Epoch 52/100\n",
      "179/179 [==============================] - 1s 3ms/step - loss: 0.5798 - accuracy: 0.7328 - val_loss: 0.5563 - val_accuracy: 0.7618\n",
      "Epoch 53/100\n",
      "179/179 [==============================] - 1s 3ms/step - loss: 0.5799 - accuracy: 0.7325 - val_loss: 0.5579 - val_accuracy: 0.7618\n",
      "Epoch 54/100\n",
      "179/179 [==============================] - 1s 3ms/step - loss: 0.5772 - accuracy: 0.7328 - val_loss: 0.5554 - val_accuracy: 0.7618\n",
      "Epoch 55/100\n",
      "179/179 [==============================] - 1s 4ms/step - loss: 0.5741 - accuracy: 0.7328 - val_loss: 0.5528 - val_accuracy: 0.7618\n",
      "Epoch 56/100\n",
      "179/179 [==============================] - 1s 3ms/step - loss: 0.5732 - accuracy: 0.7328 - val_loss: 0.5493 - val_accuracy: 0.7618\n",
      "Epoch 57/100\n",
      "179/179 [==============================] - 1s 3ms/step - loss: 0.5694 - accuracy: 0.7328 - val_loss: 0.5491 - val_accuracy: 0.7618\n",
      "Epoch 58/100\n",
      "179/179 [==============================] - 1s 3ms/step - loss: 0.5687 - accuracy: 0.7328 - val_loss: 0.5507 - val_accuracy: 0.7618\n",
      "Epoch 59/100\n",
      "179/179 [==============================] - 1s 3ms/step - loss: 0.5687 - accuracy: 0.7328 - val_loss: 0.5533 - val_accuracy: 0.7618\n",
      "Epoch 60/100\n",
      "179/179 [==============================] - 1s 3ms/step - loss: 0.5686 - accuracy: 0.7328 - val_loss: 0.5481 - val_accuracy: 0.7618\n",
      "Epoch 61/100\n",
      "179/179 [==============================] - 1s 3ms/step - loss: 0.5669 - accuracy: 0.7328 - val_loss: 0.5455 - val_accuracy: 0.7618\n",
      "Epoch 62/100\n",
      "179/179 [==============================] - 1s 3ms/step - loss: 0.5628 - accuracy: 0.7328 - val_loss: 0.5471 - val_accuracy: 0.7618\n",
      "Epoch 63/100\n",
      "179/179 [==============================] - 1s 3ms/step - loss: 0.5654 - accuracy: 0.7328 - val_loss: 0.5433 - val_accuracy: 0.7618\n",
      "Epoch 64/100\n",
      "179/179 [==============================] - 1s 3ms/step - loss: 0.5646 - accuracy: 0.7328 - val_loss: 0.5441 - val_accuracy: 0.7618\n",
      "Epoch 65/100\n",
      "179/179 [==============================] - 1s 3ms/step - loss: 0.5649 - accuracy: 0.7328 - val_loss: 0.5434 - val_accuracy: 0.7618\n",
      "Epoch 66/100\n",
      "179/179 [==============================] - 1s 3ms/step - loss: 0.5634 - accuracy: 0.7328 - val_loss: 0.5436 - val_accuracy: 0.7618\n",
      "Epoch 67/100\n",
      "179/179 [==============================] - 1s 3ms/step - loss: 0.5624 - accuracy: 0.7328 - val_loss: 0.5432 - val_accuracy: 0.7618\n",
      "Epoch 68/100\n",
      "179/179 [==============================] - 1s 3ms/step - loss: 0.5631 - accuracy: 0.7328 - val_loss: 0.5428 - val_accuracy: 0.7618\n",
      "Epoch 69/100\n",
      "179/179 [==============================] - 1s 3ms/step - loss: 0.5624 - accuracy: 0.7328 - val_loss: 0.5422 - val_accuracy: 0.7618\n",
      "Epoch 70/100\n",
      "179/179 [==============================] - 1s 3ms/step - loss: 0.5618 - accuracy: 0.7328 - val_loss: 0.5420 - val_accuracy: 0.7618\n",
      "Epoch 71/100\n",
      "179/179 [==============================] - 1s 3ms/step - loss: 0.5614 - accuracy: 0.7328 - val_loss: 0.5412 - val_accuracy: 0.7618\n",
      "Epoch 72/100\n",
      "179/179 [==============================] - 1s 3ms/step - loss: 0.5620 - accuracy: 0.7328 - val_loss: 0.5406 - val_accuracy: 0.7618\n",
      "Epoch 73/100\n",
      "179/179 [==============================] - 1s 3ms/step - loss: 0.5615 - accuracy: 0.7328 - val_loss: 0.5380 - val_accuracy: 0.7618\n",
      "Epoch 74/100\n",
      "179/179 [==============================] - 1s 3ms/step - loss: 0.5570 - accuracy: 0.7328 - val_loss: 0.5487 - val_accuracy: 0.7618\n",
      "Epoch 75/100\n",
      "179/179 [==============================] - 1s 3ms/step - loss: 0.5564 - accuracy: 0.7328 - val_loss: 0.5271 - val_accuracy: 0.7618\n",
      "Epoch 76/100\n",
      "179/179 [==============================] - 1s 3ms/step - loss: 0.5496 - accuracy: 0.7328 - val_loss: 0.5380 - val_accuracy: 0.7618\n",
      "Epoch 77/100\n",
      "179/179 [==============================] - 1s 3ms/step - loss: 0.5475 - accuracy: 0.7328 - val_loss: 0.5076 - val_accuracy: 0.7618\n",
      "Epoch 78/100\n",
      "179/179 [==============================] - 1s 3ms/step - loss: 0.5434 - accuracy: 0.7328 - val_loss: 0.5046 - val_accuracy: 0.7618\n",
      "Epoch 79/100\n",
      "179/179 [==============================] - 1s 3ms/step - loss: 0.5447 - accuracy: 0.7328 - val_loss: 0.5113 - val_accuracy: 0.7618\n",
      "Epoch 80/100\n",
      "179/179 [==============================] - 1s 3ms/step - loss: 0.5334 - accuracy: 0.7328 - val_loss: 0.4849 - val_accuracy: 0.7618\n",
      "Epoch 81/100\n",
      "179/179 [==============================] - 1s 3ms/step - loss: 0.5294 - accuracy: 0.7328 - val_loss: 0.4737 - val_accuracy: 0.7618\n",
      "Epoch 82/100\n",
      "179/179 [==============================] - 1s 3ms/step - loss: 0.5263 - accuracy: 0.7328 - val_loss: 0.4838 - val_accuracy: 0.7618\n",
      "Epoch 83/100\n",
      "179/179 [==============================] - 1s 3ms/step - loss: 0.5405 - accuracy: 0.7328 - val_loss: 0.4967 - val_accuracy: 0.7618\n",
      "Epoch 84/100\n",
      "179/179 [==============================] - 1s 3ms/step - loss: 0.5335 - accuracy: 0.7328 - val_loss: 0.4757 - val_accuracy: 0.7618\n",
      "Epoch 85/100\n",
      "179/179 [==============================] - 1s 3ms/step - loss: 0.5269 - accuracy: 0.7328 - val_loss: 0.4670 - val_accuracy: 0.7618\n",
      "Epoch 86/100\n",
      "179/179 [==============================] - 1s 3ms/step - loss: 0.5233 - accuracy: 0.7328 - val_loss: 0.4910 - val_accuracy: 0.7618\n",
      "Epoch 87/100\n",
      "179/179 [==============================] - 1s 3ms/step - loss: 0.5205 - accuracy: 0.7328 - val_loss: 0.4727 - val_accuracy: 0.7618\n",
      "Epoch 88/100\n",
      "179/179 [==============================] - 1s 3ms/step - loss: 0.5273 - accuracy: 0.7328 - val_loss: 0.4749 - val_accuracy: 0.7618\n",
      "Epoch 89/100\n",
      "179/179 [==============================] - 1s 3ms/step - loss: 0.5246 - accuracy: 0.7328 - val_loss: 0.4682 - val_accuracy: 0.7618\n",
      "Epoch 90/100\n",
      "179/179 [==============================] - 1s 3ms/step - loss: 0.5281 - accuracy: 0.7328 - val_loss: 0.4803 - val_accuracy: 0.7618\n",
      "Epoch 91/100\n",
      "179/179 [==============================] - 1s 3ms/step - loss: 0.5219 - accuracy: 0.7328 - val_loss: 0.4761 - val_accuracy: 0.7618\n",
      "Epoch 92/100\n",
      "179/179 [==============================] - 1s 3ms/step - loss: 0.5282 - accuracy: 0.7328 - val_loss: 0.4747 - val_accuracy: 0.7618\n",
      "Epoch 93/100\n",
      "179/179 [==============================] - 1s 3ms/step - loss: 0.5257 - accuracy: 0.7328 - val_loss: 0.4771 - val_accuracy: 0.7618\n",
      "Epoch 94/100\n",
      "179/179 [==============================] - 1s 3ms/step - loss: 0.5202 - accuracy: 0.7328 - val_loss: 0.4703 - val_accuracy: 0.7618\n",
      "Epoch 95/100\n",
      "179/179 [==============================] - 1s 3ms/step - loss: 0.5200 - accuracy: 0.7328 - val_loss: 0.4822 - val_accuracy: 0.7618\n",
      "Epoch 96/100\n",
      "179/179 [==============================] - 1s 3ms/step - loss: 0.5231 - accuracy: 0.7328 - val_loss: 0.4726 - val_accuracy: 0.7618\n",
      "Epoch 97/100\n",
      "179/179 [==============================] - 1s 3ms/step - loss: 0.5207 - accuracy: 0.7328 - val_loss: 0.4736 - val_accuracy: 0.7618\n",
      "Epoch 98/100\n",
      "179/179 [==============================] - 1s 3ms/step - loss: 0.5156 - accuracy: 0.7328 - val_loss: 0.4604 - val_accuracy: 0.7618\n",
      "Epoch 99/100\n",
      "179/179 [==============================] - 1s 3ms/step - loss: 0.5175 - accuracy: 0.7328 - val_loss: 0.4604 - val_accuracy: 0.7618\n",
      "Epoch 100/100\n",
      "179/179 [==============================] - 1s 3ms/step - loss: 0.5222 - accuracy: 0.7328 - val_loss: 0.4658 - val_accuracy: 0.7618\n"
     ]
    }
   ],
   "source": [
    "history = nn_model.fit(X_train, y_train, epochs=100, batch_size=32, validation_split=0.1)"
   ]
  },
  {
   "cell_type": "code",
   "execution_count": 16,
   "metadata": {},
   "outputs": [
    {
     "data": {
      "image/png": "[encoded data removed]",
      "text/plain": [
       "<Figure size 640x480 with 1 Axes>"
      ]
     },
     "metadata": {},
     "output_type": "display_data"
    }
   ],
   "source": [
    "# plotar a curva de perda de um modo\n",
    "plt.plot(history.history['loss'], label='train')\n",
    "plt.plot(history.history['val_loss'], label='validation')\n",
    "plt.legend()\n",
    "plt.show()"
   ]
  },
  {
   "cell_type": "code",
   "execution_count": 17,
   "metadata": {},
   "outputs": [
    {
     "name": "stdout",
     "output_type": "stream",
     "text": [
      "23/23 [==============================] - 0s 2ms/step - loss: 0.4787 - accuracy: 0.7248\n",
      "Test Accuracy: 0.7248227000236511\n"
     ]
    }
   ],
   "source": [
    "X_test = X_test.astype('float32')\n",
    "y_test = y_test.astype('float32')\n",
    "test_loss, test_acc = nn_model.evaluate(X_test, y_test)\n",
    "print('Test Accuracy:', test_acc)"
   ]
  },
  {
   "cell_type": "code",
   "execution_count": 18,
   "metadata": {},
   "outputs": [
    {
     "name": "stdout",
     "output_type": "stream",
     "text": [
      "23/23 [==============================] - 0s 2ms/step\n",
      "              precision    recall  f1-score   support\n",
      "\n",
      "         0.0       0.72      1.00      0.84       511\n",
      "         1.0       0.00      0.00      0.00       194\n",
      "\n",
      "    accuracy                           0.72       705\n",
      "   macro avg       0.36      0.50      0.42       705\n",
      "weighted avg       0.53      0.72      0.61       705\n",
      "\n"
     ]
    },
    {
     "name": "stderr",
     "output_type": "stream",
     "text": [
      "c:\\Users\\arthu\\AppData\\Local\\Programs\\Python\\Python310\\lib\\site-packages\\sklearn\\metrics\\_classification.py:1334: UndefinedMetricWarning: Precision and F-score are ill-defined and being set to 0.0 in labels with no predicted samples. Use `zero_division` parameter to control this behavior.\n",
      "  _warn_prf(average, modifier, msg_start, len(result))\n",
      "c:\\Users\\arthu\\AppData\\Local\\Programs\\Python\\Python310\\lib\\site-packages\\sklearn\\metrics\\_classification.py:1334: UndefinedMetricWarning: Precision and F-score are ill-defined and being set to 0.0 in labels with no predicted samples. Use `zero_division` parameter to control this behavior.\n",
      "  _warn_prf(average, modifier, msg_start, len(result))\n",
      "c:\\Users\\arthu\\AppData\\Local\\Programs\\Python\\Python310\\lib\\site-packages\\sklearn\\metrics\\_classification.py:1334: UndefinedMetricWarning: Precision and F-score are ill-defined and being set to 0.0 in labels with no predicted samples. Use `zero_division` parameter to control this behavior.\n",
      "  _warn_prf(average, modifier, msg_start, len(result))\n"
     ]
    }
   ],
   "source": [
    "# Classification report\n",
    "predictions = nn_model.predict(X_test)\n",
    "predictions = (predictions > 0.5).astype(int)\n",
    "print(classification_report(y_test, predictions))"
   ]
  },
  {
   "cell_type": "markdown",
   "metadata": {},
   "source": [
    "# Ensemble"
   ]
  },
  {
   "cell_type": "code",
   "execution_count": 19,
   "metadata": {},
   "outputs": [
    {
     "name": "stdout",
     "output_type": "stream",
     "text": [
      "23/23 [==============================] - 0s 2ms/step\n"
     ]
    }
   ],
   "source": [
    "nn_predictions = nn_model.predict(X_test)[:, 0]  # Retorna a probabilidade da classe positiva\n",
    "xgb_predictions = xg_model.predict_proba(X_test)[:, 1]  # Retorna a probabilidade da classe positiva"
   ]
  },
  {
   "cell_type": "code",
   "execution_count": 20,
   "metadata": {},
   "outputs": [],
   "source": [
    "# Média das previsões\n",
    "final_predictions = (nn_predictions + xgb_predictions) / 2"
   ]
  },
  {
   "cell_type": "code",
   "execution_count": 21,
   "metadata": {},
   "outputs": [
    {
     "name": "stdout",
     "output_type": "stream",
     "text": [
      "Ensemble Accuracy: 0.7971631205673759\n"
     ]
    }
   ],
   "source": [
    "# Acurácia\n",
    "final_class_predictions = (final_predictions > 0.5).astype(int)\n",
    "print(\"Ensemble Accuracy:\", accuracy_score(y_test, final_class_predictions))"
   ]
  },
  {
   "cell_type": "code",
   "execution_count": 22,
   "metadata": {},
   "outputs": [
    {
     "name": "stdout",
     "output_type": "stream",
     "text": [
      "              precision    recall  f1-score   support\n",
      "\n",
      "         0.0       0.81      0.95      0.87       511\n",
      "         1.0       0.74      0.40      0.52       194\n",
      "\n",
      "    accuracy                           0.80       705\n",
      "   macro avg       0.77      0.67      0.70       705\n",
      "weighted avg       0.79      0.80      0.78       705\n",
      "\n"
     ]
    }
   ],
   "source": [
    "# Classification report\n",
    "print(classification_report(y_test, final_class_predictions))"
   ]
  },
  {
   "cell_type": "markdown",
   "metadata": {},
   "source": [
    "# Dataset desbalanceado"
   ]
  },
  {
   "cell_type": "code",
   "execution_count": 23,
   "metadata": {},
   "outputs": [
    {
     "data": {
      "image/png": "[encoded data removed]",
      "text/plain": [
       "<Figure size 1000x600 with 1 Axes>"
      ]
     },
     "metadata": {},
     "output_type": "display_data"
    }
   ],
   "source": [
    "# Gráfico da Distribuição das classes em churn\n",
    "plt.figure(figsize=(10, 6))\n",
    "sns.countplot(x='Churn', data=dataset, palette='Paired', legend=False, hue='Churn')\n",
    "plt.title('Distribuição das classes em churn')\n",
    "plt.show()"
   ]
  },
  {
   "cell_type": "markdown",
   "metadata": {},
   "source": [
    "A classificação desequilibrada é um problema comum no aprendizado de máquina, especialmente no domínio da classificação binária. Isso ocorre quando o conjunto de dados de treinamento tem uma distribuição desigual de classes, levando a um possível viés no modelo treinado. É importante abordar o desequilíbrio de classes para melhorar o desempenho do nosso modelo e garantir sua precisão."
   ]
  },
  {
   "cell_type": "markdown",
   "metadata": {},
   "source": [
    "## Modificando os Pesos na Função de Perda"
   ]
  },
  {
   "cell_type": "markdown",
   "metadata": {},
   "source": [
    "A atribuição de pesos diferentes aos exemplos na função de perda pode ajudar a compensar o desequilíbrio. Isso significa dar maior importância aos exemplos da classe minoritária durante o treinamento do modelo."
   ]
  },
  {
   "cell_type": "markdown",
   "metadata": {},
   "source": [
    "**`(y_train == 1).sum()`**: Este trecho conta quantas vezes a classe `1` aparece no conjunto de dados de treino. Isso é feito comparando cada elemento de `y_train` com `1` (verdadeiro onde a condição é atendida) e somando esses valores verdadeiros.\n",
    "\n",
    "**`(y_train == 0).sum()`**: Similarmente, este trecho conta quantas vezes a classe `0` aparece em `y_train`.\n",
    "\n",
    "**Divisão**: A divisão do número de exemplos da classe minoritária (1) pelo número de exemplos da classe majoritária(0) calcula um fator de peso. Esse peso será usado para equilibrar as classes, aumentando a importância das instâncias da classe minoritária durante o treinamento do modelo."
   ]
  },
  {
   "cell_type": "code",
   "execution_count": 24,
   "metadata": {},
   "outputs": [
    {
     "data": {
      "text/html": [
       "<style>#sk-container-id-2 {color: black;background-color: white;}#sk-container-id-2 pre{padding: 0;}#sk-container-id-2 div.sk-toggleable {background-color: white;}#sk-container-id-2 label.sk-toggleable__label {cursor: pointer;display: block;width: 100%;margin-bottom: 0;padding: 0.3em;box-sizing: border-box;text-align: center;}#sk-container-id-2 label.sk-toggleable__label-arrow:before {content: \"▸\";float: left;margin-right: 0.25em;color: #696969;}#sk-container-id-2 label.sk-toggleable__label-arrow:hover:before {color: black;}#sk-container-id-2 div.sk-estimator:hover label.sk-toggleable__label-arrow:before {color: black;}#sk-container-id-2 div.sk-toggleable__content {max-height: 0;max-width: 0;overflow: hidden;text-align: left;background-color: #f0f8ff;}#sk-container-id-2 div.sk-toggleable__content pre {margin: 0.2em;color: black;border-radius: 0.25em;background-color: #f0f8ff;}#sk-container-id-2 input.sk-toggleable__control:checked~div.sk-toggleable__content {max-height: 200px;max-width: 100%;overflow: auto;}#sk-container-id-2 input.sk-toggleable__control:checked~label.sk-toggleable__label-arrow:before {content: \"▾\";}#sk-container-id-2 div.sk-estimator input.sk-toggleable__control:checked~label.sk-toggleable__label {background-color: #d4ebff;}#sk-container-id-2 div.sk-label input.sk-toggleable__control:checked~label.sk-toggleable__label {background-color: #d4ebff;}#sk-container-id-2 input.sk-hidden--visually {border: 0;clip: rect(1px 1px 1px 1px);clip: rect(1px, 1px, 1px, 1px);height: 1px;margin: -1px;overflow: hidden;padding: 0;position: absolute;width: 1px;}#sk-container-id-2 div.sk-estimator {font-family: monospace;background-color: #f0f8ff;border: 1px dotted black;border-radius: 0.25em;box-sizing: border-box;margin-bottom: 0.5em;}#sk-container-id-2 div.sk-estimator:hover {background-color: #d4ebff;}#sk-container-id-2 div.sk-parallel-item::after {content: \"\";width: 100%;border-bottom: 1px solid gray;flex-grow: 1;}#sk-container-id-2 div.sk-label:hover label.sk-toggleable__label {background-color: #d4ebff;}#sk-container-id-2 div.sk-serial::before {content: \"\";position: absolute;border-left: 1px solid gray;box-sizing: border-box;top: 0;bottom: 0;left: 50%;z-index: 0;}#sk-container-id-2 div.sk-serial {display: flex;flex-direction: column;align-items: center;background-color: white;padding-right: 0.2em;padding-left: 0.2em;position: relative;}#sk-container-id-2 div.sk-item {position: relative;z-index: 1;}#sk-container-id-2 div.sk-parallel {display: flex;align-items: stretch;justify-content: center;background-color: white;position: relative;}#sk-container-id-2 div.sk-item::before, #sk-container-id-2 div.sk-parallel-item::before {content: \"\";position: absolute;border-left: 1px solid gray;box-sizing: border-box;top: 0;bottom: 0;left: 50%;z-index: -1;}#sk-container-id-2 div.sk-parallel-item {display: flex;flex-direction: column;z-index: 1;position: relative;background-color: white;}#sk-container-id-2 div.sk-parallel-item:first-child::after {align-self: flex-end;width: 50%;}#sk-container-id-2 div.sk-parallel-item:last-child::after {align-self: flex-start;width: 50%;}#sk-container-id-2 div.sk-parallel-item:only-child::after {width: 0;}#sk-container-id-2 div.sk-dashed-wrapped {border: 1px dashed gray;margin: 0 0.4em 0.5em 0.4em;box-sizing: border-box;padding-bottom: 0.4em;background-color: white;}#sk-container-id-2 div.sk-label label {font-family: monospace;font-weight: bold;display: inline-block;line-height: 1.2em;}#sk-container-id-2 div.sk-label-container {text-align: center;}#sk-container-id-2 div.sk-container {/* jupyter's `normalize.less` sets `[hidden] { display: none; }` but bootstrap.min.css set `[hidden] { display: none !important; }` so we also need the `!important` here to be able to override the default hidden behavior on the sphinx rendered scikit-learn.org. See: https://github.com/scikit-learn/scikit-learn/issues/21755 */display: inline-block !important;position: relative;}#sk-container-id-2 div.sk-text-repr-fallback {display: none;}</style><div id=\"sk-container-id-2\" class=\"sk-top-container\"><div class=\"sk-text-repr-fallback\"><pre>XGBClassifier(base_score=None, booster=None, callbacks=None,\n",
       "              colsample_bylevel=None, colsample_bynode=None,\n",
       "              colsample_bytree=0.7, device=None, early_stopping_rounds=None,\n",
       "              enable_categorical=False, eval_metric=None, feature_types=None,\n",
       "              gamma=None, grow_policy=None, importance_type=None,\n",
       "              interaction_constraints=None, learning_rate=0.01, max_bin=None,\n",
       "              max_cat_threshold=None, max_cat_to_onehot=None,\n",
       "              max_delta_step=None, max_depth=5, max_leaves=None,\n",
       "              min_child_weight=None, missing=nan, monotone_constraints=None,\n",
       "              multi_strategy=None, n_estimators=500, n_jobs=None,\n",
       "              num_parallel_tree=None, random_state=42, ...)</pre><b>In a Jupyter environment, please rerun this cell to show the HTML representation or trust the notebook. <br />On GitHub, the HTML representation is unable to render, please try loading this page with nbviewer.org.</b></div><div class=\"sk-container\" hidden><div class=\"sk-item\"><div class=\"sk-estimator sk-toggleable\"><input class=\"sk-toggleable__control sk-hidden--visually\" id=\"sk-estimator-id-2\" type=\"checkbox\" checked><label for=\"sk-estimator-id-2\" class=\"sk-toggleable__label sk-toggleable__label-arrow\">XGBClassifier</label><div class=\"sk-toggleable__content\"><pre>XGBClassifier(base_score=None, booster=None, callbacks=None,\n",
       "              colsample_bylevel=None, colsample_bynode=None,\n",
       "              colsample_bytree=0.7, device=None, early_stopping_rounds=None,\n",
       "              enable_categorical=False, eval_metric=None, feature_types=None,\n",
       "              gamma=None, grow_policy=None, importance_type=None,\n",
       "              interaction_constraints=None, learning_rate=0.01, max_bin=None,\n",
       "              max_cat_threshold=None, max_cat_to_onehot=None,\n",
       "              max_delta_step=None, max_depth=5, max_leaves=None,\n",
       "              min_child_weight=None, missing=nan, monotone_constraints=None,\n",
       "              multi_strategy=None, n_estimators=500, n_jobs=None,\n",
       "              num_parallel_tree=None, random_state=42, ...)</pre></div></div></div></div></div>"
      ],
      "text/plain": [
       "XGBClassifier(base_score=None, booster=None, callbacks=None,\n",
       "              colsample_bylevel=None, colsample_bynode=None,\n",
       "              colsample_bytree=0.7, device=None, early_stopping_rounds=None,\n",
       "              enable_categorical=False, eval_metric=None, feature_types=None,\n",
       "              gamma=None, grow_policy=None, importance_type=None,\n",
       "              interaction_constraints=None, learning_rate=0.01, max_bin=None,\n",
       "              max_cat_threshold=None, max_cat_to_onehot=None,\n",
       "              max_delta_step=None, max_depth=5, max_leaves=None,\n",
       "              min_child_weight=None, missing=nan, monotone_constraints=None,\n",
       "              multi_strategy=None, n_estimators=500, n_jobs=None,\n",
       "              num_parallel_tree=None, random_state=42, ...)"
      ]
     },
     "execution_count": 24,
     "metadata": {},
     "output_type": "execute_result"
    }
   ],
   "source": [
    "# Calculando os pesos para cada classe\n",
    "weights = (y_train == 1).sum() / (1.0 * (y_train == 0).sum())\n",
    "\n",
    "xg_model = xgb.XGBClassifier(\n",
    "    n_estimators=500,\n",
    "    learning_rate=0.01, \n",
    "    max_depth=5,         # Quantidade de camadas, quanto mais camadas, mais complexo\n",
    "    subsample=0.7,       # Quantidade de amostras por árvore, quanto menos amostras, mais rápido\n",
    "    colsample_bytree=0.7,# Quantidade de colunas por árvore, quanto menos colunas, mais rápido\n",
    "    reg_alpha=0.01,      # Regularização L1\n",
    "    reg_lambda=1.0,      # Regularização L2\n",
    "    objective='binary:logistic',\n",
    "    random_state=42,\n",
    "    scale_pos_weight=weights\n",
    ")\n",
    "\n",
    "# Treinamento do modelo\n",
    "xg_model.fit(X_train, y_train)"
   ]
  },
  {
   "cell_type": "code",
   "execution_count": 25,
   "metadata": {},
   "outputs": [
    {
     "name": "stdout",
     "output_type": "stream",
     "text": [
      "Accuracy: 0.7801418439716312\n",
      "              precision    recall  f1-score   support\n",
      "\n",
      "         0.0       0.77      0.98      0.87       511\n",
      "         1.0       0.85      0.24      0.38       194\n",
      "\n",
      "    accuracy                           0.78       705\n",
      "   macro avg       0.81      0.61      0.62       705\n",
      "weighted avg       0.80      0.78      0.73       705\n",
      "\n"
     ]
    }
   ],
   "source": [
    "predictions = xg_model.predict(X_test)\n",
    "print(\"Accuracy:\", accuracy_score(y_test, predictions))\n",
    "print(classification_report(y_test, predictions))"
   ]
  },
  {
   "cell_type": "code",
   "execution_count": 26,
   "metadata": {},
   "outputs": [
    {
     "name": "stdout",
     "output_type": "stream",
     "text": [
      "23/23 [==============================] - 0s 1ms/step\n",
      "Ensemble Accuracy: 0.7659574468085106\n"
     ]
    }
   ],
   "source": [
    "nn_predictions = nn_model.predict(X_test)[:, 0]  # Retorna a probabilidade da classe positiva\n",
    "xgb_predictions = xg_model.predict_proba(X_test)[:, 1]  # Retorna a probabilidade da classe positiva\n",
    "\n",
    "# Média das previsões\n",
    "final_predictions = (nn_predictions + xgb_predictions) / 2\n",
    "\n",
    "# Acurácia\n",
    "final_class_predictions = (final_predictions > 0.5).astype(int)\n",
    "print(\"Ensemble Accuracy:\", accuracy_score(y_test, final_class_predictions))"
   ]
  },
  {
   "cell_type": "code",
   "execution_count": 27,
   "metadata": {},
   "outputs": [
    {
     "name": "stdout",
     "output_type": "stream",
     "text": [
      "              precision    recall  f1-score   support\n",
      "\n",
      "         0.0       0.76      0.99      0.86       511\n",
      "         1.0       0.85      0.18      0.30       194\n",
      "\n",
      "    accuracy                           0.77       705\n",
      "   macro avg       0.81      0.58      0.58       705\n",
      "weighted avg       0.79      0.77      0.71       705\n",
      "\n"
     ]
    }
   ],
   "source": [
    "# Classification report\n",
    "print(classification_report(y_test, final_class_predictions))"
   ]
  },
  {
   "cell_type": "markdown",
   "metadata": {},
   "source": [
    "### Análise de Classe\n",
    "- **Classe 0 (Majoritária)**\n",
    "  - **Precisão**: 0.80. Isso indica que 80% das previsões para classe 0 estão corretas.\n",
    "  - **Recall**: 0.97. Significa que 97% das instâncias reais de classe 0 foram identificadas corretamente pelo modelo.\n",
    "  - **F1-Score**: 0.87. O F1-score é uma média harmônica de precisão e recall, e um valor de 0.87 sugere um bom equilíbrio entre precisão e recall para esta classe.\n",
    "  - **Suporte**: 511. Número total de casos reais da classe 0 no conjunto de teste.\n",
    "\n",
    "- **Classe 1 (Minoritária)**\n",
    "  - **Precisão**: 0.81. Isto sugere que 81% das previsões de classe 1 pelo modelo estão corretas.\n",
    "  - **Recall**: 0.35. Apenas 37% das instâncias reais de classe 1 foram identificadas corretamente, o que é bastante baixo.\n",
    "  - **F1-Score**: 0.49. Este valor mais baixo indica uma baixa eficácia do modelo em equilibrar a precisão e o recall para a classe minoritária.\n",
    "  - **Suporte**: 194. Número total de casos reais da classe 1 no conjunto de teste.\n",
    "\n",
    "### Análise Agregada\n",
    "- **Acurácia**: 0.80. Isso mostra que o modelo acertou 80% das vezes para todas as previsões feitas.\n",
    "- **Média Macro (avg)**:\n",
    "  - **Precisão**: 0.80. Média simples das precisões para ambas as classes.\n",
    "  - **Recall**: 0.66. Média simples dos recalls, afetada negativamente pelo baixo recall da classe 1.\n",
    "  - **F1-Score**: 0.68. Indica a média do F1-score, que também é puxada para baixo pela performance na classe 1.\n",
    "- **Média Ponderada (weighted avg)**:\n",
    "  - **Precisão**: 0.80. Considera o número de instâncias em cada classe, dando mais peso à classe 0.\n",
    "  - **Recall**: 0.80. Similar à precisão, ponderada pelo suporte.\n",
    "  - **F1-Score**: 0.77. F1-score ponderado que favorece a classe com mais suporte."
   ]
  },
  {
   "cell_type": "markdown",
   "metadata": {},
   "source": [
    "Ponderar os pesos pode aumentar a precisão da classe minoritária, porém o recall e o f1-score podem ser afetados negativamente. Portanto, é importante encontrar um equilíbrio entre as métricas de avaliação para ambas as classes."
   ]
  },
  {
   "cell_type": "markdown",
   "metadata": {},
   "source": [
    "# Engenharia de Recursos"
   ]
  },
  {
   "cell_type": "markdown",
   "metadata": {},
   "source": [
    "Um tema comum em aprendizado de máquina é a seleção de boas características para maximizar o desempenho do modelo.\n",
    "\n",
    "Para conjuntos de dados estruturados, geralmente há dois passos para escolher um conjunto final de características:\n",
    "\n",
    "**Engenharia de características**: criação de novas características a partir dos dados (por exemplo, a partir do preço unitário e do volume total, talvez criar uma característica de receita total, igual ao preço vezes o volume).\n",
    "\n",
    "**Seleção de características**: de um conjunto de características $ p $, selecionar um subconjunto que mantenha (ou até melhore) o desempenho."
   ]
  },
  {
   "cell_type": "markdown",
   "metadata": {},
   "source": [
    "## Engenharia de características"
   ]
  },
  {
   "cell_type": "code",
   "execution_count": 28,
   "metadata": {},
   "outputs": [],
   "source": [
    "# Receita total gerada por cada cliente ao longo do período de tempo (tenure) que ele permaneceu com a empresa.\n",
    "dataset['TotalRevenue'] = dataset['MonthlyCharges'] * dataset['tenure']\n",
    "\n",
    "# Contar quantos serviços o cliente tem\n",
    "services = ['PhoneService', 'MultipleLines', 'InternetService', 'OnlineSecurity', 'OnlineBackup', 'DeviceProtection', 'TechSupport', 'StreamingTV', 'StreamingMovies']\n",
    "dataset['ActiveServices'] = dataset[services].apply(lambda x: x.str.contains('Sim').sum(), axis=1)\n",
    "\n",
    "# Normalizar a coluna 'tenure'\n",
    "dataset['NormalizedTenure'] = dataset['tenure'] / dataset['tenure'].max()\n",
    "\n",
    "# Criar uma coluna para identificar clientes idosos com parceiros\n",
    "dataset['SeniorCitizen_with_Partner'] = ((dataset['SeniorCitizen'] == 1) & (dataset['Partner'] == 'Sim')).astype(int)\n",
    "\n",
    "# Transformação temporal\n",
    "bins = [0, 12, 24, 36, 48, 60, 72]\n",
    "labels = ['0-12 months', '12-24 months', '24-36 months', '36-48 months', '48-60 months', '60-72 months']\n",
    "dataset['TenureGroup'] = pd.cut(dataset['tenure'], bins=bins, labels=labels, right=False)\n",
    "\n",
    "# Combinação de Serviços\n",
    "dataset['Security_and_Backup'] = ((dataset['OnlineSecurity'] == 'Sim') & (dataset['OnlineBackup'] == 'Sim')).astype(int)\n",
    "\n",
    "# Análise de clusters\n",
    "kmeans = KMeans(n_clusters=5, random_state=0).fit(dataset[['MonthlyCharges', 'tenure']])\n",
    "dataset['CustomerCluster'] = kmeans.labels_\n",
    "\n",
    "# Comparar MonthlyCharges com TotalCharges para ver a consistência nas cobranças\n",
    "dataset['ChargesRatio'] = dataset['MonthlyCharges'] / (dataset['TotalCharges'].replace(' ', np.nan).astype(float))"
   ]
  },
  {
   "cell_type": "code",
   "execution_count": 29,
   "metadata": {},
   "outputs": [
    {
     "data": {
      "text/html": [
       "<div>\n",
       "<style scoped>\n",
       "    .dataframe tbody tr th:only-of-type {\n",
       "        vertical-align: middle;\n",
       "    }\n",
       "\n",
       "    .dataframe tbody tr th {\n",
       "        vertical-align: top;\n",
       "    }\n",
       "\n",
       "    .dataframe thead th {\n",
       "        text-align: right;\n",
       "    }\n",
       "</style>\n",
       "<table border=\"1\" class=\"dataframe\">\n",
       "  <thead>\n",
       "    <tr style=\"text-align: right;\">\n",
       "      <th></th>\n",
       "      <th>gender</th>\n",
       "      <th>SeniorCitizen</th>\n",
       "      <th>Partner</th>\n",
       "      <th>Dependents</th>\n",
       "      <th>tenure</th>\n",
       "      <th>PhoneService</th>\n",
       "      <th>MultipleLines</th>\n",
       "      <th>InternetService</th>\n",
       "      <th>OnlineSecurity</th>\n",
       "      <th>OnlineBackup</th>\n",
       "      <th>...</th>\n",
       "      <th>TotalCharges</th>\n",
       "      <th>Churn</th>\n",
       "      <th>TotalRevenue</th>\n",
       "      <th>ActiveServices</th>\n",
       "      <th>NormalizedTenure</th>\n",
       "      <th>SeniorCitizen_with_Partner</th>\n",
       "      <th>TenureGroup</th>\n",
       "      <th>Security_and_Backup</th>\n",
       "      <th>CustomerCluster</th>\n",
       "      <th>ChargesRatio</th>\n",
       "    </tr>\n",
       "  </thead>\n",
       "  <tbody>\n",
       "    <tr>\n",
       "      <th>0</th>\n",
       "      <td>Female</td>\n",
       "      <td>0</td>\n",
       "      <td>Yes</td>\n",
       "      <td>No</td>\n",
       "      <td>1</td>\n",
       "      <td>No</td>\n",
       "      <td>No phone service</td>\n",
       "      <td>DSL</td>\n",
       "      <td>No</td>\n",
       "      <td>Yes</td>\n",
       "      <td>...</td>\n",
       "      <td>29.85</td>\n",
       "      <td>No</td>\n",
       "      <td>29.85</td>\n",
       "      <td>0</td>\n",
       "      <td>0.013889</td>\n",
       "      <td>0</td>\n",
       "      <td>0-12 months</td>\n",
       "      <td>0</td>\n",
       "      <td>2</td>\n",
       "      <td>1.000000</td>\n",
       "    </tr>\n",
       "    <tr>\n",
       "      <th>1</th>\n",
       "      <td>Male</td>\n",
       "      <td>0</td>\n",
       "      <td>No</td>\n",
       "      <td>No</td>\n",
       "      <td>34</td>\n",
       "      <td>Yes</td>\n",
       "      <td>No</td>\n",
       "      <td>DSL</td>\n",
       "      <td>Yes</td>\n",
       "      <td>No</td>\n",
       "      <td>...</td>\n",
       "      <td>1889.50</td>\n",
       "      <td>No</td>\n",
       "      <td>1936.30</td>\n",
       "      <td>0</td>\n",
       "      <td>0.472222</td>\n",
       "      <td>0</td>\n",
       "      <td>24-36 months</td>\n",
       "      <td>0</td>\n",
       "      <td>3</td>\n",
       "      <td>0.030140</td>\n",
       "    </tr>\n",
       "    <tr>\n",
       "      <th>2</th>\n",
       "      <td>Male</td>\n",
       "      <td>0</td>\n",
       "      <td>No</td>\n",
       "      <td>No</td>\n",
       "      <td>2</td>\n",
       "      <td>Yes</td>\n",
       "      <td>No</td>\n",
       "      <td>DSL</td>\n",
       "      <td>Yes</td>\n",
       "      <td>Yes</td>\n",
       "      <td>...</td>\n",
       "      <td>108.15</td>\n",
       "      <td>Yes</td>\n",
       "      <td>107.70</td>\n",
       "      <td>0</td>\n",
       "      <td>0.027778</td>\n",
       "      <td>0</td>\n",
       "      <td>0-12 months</td>\n",
       "      <td>0</td>\n",
       "      <td>2</td>\n",
       "      <td>0.497920</td>\n",
       "    </tr>\n",
       "    <tr>\n",
       "      <th>3</th>\n",
       "      <td>Male</td>\n",
       "      <td>0</td>\n",
       "      <td>No</td>\n",
       "      <td>No</td>\n",
       "      <td>45</td>\n",
       "      <td>No</td>\n",
       "      <td>No phone service</td>\n",
       "      <td>DSL</td>\n",
       "      <td>Yes</td>\n",
       "      <td>No</td>\n",
       "      <td>...</td>\n",
       "      <td>1840.75</td>\n",
       "      <td>No</td>\n",
       "      <td>1903.50</td>\n",
       "      <td>0</td>\n",
       "      <td>0.625000</td>\n",
       "      <td>0</td>\n",
       "      <td>36-48 months</td>\n",
       "      <td>0</td>\n",
       "      <td>0</td>\n",
       "      <td>0.022980</td>\n",
       "    </tr>\n",
       "    <tr>\n",
       "      <th>4</th>\n",
       "      <td>Female</td>\n",
       "      <td>0</td>\n",
       "      <td>No</td>\n",
       "      <td>No</td>\n",
       "      <td>2</td>\n",
       "      <td>Yes</td>\n",
       "      <td>No</td>\n",
       "      <td>Fiber optic</td>\n",
       "      <td>No</td>\n",
       "      <td>No</td>\n",
       "      <td>...</td>\n",
       "      <td>151.65</td>\n",
       "      <td>Yes</td>\n",
       "      <td>141.40</td>\n",
       "      <td>0</td>\n",
       "      <td>0.027778</td>\n",
       "      <td>0</td>\n",
       "      <td>0-12 months</td>\n",
       "      <td>0</td>\n",
       "      <td>1</td>\n",
       "      <td>0.466205</td>\n",
       "    </tr>\n",
       "  </tbody>\n",
       "</table>\n",
       "<p>5 rows × 28 columns</p>\n",
       "</div>"
      ],
      "text/plain": [
       "   gender  SeniorCitizen Partner Dependents  tenure PhoneService  \\\n",
       "0  Female              0     Yes         No       1           No   \n",
       "1    Male              0      No         No      34          Yes   \n",
       "2    Male              0      No         No       2          Yes   \n",
       "3    Male              0      No         No      45           No   \n",
       "4  Female              0      No         No       2          Yes   \n",
       "\n",
       "      MultipleLines InternetService OnlineSecurity OnlineBackup  ...  \\\n",
       "0  No phone service             DSL             No          Yes  ...   \n",
       "1                No             DSL            Yes           No  ...   \n",
       "2                No             DSL            Yes          Yes  ...   \n",
       "3  No phone service             DSL            Yes           No  ...   \n",
       "4                No     Fiber optic             No           No  ...   \n",
       "\n",
       "  TotalCharges Churn TotalRevenue ActiveServices NormalizedTenure  \\\n",
       "0        29.85    No        29.85              0         0.013889   \n",
       "1      1889.50    No      1936.30              0         0.472222   \n",
       "2       108.15   Yes       107.70              0         0.027778   \n",
       "3      1840.75    No      1903.50              0         0.625000   \n",
       "4       151.65   Yes       141.40              0         0.027778   \n",
       "\n",
       "  SeniorCitizen_with_Partner   TenureGroup  Security_and_Backup  \\\n",
       "0                          0   0-12 months                    0   \n",
       "1                          0  24-36 months                    0   \n",
       "2                          0   0-12 months                    0   \n",
       "3                          0  36-48 months                    0   \n",
       "4                          0   0-12 months                    0   \n",
       "\n",
       "   CustomerCluster ChargesRatio  \n",
       "0                2     1.000000  \n",
       "1                3     0.030140  \n",
       "2                2     0.497920  \n",
       "3                0     0.022980  \n",
       "4                1     0.466205  \n",
       "\n",
       "[5 rows x 28 columns]"
      ]
     },
     "execution_count": 29,
     "metadata": {},
     "output_type": "execute_result"
    }
   ],
   "source": [
    "dataset.head()"
   ]
  },
  {
   "cell_type": "code",
   "execution_count": 30,
   "metadata": {},
   "outputs": [],
   "source": [
    "# Selecionar colunas categóricas, mantendo as colunas do tipo int e float no DataFrame\n",
    "categorical_cols = dataset.select_dtypes(include=['object','category']).columns.tolist()\n",
    "\n",
    "# Criar um DataFrame com as colunas categóricas aplicando label encoding\n",
    "dataset_dummies = dataset.copy()\n",
    "for col in categorical_cols:\n",
    "    dataset_dummies[col] = label_encoder.fit_transform(dataset[col])\n",
    "\n",
    "# Dividindo os dados em características e target\n",
    "X = dataset_dummies.drop(['Churn'], axis=1)  # Características\n",
    "y = dataset_dummies['Churn']"
   ]
  },
  {
   "cell_type": "code",
   "execution_count": 31,
   "metadata": {},
   "outputs": [
    {
     "data": {
      "text/html": [
       "<div>\n",
       "<style scoped>\n",
       "    .dataframe tbody tr th:only-of-type {\n",
       "        vertical-align: middle;\n",
       "    }\n",
       "\n",
       "    .dataframe tbody tr th {\n",
       "        vertical-align: top;\n",
       "    }\n",
       "\n",
       "    .dataframe thead th {\n",
       "        text-align: right;\n",
       "    }\n",
       "</style>\n",
       "<table border=\"1\" class=\"dataframe\">\n",
       "  <thead>\n",
       "    <tr style=\"text-align: right;\">\n",
       "      <th></th>\n",
       "      <th>gender</th>\n",
       "      <th>SeniorCitizen</th>\n",
       "      <th>Partner</th>\n",
       "      <th>Dependents</th>\n",
       "      <th>tenure</th>\n",
       "      <th>PhoneService</th>\n",
       "      <th>MultipleLines</th>\n",
       "      <th>InternetService</th>\n",
       "      <th>OnlineSecurity</th>\n",
       "      <th>OnlineBackup</th>\n",
       "      <th>...</th>\n",
       "      <th>MonthlyCharges</th>\n",
       "      <th>TotalCharges</th>\n",
       "      <th>TotalRevenue</th>\n",
       "      <th>ActiveServices</th>\n",
       "      <th>NormalizedTenure</th>\n",
       "      <th>SeniorCitizen_with_Partner</th>\n",
       "      <th>TenureGroup</th>\n",
       "      <th>Security_and_Backup</th>\n",
       "      <th>CustomerCluster</th>\n",
       "      <th>ChargesRatio</th>\n",
       "    </tr>\n",
       "  </thead>\n",
       "  <tbody>\n",
       "    <tr>\n",
       "      <th>0</th>\n",
       "      <td>0</td>\n",
       "      <td>0</td>\n",
       "      <td>1</td>\n",
       "      <td>0</td>\n",
       "      <td>1</td>\n",
       "      <td>0</td>\n",
       "      <td>1</td>\n",
       "      <td>0</td>\n",
       "      <td>0</td>\n",
       "      <td>2</td>\n",
       "      <td>...</td>\n",
       "      <td>29.85</td>\n",
       "      <td>29.85</td>\n",
       "      <td>29.85</td>\n",
       "      <td>0</td>\n",
       "      <td>0.013889</td>\n",
       "      <td>0</td>\n",
       "      <td>0</td>\n",
       "      <td>0</td>\n",
       "      <td>2</td>\n",
       "      <td>1.000000</td>\n",
       "    </tr>\n",
       "    <tr>\n",
       "      <th>1</th>\n",
       "      <td>1</td>\n",
       "      <td>0</td>\n",
       "      <td>0</td>\n",
       "      <td>0</td>\n",
       "      <td>34</td>\n",
       "      <td>1</td>\n",
       "      <td>0</td>\n",
       "      <td>0</td>\n",
       "      <td>2</td>\n",
       "      <td>0</td>\n",
       "      <td>...</td>\n",
       "      <td>56.95</td>\n",
       "      <td>1889.50</td>\n",
       "      <td>1936.30</td>\n",
       "      <td>0</td>\n",
       "      <td>0.472222</td>\n",
       "      <td>0</td>\n",
       "      <td>2</td>\n",
       "      <td>0</td>\n",
       "      <td>3</td>\n",
       "      <td>0.030140</td>\n",
       "    </tr>\n",
       "    <tr>\n",
       "      <th>2</th>\n",
       "      <td>1</td>\n",
       "      <td>0</td>\n",
       "      <td>0</td>\n",
       "      <td>0</td>\n",
       "      <td>2</td>\n",
       "      <td>1</td>\n",
       "      <td>0</td>\n",
       "      <td>0</td>\n",
       "      <td>2</td>\n",
       "      <td>2</td>\n",
       "      <td>...</td>\n",
       "      <td>53.85</td>\n",
       "      <td>108.15</td>\n",
       "      <td>107.70</td>\n",
       "      <td>0</td>\n",
       "      <td>0.027778</td>\n",
       "      <td>0</td>\n",
       "      <td>0</td>\n",
       "      <td>0</td>\n",
       "      <td>2</td>\n",
       "      <td>0.497920</td>\n",
       "    </tr>\n",
       "    <tr>\n",
       "      <th>3</th>\n",
       "      <td>1</td>\n",
       "      <td>0</td>\n",
       "      <td>0</td>\n",
       "      <td>0</td>\n",
       "      <td>45</td>\n",
       "      <td>0</td>\n",
       "      <td>1</td>\n",
       "      <td>0</td>\n",
       "      <td>2</td>\n",
       "      <td>0</td>\n",
       "      <td>...</td>\n",
       "      <td>42.30</td>\n",
       "      <td>1840.75</td>\n",
       "      <td>1903.50</td>\n",
       "      <td>0</td>\n",
       "      <td>0.625000</td>\n",
       "      <td>0</td>\n",
       "      <td>3</td>\n",
       "      <td>0</td>\n",
       "      <td>0</td>\n",
       "      <td>0.022980</td>\n",
       "    </tr>\n",
       "    <tr>\n",
       "      <th>4</th>\n",
       "      <td>0</td>\n",
       "      <td>0</td>\n",
       "      <td>0</td>\n",
       "      <td>0</td>\n",
       "      <td>2</td>\n",
       "      <td>1</td>\n",
       "      <td>0</td>\n",
       "      <td>1</td>\n",
       "      <td>0</td>\n",
       "      <td>0</td>\n",
       "      <td>...</td>\n",
       "      <td>70.70</td>\n",
       "      <td>151.65</td>\n",
       "      <td>141.40</td>\n",
       "      <td>0</td>\n",
       "      <td>0.027778</td>\n",
       "      <td>0</td>\n",
       "      <td>0</td>\n",
       "      <td>0</td>\n",
       "      <td>1</td>\n",
       "      <td>0.466205</td>\n",
       "    </tr>\n",
       "  </tbody>\n",
       "</table>\n",
       "<p>5 rows × 27 columns</p>\n",
       "</div>"
      ],
      "text/plain": [
       "   gender  SeniorCitizen  Partner  Dependents  tenure  PhoneService  \\\n",
       "0       0              0        1           0       1             0   \n",
       "1       1              0        0           0      34             1   \n",
       "2       1              0        0           0       2             1   \n",
       "3       1              0        0           0      45             0   \n",
       "4       0              0        0           0       2             1   \n",
       "\n",
       "   MultipleLines  InternetService  OnlineSecurity  OnlineBackup  ...  \\\n",
       "0              1                0               0             2  ...   \n",
       "1              0                0               2             0  ...   \n",
       "2              0                0               2             2  ...   \n",
       "3              1                0               2             0  ...   \n",
       "4              0                1               0             0  ...   \n",
       "\n",
       "   MonthlyCharges  TotalCharges  TotalRevenue  ActiveServices  \\\n",
       "0           29.85         29.85         29.85               0   \n",
       "1           56.95       1889.50       1936.30               0   \n",
       "2           53.85        108.15        107.70               0   \n",
       "3           42.30       1840.75       1903.50               0   \n",
       "4           70.70        151.65        141.40               0   \n",
       "\n",
       "   NormalizedTenure  SeniorCitizen_with_Partner  TenureGroup  \\\n",
       "0          0.013889                           0            0   \n",
       "1          0.472222                           0            2   \n",
       "2          0.027778                           0            0   \n",
       "3          0.625000                           0            3   \n",
       "4          0.027778                           0            0   \n",
       "\n",
       "   Security_and_Backup  CustomerCluster  ChargesRatio  \n",
       "0                    0                2      1.000000  \n",
       "1                    0                3      0.030140  \n",
       "2                    0                2      0.497920  \n",
       "3                    0                0      0.022980  \n",
       "4                    0                1      0.466205  \n",
       "\n",
       "[5 rows x 27 columns]"
      ]
     },
     "execution_count": 31,
     "metadata": {},
     "output_type": "execute_result"
    }
   ],
   "source": [
    "X.head()"
   ]
  },
  {
   "cell_type": "markdown",
   "metadata": {},
   "source": [
    "## Seleção de características"
   ]
  },
  {
   "cell_type": "markdown",
   "metadata": {},
   "source": [
    "**Há sempre características inúteis.** No caso da genômica, nem todos os genes estão ativos em um determinado momento - apenas uma fração deles contribui para o fenômeno de interesse. Em uma imagem de 800x600 de um gato, apenas uma pequena parte dos pixels descreverá realmente o gato, com o restante sendo objetos que não são de interesse. Da mesma forma, por mais rica que seja a informação das características de um indivíduo, apenas algumas contribuirão para seu comportamento de crédito.\n",
    "\n",
    "**Nosso objetivo é então encontrar maneiras sistemáticas de filtrar características inúteis.**\n",
    "\n",
    "É senso comum que, se você tem poucas características, seu modelo pode simplesmente não ter informações suficientes para ter um bom desempenho.\n",
    "\n",
    "Menos óbvio é que ter muitas características também pode ser problemático. Elas podem causar perda de desempenho devido a algumas razões relacionadas:\n",
    "\n",
    "- **Sobreajuste**: quanto mais características, mais difícil será para os pontos terem vizinhos próximos (a chamada maldição da dimensionalidade); você precisará de exponencialmente mais dados para cobrir o espaço de características de maneira significativa. Seu algoritmo é propenso a apenas sobreajustar;\n",
    "\n",
    "- **Ruído**: variáveis inúteis introduzem ruído que pode afetar o treinamento;\n",
    "\n",
    "- **Considerações de tempo/espaço**: quanto mais dimensões, mais memória seu computador precisa, e mais tempo levará para treinamento, otimização de hiperparâmetros, etc.\n",
    "\n",
    "Um dos métodos para seleção de características é o algoritmo Boruta, introduzido em 2010 por Kursa e Rudnicki. Ele se provou consistentemente como uma ferramenta poderosa para seleção direta de boas características em casos com milhares de características.\n",
    "\n",
    "De maneira simples, o Boruta funciona da seguinte forma: para cada característica, digamos `x1`, o Boruta cria uma cópia `x1_copy` (chamada de *sombra* pelos autores) e então mistura aleatoriamente os valores entre todos os pontos, criando ruído.\n",
    "\n",
    "Ele então ajusta um modelo (geralmente uma floresta aleatória) implementando um método de importância de características e analisa como a importância da característica original se compara às cópias ruidosas. Se elas forem significativamente diferentes, então `x1` é considerada valiosa e mantida; se não, significa que `x1` é basicamente ruído, e é removida."
   ]
  },
  {
   "cell_type": "markdown",
   "metadata": {},
   "source": [
    "No caso de desequilíbrio de classes, **não use o upsampling**; em vez disso, faça uma validação cruzada com um **undersampling** da classe majoritária durante a seleção de características. Para o Boruta, use um **classificador base RandomForest com pesos**: `class_weight='balanced_subsample'`, e para o modelo final (treinado com todo o conjunto de treinamento usando as características selecionadas), veja se usar `class_weight` dá um resultado melhor do que não usá-lo.\n",
    "\n",
    "O parâmetro `perc` é um parâmetro extremamente importante introduzido na versão Python. Ele basicamente define quão \"flexível\" queremos ser com nossas características: `perc=100` é o mais rigoroso, e quanto mais próximo de 0, mais flexíveis somos ao permitir que características menos importantes sejam selecionadas.\n",
    "\n",
    "Usaremos o Boruta com florestas aleatórias.\n",
    "\n",
    "Como observado pelo próprio autor (em *Boruta para quem tem pressa*, Miron B. Kursa, 21 de maio de 2020), é importante que tenhamos um número suficiente de árvores:\n",
    "> \"Para conjuntos de dados com muitas características, a configuração padrão da fonte de importância provavelmente é insuficiente; no caso particular do Random Forest, o número de árvores muitas vezes não é grande o suficiente para permitir que os escores de importância se estabilizem, o que, por sua vez, muitas vezes leva a falsos negativos e resultados instáveis.\"\n",
    "\n",
    "Isso pode ser resolvido permitindo que o próprio Boruta identifique um número ótimo de árvores."
   ]
  },
  {
   "cell_type": "markdown",
   "metadata": {},
   "source": [
    "### Definição da Função\n",
    "A função `select_feature_boruta` aceita várias entradas:\n",
    "- `X`: Conjunto de características (features).\n",
    "- `y`: Vetor alvo (target).\n",
    "- `perc`: Percentual de confiança para aceitar uma característica como importante.\n",
    "- `alpha`: Nível de significância para o teste estatístico usado internamente pelo Boruta.\n",
    "- `max_iter`: Número máximo de iterações que o Boruta deve executar.\n",
    "- `max_depth`: Profundidade máxima para cada árvore no modelo RandomForest.\n",
    "- `n_estimators`: Número de árvores a serem usadas no RandomForest. Pode ser um número ou 'auto', onde o Boruta tenta determinar um número ótimo.\n",
    "- `n_jobs`: Número de trabalhos a serem executados em paralelo.\n",
    "\n",
    "### Verificação do Tipo de Dados\n",
    "O código verifica se `X` é um DataFrame do pandas e se `y` é uma Series do pandas:\n",
    "- `X_is_df`: Verdadeiro se `X` for um DataFrame.\n",
    "- `y_is_df`: Verdadeiro se `y` for uma Series.\n",
    "\n",
    "### Configuração do Selecionador Boruta\n",
    "- `selector`: Uma instância do `BorutaPy`. É configurada com um estimador (`RandomForestClassifier`), juntamente com os parâmetros fornecidos como `max_depth`, `n_jobs`, e outros parâmetros específicos do Boruta como `n_estimators`, `perc`, `alpha`, `max_iter`, `random_state`, e `verbose`.\n",
    "\n",
    "### Preparação dos Dados\n",
    "- `X_train` e `y_train` são preparados para serem compatíveis com o Boruta, convertendo-os para arrays do numpy se forem DataFrames ou Series. Isto é necessário porque o Boruta trabalha diretamente com arrays do numpy.\n",
    "\n",
    "### Execução do Boruta\n",
    "- `selector.fit(X_train, y_train)`: Este método ajusta o Boruta ao conjunto de dados fornecido, realizando a seleção de características. O Boruta usa a importância das características determinada pelo RandomForest para decidir quais características são estatisticamente significativas.\n",
    "\n",
    "### Retorno dos Resultados\n",
    "- Se `X` for um DataFrame, a função retorna uma lista das colunas consideradas importantes pelo Boruta.\n",
    "- Se `X` não for um DataFrame, a função retorna uma lista dos índices das características importantes."
   ]
  },
  {
   "cell_type": "code",
   "execution_count": 32,
   "metadata": {},
   "outputs": [],
   "source": [
    "def select_feature_boruta(X, y, \n",
    "                         perc=100,\n",
    "                         alpha=0.05,\n",
    "                         max_iter=100,\n",
    "                         max_depth=7,\n",
    "                         n_estimators='auto',\n",
    "                         n_jobs=1):\n",
    "\n",
    "    X_is_df = isinstance(X, pd.DataFrame)\n",
    "    y_is_df = isinstance(y, pd.Series)\n",
    "        \n",
    "    selector = BorutaPy(\n",
    "            estimator=RandomForestClassifier(n_estimators=100, max_depth=max_depth, n_jobs=n_jobs, class_weight='balanced_subsample'),\n",
    "            n_estimators=n_estimators,\n",
    "            perc=perc,      \n",
    "            alpha=alpha,    \n",
    "            max_iter=max_iter,\n",
    "            random_state=1,\n",
    "            verbose=0,\n",
    "        )\n",
    "\n",
    "    # boruta needs a numpy array, not a dataframe\n",
    "    X_train = X.values if X_is_df else X\n",
    "    y_train = y.values if y_is_df else y\n",
    "\n",
    "    selector.fit(X_train, y_train) \n",
    "        \n",
    "    if X_is_df:\n",
    "        columns = X.columns\n",
    "        return sorted(np.array(columns)[selector.support_.tolist()])\n",
    "    else:\n",
    "        return sorted(selector.support_.tolist())"
   ]
  },
  {
   "cell_type": "code",
   "execution_count": 33,
   "metadata": {},
   "outputs": [
    {
     "data": {
      "text/plain": [
       "['ChargesRatio',\n",
       " 'Contract',\n",
       " 'CustomerCluster',\n",
       " 'InternetService',\n",
       " 'MonthlyCharges',\n",
       " 'NormalizedTenure',\n",
       " 'OnlineBackup',\n",
       " 'OnlineSecurity',\n",
       " 'TechSupport',\n",
       " 'TenureGroup',\n",
       " 'TotalCharges',\n",
       " 'TotalRevenue',\n",
       " 'tenure']"
      ]
     },
     "execution_count": 33,
     "metadata": {},
     "output_type": "execute_result"
    }
   ],
   "source": [
    "selected_features = select_feature_boruta(X, y, n_jobs=10)\n",
    "selected_features"
   ]
  },
  {
   "cell_type": "markdown",
   "metadata": {},
   "source": [
    "O modelo definiu que as features ['Contract',\n",
    " 'InternetService',\n",
    " 'MonthlyCharges',\n",
    " 'OnlineBackup',\n",
    " 'OnlineSecurity',\n",
    " 'TechSupport',\n",
    " 'TotalCharges',\n",
    " 'tenure'] são as mais importantes"
   ]
  },
  {
   "cell_type": "markdown",
   "metadata": {},
   "source": [
    "**Calcular a Matriz de Correlação**: A função inicia calculando a matriz de correlação das variáveis no DataFrame (`df.corr()`). A função `abs()` é aplicada para considerar o valor absoluto das correlações, pois correlações fortemente negativas são tão problemáticas quanto correlações fortemente positivas em termos de multicolinearidade.\n",
    "\n",
    "**Identificar o Triângulo Superior**: A função utiliza `np.triu(np.ones(corr_matrix.shape), k=1).astype(bool)` para criar uma máscara booleana que identifica apenas a parte superior da matriz de correlação. Isso é necessário porque a matriz de correlação é simétrica, e cada par de correlação entre variáveis é representado duas vezes (acima e abaixo da diagonal principal). A parte acima da diagonal (triângulo superior) é a única considerada para evitar duplicidade na análise de correlações altas.\n",
    "\n",
    "**Encontrar Colunas a Serem Removidas**: A lista `to_drop` é criada percorrendo todas as colunas da matriz de correlação superior e adicionando aquelas colunas cujo valor máximo de correlação com outras variáveis excede o limiar (`thresh`). Por exemplo, se o limiar é 0.95, qualquer característica que tenha uma correlação de 0.95 ou mais com outra característica será marcada para remoção.\n",
    "\n",
    "**Remover as Colunas Identificadas**: Finalmente, as colunas identificadas como altamente correlacionadas são removidas do DataFrame original (`df.drop(to_drop, axis=1)`), e o DataFrame modificado é retornado."
   ]
  },
  {
   "cell_type": "code",
   "execution_count": 34,
   "metadata": {},
   "outputs": [],
   "source": [
    "def drop_high_correlations(df, thresh=0.95):\n",
    "    corr_matrix = df.corr().abs()\n",
    "\n",
    "    upper = corr_matrix.where(np.triu(np.ones(corr_matrix.shape), k=1).astype(bool))\n",
    "    to_drop = [column for column in upper.columns if any(upper[column] > thresh)]\n",
    "\n",
    "    return df.drop(to_drop, axis=1)"
   ]
  },
  {
   "cell_type": "code",
   "execution_count": 35,
   "metadata": {},
   "outputs": [
    {
     "data": {
      "text/plain": [
       "['ChargesRatio',\n",
       " 'Contract',\n",
       " 'CustomerCluster',\n",
       " 'InternetService',\n",
       " 'MonthlyCharges',\n",
       " 'OnlineBackup',\n",
       " 'OnlineSecurity',\n",
       " 'TechSupport',\n",
       " 'TotalCharges',\n",
       " 'tenure']"
      ]
     },
     "execution_count": 35,
     "metadata": {},
     "output_type": "execute_result"
    }
   ],
   "source": [
    "X_train_uncor = drop_high_correlations(X, thresh=0.9)\n",
    "selected_features = select_feature_boruta(X_train_uncor, y, n_jobs=20)\n",
    "selected_features"
   ]
  },
  {
   "cell_type": "code",
   "execution_count": 36,
   "metadata": {},
   "outputs": [],
   "source": [
    "# Dividindo os dados em conjuntos de treinamento e teste\n",
    "X_train, X_test, y_train, y_test = train_test_split(X_train_uncor, y, test_size=0.1, random_state=42)"
   ]
  },
  {
   "cell_type": "code",
   "execution_count": 59,
   "metadata": {},
   "outputs": [
    {
     "name": "stdout",
     "output_type": "stream",
     "text": [
      "Fitting 5 folds for each of 1458 candidates, totalling 7290 fits\n",
      "Melhores hiperparâmetros encontrados: {'colsample_bynode': 0.8, 'colsample_bytree': 0.7, 'learning_rate': 0.05, 'max_depth': 4, 'n_estimators': 100, 'reg_alpha': 1, 'subsample': 1.0}\n",
      "Melhor pontuação: 0.8484097336207883\n"
     ]
    }
   ],
   "source": [
    "# Definindo o grid de hiperparâmetros\n",
    "param_grid = {\n",
    "    'n_estimators': [100, 150], # Número de árvores a serem construídas. Aumentar pode melhorar a performance, mas também aumenta o tempo de treinamento e o risco de overfitting.\n",
    "    'learning_rate': [0.01, 0.05, 0.1],# Taxa de aprendizado, controla o impacto de cada árvore. Aumentar pode acelerar o treinamento, mas pode causar overfitting.\n",
    "    'max_depth': [2, 4, 6], # Profundidade máxima das árvores. Aumentar pode melhorar a capacidade do modelo, mas aumenta o risco de overfitting.\n",
    "    'subsample': [0.7, 0.8, 1.0], # Porcentagem de amostras usadas para treinar cada árvore. Aumentar pode ajudar a reduzir overfitting.\n",
    "    'colsample_bytree': [0.7, 0.8, 1.0], # Porcentagem de características usadas para treinar cada árvore. Aumentar pode melhorar a performance, mas também o risco de overfitting.\n",
    "    'reg_alpha': [0.01, 0.1, 1], # Termo de regularização L1. Aumentar pode tornar o modelo mais esparso e reduzir overfitting.\n",
    "    'colsample_bynode': [0.7, 0.8, 1.0],  # Porcentagem de características usadas por nó. Aumentar pode melhorar a performance, mas aumenta o risco de overfitting.\n",
    "    'colsample_bytree': [0.7, 0.8, 1.0], # Porcentagem de características usadas para treinar cada árvore. Aumentar pode melhorar a performance, mas também o risco de overfitting.\n",
    "    #'scale_pos_weight': [1, 2, 5], # Balanceamento entre classes positivas e negativas. Aumentar pode ajudar em datasets desbalanceados.\n",
    "}\n",
    "\n",
    "# Configurando o modelo XGBoost\n",
    "xg_model = xgb.XGBClassifier(\n",
    "    objective='binary:logistic',\n",
    "    random_state=42,\n",
    ")\n",
    "\n",
    "# Definindo a validação cruzada estratificada\n",
    "cv = StratifiedKFold(n_splits=5, shuffle=True, random_state=42)\n",
    "\n",
    "# Configurando o GridSearchCV\n",
    "grid_search = GridSearchCV(\n",
    "    estimator=xg_model,\n",
    "    param_grid=param_grid,\n",
    "    scoring='roc_auc',  # roc_auc é uma métrica ponderada\n",
    "    cv=cv,\n",
    "    verbose=1,\n",
    "    n_jobs=2\n",
    ")\n",
    "\n",
    "# Executando o GridSearchCV\n",
    "grid_search.fit(X_train, y_train)\n",
    "\n",
    "# Obtendo os melhores hiperparâmetros\n",
    "best_params = grid_search.best_params_\n",
    "best_score = grid_search.best_score_\n",
    "\n",
    "print(\"Melhores hiperparâmetros encontrados:\", best_params)\n",
    "print(\"Melhor pontuação:\", best_score)"
   ]
  },
  {
   "cell_type": "code",
   "execution_count": 60,
   "metadata": {},
   "outputs": [
    {
     "name": "stdout",
     "output_type": "stream",
     "text": [
      "Accuracy: 0.8166614073840328\n"
     ]
    }
   ],
   "source": [
    "# Acurácia em X_train\n",
    "predictions = grid_search.predict(X_train)\n",
    "print(\"Accuracy:\", accuracy_score(y_train, predictions))"
   ]
  },
  {
   "cell_type": "code",
   "execution_count": 61,
   "metadata": {},
   "outputs": [
    {
     "name": "stdout",
     "output_type": "stream",
     "text": [
      "Accuracy: 0.8099290780141843\n",
      "              precision    recall  f1-score   support\n",
      "\n",
      "           0       0.83      0.92      0.88       511\n",
      "           1       0.71      0.52      0.60       194\n",
      "\n",
      "    accuracy                           0.81       705\n",
      "   macro avg       0.77      0.72      0.74       705\n",
      "weighted avg       0.80      0.81      0.80       705\n",
      "\n"
     ]
    }
   ],
   "source": [
    "predictions = grid_search.predict(X_test)\n",
    "print(\"Accuracy:\", accuracy_score(y_test, predictions))\n",
    "print(classification_report(y_test, predictions))"
   ]
  },
  {
   "cell_type": "markdown",
   "metadata": {},
   "source": [
    "# AutoML - lazypredict"
   ]
  },
  {
   "cell_type": "markdown",
   "metadata": {},
   "source": [
    "O `LazyPredict` é uma biblioteca Python que automatiza a construção, o treinamento e a avaliação de diversos modelos de machine learning de maneira rápida e fácil. O objetivo principal é permitir que os usuários comparem rapidamente o desempenho de diferentes modelos sem precisar escrever muito código para cada modelo individualmente. "
   ]
  },
  {
   "cell_type": "code",
   "execution_count": 40,
   "metadata": {},
   "outputs": [
    {
     "name": "stderr",
     "output_type": "stream",
     "text": [
      "100%|██████████| 29/29 [00:17<00:00,  1.68it/s]"
     ]
    },
    {
     "name": "stdout",
     "output_type": "stream",
     "text": [
      "[LightGBM] [Info] Number of positive: 1675, number of negative: 4663\n",
      "[LightGBM] [Info] Auto-choosing row-wise multi-threading, the overhead of testing was 0.000345 seconds.\n",
      "You can set `force_row_wise=true` to remove the overhead.\n",
      "And if memory is not enough, you can set `force_col_wise=true`.\n",
      "[LightGBM] [Info] Total Bins 904\n",
      "[LightGBM] [Info] Number of data points in the train set: 6338, number of used features: 21\n",
      "[LightGBM] [Info] [binary:BoostFromScore]: pavg=0.264279 -> initscore=-1.023846\n",
      "[LightGBM] [Info] Start training from score -1.023846\n",
      "                               Accuracy  Balanced Accuracy  ROC AUC  F1 Score  \\\n",
      "Model                                                                           \n",
      "BernoulliNB                        0.78               0.77     0.77      0.79   \n",
      "GaussianNB                         0.77               0.77     0.77      0.78   \n",
      "NearestCentroid                    0.74               0.76     0.76      0.75   \n",
      "LinearDiscriminantAnalysis         0.82               0.75     0.75      0.82   \n",
      "LinearSVC                          0.82               0.73     0.73      0.81   \n",
      "CalibratedClassifierCV             0.82               0.73     0.73      0.81   \n",
      "LogisticRegression                 0.81               0.73     0.73      0.81   \n",
      "RidgeClassifierCV                  0.82               0.73     0.73      0.81   \n",
      "RidgeClassifier                    0.82               0.73     0.73      0.81   \n",
      "LGBMClassifier                     0.81               0.72     0.72      0.80   \n",
      "PassiveAggressiveClassifier        0.75               0.72     0.72      0.76   \n",
      "AdaBoostClassifier                 0.80               0.71     0.71      0.79   \n",
      "XGBClassifier                      0.79               0.71     0.71      0.79   \n",
      "RandomForestClassifier             0.80               0.70     0.70      0.79   \n",
      "SVC                                0.80               0.70     0.70      0.79   \n",
      "Perceptron                         0.74               0.68     0.68      0.74   \n",
      "BaggingClassifier                  0.78               0.68     0.68      0.77   \n",
      "ExtraTreesClassifier               0.78               0.68     0.68      0.77   \n",
      "LabelSpreading                     0.74               0.67     0.67      0.74   \n",
      "KNeighborsClassifier               0.76               0.67     0.67      0.75   \n",
      "LabelPropagation                   0.74               0.67     0.67      0.74   \n",
      "SGDClassifier                      0.77               0.66     0.66      0.76   \n",
      "NuSVC                              0.79               0.65     0.65      0.76   \n",
      "DecisionTreeClassifier             0.71               0.64     0.64      0.71   \n",
      "ExtraTreeClassifier                0.73               0.64     0.64      0.73   \n",
      "QuadraticDiscriminantAnalysis      0.42               0.52     0.52      0.43   \n",
      "DummyClassifier                    0.72               0.50     0.50      0.61   \n",
      "\n",
      "                               Time Taken  \n",
      "Model                                      \n",
      "BernoulliNB                          0.03  \n",
      "GaussianNB                           0.02  \n",
      "NearestCentroid                      0.03  \n",
      "LinearDiscriminantAnalysis           0.06  \n",
      "LinearSVC                            0.61  \n",
      "CalibratedClassifierCV               1.78  \n",
      "LogisticRegression                   0.05  \n",
      "RidgeClassifierCV                    0.04  \n",
      "RidgeClassifier                      0.03  \n",
      "LGBMClassifier                       0.36  \n",
      "PassiveAggressiveClassifier          0.04  \n",
      "AdaBoostClassifier                   0.41  \n",
      "XGBClassifier                        0.20  \n",
      "RandomForestClassifier               0.81  \n",
      "SVC                                  1.76  \n",
      "Perceptron                           0.04  \n",
      "BaggingClassifier                    0.28  \n",
      "ExtraTreesClassifier                 1.02  \n",
      "LabelSpreading                       3.96  \n",
      "KNeighborsClassifier                 0.07  \n",
      "LabelPropagation                     3.13  \n",
      "SGDClassifier                        0.05  \n",
      "NuSVC                                2.31  \n",
      "DecisionTreeClassifier               0.05  \n",
      "ExtraTreeClassifier                  0.03  \n",
      "QuadraticDiscriminantAnalysis        0.04  \n",
      "DummyClassifier                      0.02  \n"
     ]
    },
    {
     "name": "stderr",
     "output_type": "stream",
     "text": [
      "\n"
     ]
    }
   ],
   "source": [
    "import lazypredict\n",
    "from lazypredict.Supervised import LazyClassifier\n",
    "\n",
    "\n",
    "clf = LazyClassifier(verbose=0,ignore_warnings=True, custom_metric=None)\n",
    "models,predictions = clf.fit(X_train, X_test, y_train, y_test)\n",
    "\n",
    "print(models)"
   ]
  },
  {
   "cell_type": "markdown",
   "metadata": {},
   "source": [
    "## GaussianNB"
   ]
  },
  {
   "cell_type": "code",
   "execution_count": 41,
   "metadata": {},
   "outputs": [
    {
     "name": "stdout",
     "output_type": "stream",
     "text": [
      "Fitting 5 folds for each of 200 candidates, totalling 1000 fits\n"
     ]
    },
    {
     "data": {
      "text/html": [
       "<style>#sk-container-id-3 {color: black;background-color: white;}#sk-container-id-3 pre{padding: 0;}#sk-container-id-3 div.sk-toggleable {background-color: white;}#sk-container-id-3 label.sk-toggleable__label {cursor: pointer;display: block;width: 100%;margin-bottom: 0;padding: 0.3em;box-sizing: border-box;text-align: center;}#sk-container-id-3 label.sk-toggleable__label-arrow:before {content: \"▸\";float: left;margin-right: 0.25em;color: #696969;}#sk-container-id-3 label.sk-toggleable__label-arrow:hover:before {color: black;}#sk-container-id-3 div.sk-estimator:hover label.sk-toggleable__label-arrow:before {color: black;}#sk-container-id-3 div.sk-toggleable__content {max-height: 0;max-width: 0;overflow: hidden;text-align: left;background-color: #f0f8ff;}#sk-container-id-3 div.sk-toggleable__content pre {margin: 0.2em;color: black;border-radius: 0.25em;background-color: #f0f8ff;}#sk-container-id-3 input.sk-toggleable__control:checked~div.sk-toggleable__content {max-height: 200px;max-width: 100%;overflow: auto;}#sk-container-id-3 input.sk-toggleable__control:checked~label.sk-toggleable__label-arrow:before {content: \"▾\";}#sk-container-id-3 div.sk-estimator input.sk-toggleable__control:checked~label.sk-toggleable__label {background-color: #d4ebff;}#sk-container-id-3 div.sk-label input.sk-toggleable__control:checked~label.sk-toggleable__label {background-color: #d4ebff;}#sk-container-id-3 input.sk-hidden--visually {border: 0;clip: rect(1px 1px 1px 1px);clip: rect(1px, 1px, 1px, 1px);height: 1px;margin: -1px;overflow: hidden;padding: 0;position: absolute;width: 1px;}#sk-container-id-3 div.sk-estimator {font-family: monospace;background-color: #f0f8ff;border: 1px dotted black;border-radius: 0.25em;box-sizing: border-box;margin-bottom: 0.5em;}#sk-container-id-3 div.sk-estimator:hover {background-color: #d4ebff;}#sk-container-id-3 div.sk-parallel-item::after {content: \"\";width: 100%;border-bottom: 1px solid gray;flex-grow: 1;}#sk-container-id-3 div.sk-label:hover label.sk-toggleable__label {background-color: #d4ebff;}#sk-container-id-3 div.sk-serial::before {content: \"\";position: absolute;border-left: 1px solid gray;box-sizing: border-box;top: 0;bottom: 0;left: 50%;z-index: 0;}#sk-container-id-3 div.sk-serial {display: flex;flex-direction: column;align-items: center;background-color: white;padding-right: 0.2em;padding-left: 0.2em;position: relative;}#sk-container-id-3 div.sk-item {position: relative;z-index: 1;}#sk-container-id-3 div.sk-parallel {display: flex;align-items: stretch;justify-content: center;background-color: white;position: relative;}#sk-container-id-3 div.sk-item::before, #sk-container-id-3 div.sk-parallel-item::before {content: \"\";position: absolute;border-left: 1px solid gray;box-sizing: border-box;top: 0;bottom: 0;left: 50%;z-index: -1;}#sk-container-id-3 div.sk-parallel-item {display: flex;flex-direction: column;z-index: 1;position: relative;background-color: white;}#sk-container-id-3 div.sk-parallel-item:first-child::after {align-self: flex-end;width: 50%;}#sk-container-id-3 div.sk-parallel-item:last-child::after {align-self: flex-start;width: 50%;}#sk-container-id-3 div.sk-parallel-item:only-child::after {width: 0;}#sk-container-id-3 div.sk-dashed-wrapped {border: 1px dashed gray;margin: 0 0.4em 0.5em 0.4em;box-sizing: border-box;padding-bottom: 0.4em;background-color: white;}#sk-container-id-3 div.sk-label label {font-family: monospace;font-weight: bold;display: inline-block;line-height: 1.2em;}#sk-container-id-3 div.sk-label-container {text-align: center;}#sk-container-id-3 div.sk-container {/* jupyter's `normalize.less` sets `[hidden] { display: none; }` but bootstrap.min.css set `[hidden] { display: none !important; }` so we also need the `!important` here to be able to override the default hidden behavior on the sphinx rendered scikit-learn.org. See: https://github.com/scikit-learn/scikit-learn/issues/21755 */display: inline-block !important;position: relative;}#sk-container-id-3 div.sk-text-repr-fallback {display: none;}</style><div id=\"sk-container-id-3\" class=\"sk-top-container\"><div class=\"sk-text-repr-fallback\"><pre>GridSearchCV(cv=5, estimator=GaussianNB(), n_jobs=2,\n",
       "             param_grid={&#x27;var_smoothing&#x27;: array([1.00000000e+00, 8.70359136e-01, 7.57525026e-01, 6.59318827e-01,\n",
       "       5.73844165e-01, 4.99450512e-01, 4.34701316e-01, 3.78346262e-01,\n",
       "       3.29297126e-01, 2.86606762e-01, 2.49450814e-01, 2.17111795e-01,\n",
       "       1.88965234e-01, 1.64467618e-01, 1.43145894e-01, 1.24588336e-01,\n",
       "       1.08436597e-01, 9.43787828...\n",
       "       2.43744415e-11, 2.12145178e-11, 1.84642494e-11, 1.60705282e-11,\n",
       "       1.39871310e-11, 1.21738273e-11, 1.05956018e-11, 9.22197882e-12,\n",
       "       8.02643352e-12, 6.98587975e-12, 6.08022426e-12, 5.29197874e-12,\n",
       "       4.60592204e-12, 4.00880633e-12, 3.48910121e-12, 3.03677112e-12,\n",
       "       2.64308149e-12, 2.30043012e-12, 2.00220037e-12, 1.74263339e-12,\n",
       "       1.51671689e-12, 1.32008840e-12, 1.14895100e-12, 1.00000000e-12])},\n",
       "             scoring=&#x27;accuracy&#x27;, verbose=1)</pre><b>In a Jupyter environment, please rerun this cell to show the HTML representation or trust the notebook. <br />On GitHub, the HTML representation is unable to render, please try loading this page with nbviewer.org.</b></div><div class=\"sk-container\" hidden><div class=\"sk-item sk-dashed-wrapped\"><div class=\"sk-label-container\"><div class=\"sk-label sk-toggleable\"><input class=\"sk-toggleable__control sk-hidden--visually\" id=\"sk-estimator-id-3\" type=\"checkbox\" ><label for=\"sk-estimator-id-3\" class=\"sk-toggleable__label sk-toggleable__label-arrow\">GridSearchCV</label><div class=\"sk-toggleable__content\"><pre>GridSearchCV(cv=5, estimator=GaussianNB(), n_jobs=2,\n",
       "             param_grid={&#x27;var_smoothing&#x27;: array([1.00000000e+00, 8.70359136e-01, 7.57525026e-01, 6.59318827e-01,\n",
       "       5.73844165e-01, 4.99450512e-01, 4.34701316e-01, 3.78346262e-01,\n",
       "       3.29297126e-01, 2.86606762e-01, 2.49450814e-01, 2.17111795e-01,\n",
       "       1.88965234e-01, 1.64467618e-01, 1.43145894e-01, 1.24588336e-01,\n",
       "       1.08436597e-01, 9.43787828...\n",
       "       2.43744415e-11, 2.12145178e-11, 1.84642494e-11, 1.60705282e-11,\n",
       "       1.39871310e-11, 1.21738273e-11, 1.05956018e-11, 9.22197882e-12,\n",
       "       8.02643352e-12, 6.98587975e-12, 6.08022426e-12, 5.29197874e-12,\n",
       "       4.60592204e-12, 4.00880633e-12, 3.48910121e-12, 3.03677112e-12,\n",
       "       2.64308149e-12, 2.30043012e-12, 2.00220037e-12, 1.74263339e-12,\n",
       "       1.51671689e-12, 1.32008840e-12, 1.14895100e-12, 1.00000000e-12])},\n",
       "             scoring=&#x27;accuracy&#x27;, verbose=1)</pre></div></div></div><div class=\"sk-parallel\"><div class=\"sk-parallel-item\"><div class=\"sk-item\"><div class=\"sk-label-container\"><div class=\"sk-label sk-toggleable\"><input class=\"sk-toggleable__control sk-hidden--visually\" id=\"sk-estimator-id-4\" type=\"checkbox\" ><label for=\"sk-estimator-id-4\" class=\"sk-toggleable__label sk-toggleable__label-arrow\">estimator: GaussianNB</label><div class=\"sk-toggleable__content\"><pre>GaussianNB()</pre></div></div></div><div class=\"sk-serial\"><div class=\"sk-item\"><div class=\"sk-estimator sk-toggleable\"><input class=\"sk-toggleable__control sk-hidden--visually\" id=\"sk-estimator-id-5\" type=\"checkbox\" ><label for=\"sk-estimator-id-5\" class=\"sk-toggleable__label sk-toggleable__label-arrow\">GaussianNB</label><div class=\"sk-toggleable__content\"><pre>GaussianNB()</pre></div></div></div></div></div></div></div></div></div></div>"
      ],
      "text/plain": [
       "GridSearchCV(cv=5, estimator=GaussianNB(), n_jobs=2,\n",
       "             param_grid={'var_smoothing': array([1.00000000e+00, 8.70359136e-01, 7.57525026e-01, 6.59318827e-01,\n",
       "       5.73844165e-01, 4.99450512e-01, 4.34701316e-01, 3.78346262e-01,\n",
       "       3.29297126e-01, 2.86606762e-01, 2.49450814e-01, 2.17111795e-01,\n",
       "       1.88965234e-01, 1.64467618e-01, 1.43145894e-01, 1.24588336e-01,\n",
       "       1.08436597e-01, 9.43787828...\n",
       "       2.43744415e-11, 2.12145178e-11, 1.84642494e-11, 1.60705282e-11,\n",
       "       1.39871310e-11, 1.21738273e-11, 1.05956018e-11, 9.22197882e-12,\n",
       "       8.02643352e-12, 6.98587975e-12, 6.08022426e-12, 5.29197874e-12,\n",
       "       4.60592204e-12, 4.00880633e-12, 3.48910121e-12, 3.03677112e-12,\n",
       "       2.64308149e-12, 2.30043012e-12, 2.00220037e-12, 1.74263339e-12,\n",
       "       1.51671689e-12, 1.32008840e-12, 1.14895100e-12, 1.00000000e-12])},\n",
       "             scoring='accuracy', verbose=1)"
      ]
     },
     "execution_count": 41,
     "metadata": {},
     "output_type": "execute_result"
    }
   ],
   "source": [
    "# Definindo o modelo GaussianNB\n",
    "model = GaussianNB()\n",
    "\n",
    "# Definindo os hiperparâmetros para a busca\n",
    "param_grid = {\n",
    "    'var_smoothing': np.logspace(0, -12, num=200),\n",
    "    \n",
    "}\n",
    "\n",
    "# Configurando o GridSearchCV\n",
    "grid_search = GridSearchCV(estimator=model, param_grid=param_grid, scoring='accuracy', cv=5, verbose=1, n_jobs=2)\n",
    "\n",
    "# Treinando o modelo com GridSearchCV\n",
    "grid_search.fit(X_train, y_train)"
   ]
  },
  {
   "cell_type": "code",
   "execution_count": 42,
   "metadata": {},
   "outputs": [
    {
     "name": "stdout",
     "output_type": "stream",
     "text": [
      "Accuracy: 0.7860523824550332\n"
     ]
    }
   ],
   "source": [
    "# Acurácia em X_train\n",
    "predictions = grid_search.predict(X_train)\n",
    "print(\"Accuracy:\", accuracy_score(y_train, predictions))"
   ]
  },
  {
   "cell_type": "code",
   "execution_count": 43,
   "metadata": {},
   "outputs": [
    {
     "name": "stdout",
     "output_type": "stream",
     "text": [
      "Melhores hiperparâmetros: {'var_smoothing': 0.00012033778407775906}\n",
      "              precision    recall  f1-score   support\n",
      "\n",
      "           0       0.80      0.96      0.87       511\n",
      "           1       0.77      0.37      0.50       194\n",
      "\n",
      "    accuracy                           0.80       705\n",
      "   macro avg       0.78      0.66      0.69       705\n",
      "weighted avg       0.79      0.80      0.77       705\n",
      "\n"
     ]
    }
   ],
   "source": [
    "# Obtendo os melhores hiperparâmetros\n",
    "best_params = grid_search.best_params_\n",
    "print(\"Melhores hiperparâmetros:\", best_params)\n",
    "\n",
    "# Treinando o modelo final com os melhores hiperparâmetros\n",
    "best_model = grid_search.best_estimator_\n",
    "\n",
    "# Fazendo previsões e avaliando o modelo\n",
    "y_pred = best_model.predict(X_test)\n",
    "accuracy = accuracy_score(y_test, y_pred)\n",
    "\n",
    "# Classification report\n",
    "print(classification_report(y_test, y_pred))"
   ]
  },
  {
   "cell_type": "markdown",
   "metadata": {},
   "source": [
    "## LinearDiscriminantAnalysis "
   ]
  },
  {
   "cell_type": "code",
   "execution_count": 44,
   "metadata": {},
   "outputs": [
    {
     "name": "stdout",
     "output_type": "stream",
     "text": [
      "Fitting 3 folds for each of 144 candidates, totalling 432 fits\n"
     ]
    },
    {
     "data": {
      "text/html": [
       "<style>#sk-container-id-4 {color: black;background-color: white;}#sk-container-id-4 pre{padding: 0;}#sk-container-id-4 div.sk-toggleable {background-color: white;}#sk-container-id-4 label.sk-toggleable__label {cursor: pointer;display: block;width: 100%;margin-bottom: 0;padding: 0.3em;box-sizing: border-box;text-align: center;}#sk-container-id-4 label.sk-toggleable__label-arrow:before {content: \"▸\";float: left;margin-right: 0.25em;color: #696969;}#sk-container-id-4 label.sk-toggleable__label-arrow:hover:before {color: black;}#sk-container-id-4 div.sk-estimator:hover label.sk-toggleable__label-arrow:before {color: black;}#sk-container-id-4 div.sk-toggleable__content {max-height: 0;max-width: 0;overflow: hidden;text-align: left;background-color: #f0f8ff;}#sk-container-id-4 div.sk-toggleable__content pre {margin: 0.2em;color: black;border-radius: 0.25em;background-color: #f0f8ff;}#sk-container-id-4 input.sk-toggleable__control:checked~div.sk-toggleable__content {max-height: 200px;max-width: 100%;overflow: auto;}#sk-container-id-4 input.sk-toggleable__control:checked~label.sk-toggleable__label-arrow:before {content: \"▾\";}#sk-container-id-4 div.sk-estimator input.sk-toggleable__control:checked~label.sk-toggleable__label {background-color: #d4ebff;}#sk-container-id-4 div.sk-label input.sk-toggleable__control:checked~label.sk-toggleable__label {background-color: #d4ebff;}#sk-container-id-4 input.sk-hidden--visually {border: 0;clip: rect(1px 1px 1px 1px);clip: rect(1px, 1px, 1px, 1px);height: 1px;margin: -1px;overflow: hidden;padding: 0;position: absolute;width: 1px;}#sk-container-id-4 div.sk-estimator {font-family: monospace;background-color: #f0f8ff;border: 1px dotted black;border-radius: 0.25em;box-sizing: border-box;margin-bottom: 0.5em;}#sk-container-id-4 div.sk-estimator:hover {background-color: #d4ebff;}#sk-container-id-4 div.sk-parallel-item::after {content: \"\";width: 100%;border-bottom: 1px solid gray;flex-grow: 1;}#sk-container-id-4 div.sk-label:hover label.sk-toggleable__label {background-color: #d4ebff;}#sk-container-id-4 div.sk-serial::before {content: \"\";position: absolute;border-left: 1px solid gray;box-sizing: border-box;top: 0;bottom: 0;left: 50%;z-index: 0;}#sk-container-id-4 div.sk-serial {display: flex;flex-direction: column;align-items: center;background-color: white;padding-right: 0.2em;padding-left: 0.2em;position: relative;}#sk-container-id-4 div.sk-item {position: relative;z-index: 1;}#sk-container-id-4 div.sk-parallel {display: flex;align-items: stretch;justify-content: center;background-color: white;position: relative;}#sk-container-id-4 div.sk-item::before, #sk-container-id-4 div.sk-parallel-item::before {content: \"\";position: absolute;border-left: 1px solid gray;box-sizing: border-box;top: 0;bottom: 0;left: 50%;z-index: -1;}#sk-container-id-4 div.sk-parallel-item {display: flex;flex-direction: column;z-index: 1;position: relative;background-color: white;}#sk-container-id-4 div.sk-parallel-item:first-child::after {align-self: flex-end;width: 50%;}#sk-container-id-4 div.sk-parallel-item:last-child::after {align-self: flex-start;width: 50%;}#sk-container-id-4 div.sk-parallel-item:only-child::after {width: 0;}#sk-container-id-4 div.sk-dashed-wrapped {border: 1px dashed gray;margin: 0 0.4em 0.5em 0.4em;box-sizing: border-box;padding-bottom: 0.4em;background-color: white;}#sk-container-id-4 div.sk-label label {font-family: monospace;font-weight: bold;display: inline-block;line-height: 1.2em;}#sk-container-id-4 div.sk-label-container {text-align: center;}#sk-container-id-4 div.sk-container {/* jupyter's `normalize.less` sets `[hidden] { display: none; }` but bootstrap.min.css set `[hidden] { display: none !important; }` so we also need the `!important` here to be able to override the default hidden behavior on the sphinx rendered scikit-learn.org. See: https://github.com/scikit-learn/scikit-learn/issues/21755 */display: inline-block !important;position: relative;}#sk-container-id-4 div.sk-text-repr-fallback {display: none;}</style><div id=\"sk-container-id-4\" class=\"sk-top-container\"><div class=\"sk-text-repr-fallback\"><pre>GridSearchCV(cv=3, estimator=LinearDiscriminantAnalysis(), n_jobs=-1,\n",
       "             param_grid={&#x27;n_components&#x27;: [None, 1, 2, 3],\n",
       "                         &#x27;shrinkage&#x27;: [None, &#x27;auto&#x27;],\n",
       "                         &#x27;solver&#x27;: [&#x27;svd&#x27;, &#x27;lsqr&#x27;, &#x27;eigen&#x27;],\n",
       "                         &#x27;store_covariance&#x27;: [True, False],\n",
       "                         &#x27;tol&#x27;: [0.0001, 1e-05, 1e-06]},\n",
       "             scoring=&#x27;accuracy&#x27;, verbose=1)</pre><b>In a Jupyter environment, please rerun this cell to show the HTML representation or trust the notebook. <br />On GitHub, the HTML representation is unable to render, please try loading this page with nbviewer.org.</b></div><div class=\"sk-container\" hidden><div class=\"sk-item sk-dashed-wrapped\"><div class=\"sk-label-container\"><div class=\"sk-label sk-toggleable\"><input class=\"sk-toggleable__control sk-hidden--visually\" id=\"sk-estimator-id-6\" type=\"checkbox\" ><label for=\"sk-estimator-id-6\" class=\"sk-toggleable__label sk-toggleable__label-arrow\">GridSearchCV</label><div class=\"sk-toggleable__content\"><pre>GridSearchCV(cv=3, estimator=LinearDiscriminantAnalysis(), n_jobs=-1,\n",
       "             param_grid={&#x27;n_components&#x27;: [None, 1, 2, 3],\n",
       "                         &#x27;shrinkage&#x27;: [None, &#x27;auto&#x27;],\n",
       "                         &#x27;solver&#x27;: [&#x27;svd&#x27;, &#x27;lsqr&#x27;, &#x27;eigen&#x27;],\n",
       "                         &#x27;store_covariance&#x27;: [True, False],\n",
       "                         &#x27;tol&#x27;: [0.0001, 1e-05, 1e-06]},\n",
       "             scoring=&#x27;accuracy&#x27;, verbose=1)</pre></div></div></div><div class=\"sk-parallel\"><div class=\"sk-parallel-item\"><div class=\"sk-item\"><div class=\"sk-label-container\"><div class=\"sk-label sk-toggleable\"><input class=\"sk-toggleable__control sk-hidden--visually\" id=\"sk-estimator-id-7\" type=\"checkbox\" ><label for=\"sk-estimator-id-7\" class=\"sk-toggleable__label sk-toggleable__label-arrow\">estimator: LinearDiscriminantAnalysis</label><div class=\"sk-toggleable__content\"><pre>LinearDiscriminantAnalysis()</pre></div></div></div><div class=\"sk-serial\"><div class=\"sk-item\"><div class=\"sk-estimator sk-toggleable\"><input class=\"sk-toggleable__control sk-hidden--visually\" id=\"sk-estimator-id-8\" type=\"checkbox\" ><label for=\"sk-estimator-id-8\" class=\"sk-toggleable__label sk-toggleable__label-arrow\">LinearDiscriminantAnalysis</label><div class=\"sk-toggleable__content\"><pre>LinearDiscriminantAnalysis()</pre></div></div></div></div></div></div></div></div></div></div>"
      ],
      "text/plain": [
       "GridSearchCV(cv=3, estimator=LinearDiscriminantAnalysis(), n_jobs=-1,\n",
       "             param_grid={'n_components': [None, 1, 2, 3],\n",
       "                         'shrinkage': [None, 'auto'],\n",
       "                         'solver': ['svd', 'lsqr', 'eigen'],\n",
       "                         'store_covariance': [True, False],\n",
       "                         'tol': [0.0001, 1e-05, 1e-06]},\n",
       "             scoring='accuracy', verbose=1)"
      ]
     },
     "execution_count": 44,
     "metadata": {},
     "output_type": "execute_result"
    }
   ],
   "source": [
    "# Definindo o modelo LinearDiscriminantAnalysis\n",
    "model = LinearDiscriminantAnalysis()\n",
    "\n",
    "# Definindo os hiperparâmetros para a busca\n",
    "param_grid = {\n",
    "    'solver': ['svd', 'lsqr', 'eigen'],           # Métodos de solução para LDA\n",
    "    'shrinkage': [None, 'auto'],                  # Tipo de encolhimento\n",
    "    'n_components': [None, 1, 2, 3],               # Número de componentes a serem mantidos\n",
    "    'tol': [1e-4, 1e-5, 1e-6],                     # Tolerância para convergência\n",
    "    'store_covariance': [True, False],             # Armazenar ou não a covariância\n",
    "}\n",
    "# Configurando o GridSearchCV\n",
    "grid_search = GridSearchCV(estimator=model, param_grid=param_grid, scoring='accuracy', cv=3, verbose=1, n_jobs=-1)\n",
    "\n",
    "# Treinando o modelo com GridSearchCV\n",
    "grid_search.fit(X_train, y_train)"
   ]
  },
  {
   "cell_type": "code",
   "execution_count": 45,
   "metadata": {},
   "outputs": [
    {
     "name": "stdout",
     "output_type": "stream",
     "text": [
      "Melhores hiperparâmetros: {'n_components': None, 'shrinkage': 'auto', 'solver': 'lsqr', 'store_covariance': True, 'tol': 0.0001}\n",
      "              precision    recall  f1-score   support\n",
      "\n",
      "           0       0.85      0.92      0.88       511\n",
      "           1       0.72      0.57      0.64       194\n",
      "\n",
      "    accuracy                           0.82       705\n",
      "   macro avg       0.79      0.74      0.76       705\n",
      "weighted avg       0.81      0.82      0.81       705\n",
      "\n"
     ]
    }
   ],
   "source": [
    "# Obtendo os melhores hiperparâmetros\n",
    "best_params = grid_search.best_params_\n",
    "print(\"Melhores hiperparâmetros:\", best_params)\n",
    "\n",
    "# Treinando o modelo final com os melhores hiperparâmetros\n",
    "best_model = grid_search.best_estimator_\n",
    "\n",
    "# Fazendo previsões e avaliando o modelo\n",
    "y_pred = best_model.predict(X_test)\n",
    "accuracy = accuracy_score(y_test, y_pred)\n",
    "\n",
    "# Classification report\n",
    "print(classification_report(y_test, y_pred))"
   ]
  },
  {
   "cell_type": "markdown",
   "metadata": {},
   "source": [
    "## CalibratedClassifierCV"
   ]
  },
  {
   "cell_type": "code",
   "execution_count": 46,
   "metadata": {},
   "outputs": [
    {
     "name": "stdout",
     "output_type": "stream",
     "text": [
      "Fitting 5 folds for each of 90 candidates, totalling 450 fits\n"
     ]
    },
    {
     "data": {
      "text/html": [
       "<style>#sk-container-id-5 {color: black;background-color: white;}#sk-container-id-5 pre{padding: 0;}#sk-container-id-5 div.sk-toggleable {background-color: white;}#sk-container-id-5 label.sk-toggleable__label {cursor: pointer;display: block;width: 100%;margin-bottom: 0;padding: 0.3em;box-sizing: border-box;text-align: center;}#sk-container-id-5 label.sk-toggleable__label-arrow:before {content: \"▸\";float: left;margin-right: 0.25em;color: #696969;}#sk-container-id-5 label.sk-toggleable__label-arrow:hover:before {color: black;}#sk-container-id-5 div.sk-estimator:hover label.sk-toggleable__label-arrow:before {color: black;}#sk-container-id-5 div.sk-toggleable__content {max-height: 0;max-width: 0;overflow: hidden;text-align: left;background-color: #f0f8ff;}#sk-container-id-5 div.sk-toggleable__content pre {margin: 0.2em;color: black;border-radius: 0.25em;background-color: #f0f8ff;}#sk-container-id-5 input.sk-toggleable__control:checked~div.sk-toggleable__content {max-height: 200px;max-width: 100%;overflow: auto;}#sk-container-id-5 input.sk-toggleable__control:checked~label.sk-toggleable__label-arrow:before {content: \"▾\";}#sk-container-id-5 div.sk-estimator input.sk-toggleable__control:checked~label.sk-toggleable__label {background-color: #d4ebff;}#sk-container-id-5 div.sk-label input.sk-toggleable__control:checked~label.sk-toggleable__label {background-color: #d4ebff;}#sk-container-id-5 input.sk-hidden--visually {border: 0;clip: rect(1px 1px 1px 1px);clip: rect(1px, 1px, 1px, 1px);height: 1px;margin: -1px;overflow: hidden;padding: 0;position: absolute;width: 1px;}#sk-container-id-5 div.sk-estimator {font-family: monospace;background-color: #f0f8ff;border: 1px dotted black;border-radius: 0.25em;box-sizing: border-box;margin-bottom: 0.5em;}#sk-container-id-5 div.sk-estimator:hover {background-color: #d4ebff;}#sk-container-id-5 div.sk-parallel-item::after {content: \"\";width: 100%;border-bottom: 1px solid gray;flex-grow: 1;}#sk-container-id-5 div.sk-label:hover label.sk-toggleable__label {background-color: #d4ebff;}#sk-container-id-5 div.sk-serial::before {content: \"\";position: absolute;border-left: 1px solid gray;box-sizing: border-box;top: 0;bottom: 0;left: 50%;z-index: 0;}#sk-container-id-5 div.sk-serial {display: flex;flex-direction: column;align-items: center;background-color: white;padding-right: 0.2em;padding-left: 0.2em;position: relative;}#sk-container-id-5 div.sk-item {position: relative;z-index: 1;}#sk-container-id-5 div.sk-parallel {display: flex;align-items: stretch;justify-content: center;background-color: white;position: relative;}#sk-container-id-5 div.sk-item::before, #sk-container-id-5 div.sk-parallel-item::before {content: \"\";position: absolute;border-left: 1px solid gray;box-sizing: border-box;top: 0;bottom: 0;left: 50%;z-index: -1;}#sk-container-id-5 div.sk-parallel-item {display: flex;flex-direction: column;z-index: 1;position: relative;background-color: white;}#sk-container-id-5 div.sk-parallel-item:first-child::after {align-self: flex-end;width: 50%;}#sk-container-id-5 div.sk-parallel-item:last-child::after {align-self: flex-start;width: 50%;}#sk-container-id-5 div.sk-parallel-item:only-child::after {width: 0;}#sk-container-id-5 div.sk-dashed-wrapped {border: 1px dashed gray;margin: 0 0.4em 0.5em 0.4em;box-sizing: border-box;padding-bottom: 0.4em;background-color: white;}#sk-container-id-5 div.sk-label label {font-family: monospace;font-weight: bold;display: inline-block;line-height: 1.2em;}#sk-container-id-5 div.sk-label-container {text-align: center;}#sk-container-id-5 div.sk-container {/* jupyter's `normalize.less` sets `[hidden] { display: none; }` but bootstrap.min.css set `[hidden] { display: none !important; }` so we also need the `!important` here to be able to override the default hidden behavior on the sphinx rendered scikit-learn.org. See: https://github.com/scikit-learn/scikit-learn/issues/21755 */display: inline-block !important;position: relative;}#sk-container-id-5 div.sk-text-repr-fallback {display: none;}</style><div id=\"sk-container-id-5\" class=\"sk-top-container\"><div class=\"sk-text-repr-fallback\"><pre>GridSearchCV(cv=5,\n",
       "             estimator=CalibratedClassifierCV(base_estimator=LinearSVC(random_state=42)),\n",
       "             n_jobs=2,\n",
       "             param_grid={&#x27;base_estimator__C&#x27;: [0.001, 0.01, 0.1, 1.0, 10.0],\n",
       "                         &#x27;base_estimator__loss&#x27;: [&#x27;hinge&#x27;, &#x27;squared_hinge&#x27;],\n",
       "                         &#x27;base_estimator__max_iter&#x27;: [2000, 3000, 4000],\n",
       "                         &#x27;base_estimator__tol&#x27;: [0.001, 0.0001, 1e-05],\n",
       "                         &#x27;method&#x27;: [&#x27;sigmoid&#x27;]},\n",
       "             scoring=&#x27;roc_auc&#x27;, verbose=1)</pre><b>In a Jupyter environment, please rerun this cell to show the HTML representation or trust the notebook. <br />On GitHub, the HTML representation is unable to render, please try loading this page with nbviewer.org.</b></div><div class=\"sk-container\" hidden><div class=\"sk-item sk-dashed-wrapped\"><div class=\"sk-label-container\"><div class=\"sk-label sk-toggleable\"><input class=\"sk-toggleable__control sk-hidden--visually\" id=\"sk-estimator-id-9\" type=\"checkbox\" ><label for=\"sk-estimator-id-9\" class=\"sk-toggleable__label sk-toggleable__label-arrow\">GridSearchCV</label><div class=\"sk-toggleable__content\"><pre>GridSearchCV(cv=5,\n",
       "             estimator=CalibratedClassifierCV(base_estimator=LinearSVC(random_state=42)),\n",
       "             n_jobs=2,\n",
       "             param_grid={&#x27;base_estimator__C&#x27;: [0.001, 0.01, 0.1, 1.0, 10.0],\n",
       "                         &#x27;base_estimator__loss&#x27;: [&#x27;hinge&#x27;, &#x27;squared_hinge&#x27;],\n",
       "                         &#x27;base_estimator__max_iter&#x27;: [2000, 3000, 4000],\n",
       "                         &#x27;base_estimator__tol&#x27;: [0.001, 0.0001, 1e-05],\n",
       "                         &#x27;method&#x27;: [&#x27;sigmoid&#x27;]},\n",
       "             scoring=&#x27;roc_auc&#x27;, verbose=1)</pre></div></div></div><div class=\"sk-parallel\"><div class=\"sk-parallel-item\"><div class=\"sk-item\"><div class=\"sk-label-container\"><div class=\"sk-label sk-toggleable\"><input class=\"sk-toggleable__control sk-hidden--visually\" id=\"sk-estimator-id-10\" type=\"checkbox\" ><label for=\"sk-estimator-id-10\" class=\"sk-toggleable__label sk-toggleable__label-arrow\">estimator: CalibratedClassifierCV</label><div class=\"sk-toggleable__content\"><pre>CalibratedClassifierCV(base_estimator=LinearSVC(random_state=42))</pre></div></div></div><div class=\"sk-serial\"><div class=\"sk-item sk-dashed-wrapped\"><div class=\"sk-parallel\"><div class=\"sk-parallel-item\"><div class=\"sk-item\"><div class=\"sk-label-container\"><div class=\"sk-label sk-toggleable\"><input class=\"sk-toggleable__control sk-hidden--visually\" id=\"sk-estimator-id-11\" type=\"checkbox\" ><label for=\"sk-estimator-id-11\" class=\"sk-toggleable__label sk-toggleable__label-arrow\">base_estimator: LinearSVC</label><div class=\"sk-toggleable__content\"><pre>LinearSVC(random_state=42)</pre></div></div></div><div class=\"sk-serial\"><div class=\"sk-item\"><div class=\"sk-estimator sk-toggleable\"><input class=\"sk-toggleable__control sk-hidden--visually\" id=\"sk-estimator-id-12\" type=\"checkbox\" ><label for=\"sk-estimator-id-12\" class=\"sk-toggleable__label sk-toggleable__label-arrow\">LinearSVC</label><div class=\"sk-toggleable__content\"><pre>LinearSVC(random_state=42)</pre></div></div></div></div></div></div></div></div></div></div></div></div></div></div></div>"
      ],
      "text/plain": [
       "GridSearchCV(cv=5,\n",
       "             estimator=CalibratedClassifierCV(base_estimator=LinearSVC(random_state=42)),\n",
       "             n_jobs=2,\n",
       "             param_grid={'base_estimator__C': [0.001, 0.01, 0.1, 1.0, 10.0],\n",
       "                         'base_estimator__loss': ['hinge', 'squared_hinge'],\n",
       "                         'base_estimator__max_iter': [2000, 3000, 4000],\n",
       "                         'base_estimator__tol': [0.001, 0.0001, 1e-05],\n",
       "                         'method': ['sigmoid']},\n",
       "             scoring='roc_auc', verbose=1)"
      ]
     },
     "execution_count": 46,
     "metadata": {},
     "output_type": "execute_result"
    }
   ],
   "source": [
    "# Definindo o modelo base e seus hiperparâmetros\n",
    "base_model = LinearSVC(random_state=42)\n",
    "\n",
    "# Definindo o CalibratedClassifierCV e seus hiperparâmetros\n",
    "calibrated_model = CalibratedClassifierCV(base_estimator=base_model)\n",
    "\n",
    "# Definindo os hiperparâmetros para a busca\n",
    "param_grid = {\n",
    "    'base_estimator__C': [0.001, 0.01, 0.1, 1.0, 10.0],  \n",
    "    'base_estimator__loss': ['hinge', 'squared_hinge'],  \n",
    "    'base_estimator__max_iter': [2000, 3000, 4000],      \n",
    "    'base_estimator__tol': [1e-3, 1e-4, 1e-5],           \n",
    "    'method': ['sigmoid']                   \n",
    "}\n",
    "\n",
    "# Configurando o GridSearchCV\n",
    "grid_search = GridSearchCV(estimator=calibrated_model, param_grid=param_grid, scoring='roc_auc', cv=5, verbose=1, n_jobs=2)\n",
    "\n",
    "# Treinando o modelo com GridSearchCV\n",
    "grid_search.fit(X_train, y_train)"
   ]
  },
  {
   "cell_type": "code",
   "execution_count": 47,
   "metadata": {},
   "outputs": [
    {
     "name": "stdout",
     "output_type": "stream",
     "text": [
      "Melhores hiperparâmetros: {'base_estimator__C': 0.001, 'base_estimator__loss': 'squared_hinge', 'base_estimator__max_iter': 4000, 'base_estimator__tol': 0.001, 'method': 'sigmoid'}\n",
      "Acurácia do modelo com melhores hiperparâmetros: 0.8056737588652483\n",
      "              precision    recall  f1-score   support\n",
      "\n",
      "           0       0.83      0.92      0.87       511\n",
      "           1       0.70      0.51      0.59       194\n",
      "\n",
      "    accuracy                           0.81       705\n",
      "   macro avg       0.77      0.71      0.73       705\n",
      "weighted avg       0.80      0.81      0.80       705\n",
      "\n"
     ]
    }
   ],
   "source": [
    "# Obtendo os melhores hiperparâmetros\n",
    "best_params = grid_search.best_params_\n",
    "print(\"Melhores hiperparâmetros:\", best_params)\n",
    "\n",
    "# Treinando o modelo final com os melhores hiperparâmetros\n",
    "best_model = grid_search.best_estimator_\n",
    "\n",
    "# Fazendo previsões e avaliando o modelo\n",
    "y_pred = best_model.predict(X_test)\n",
    "accuracy = best_model.score(X_test, y_test)\n",
    "print(\"Acurácia do modelo com melhores hiperparâmetros:\", accuracy)\n",
    "print(classification_report(y_test, y_pred))"
   ]
  },
  {
   "cell_type": "markdown",
   "metadata": {},
   "source": [
    "## Novo ensemble"
   ]
  },
  {
   "cell_type": "code",
   "execution_count": 70,
   "metadata": {},
   "outputs": [],
   "source": [
    "# Modelos\n",
    "model_dict = {\n",
    "    'GaussianNB': GaussianNB(),\n",
    "    'XGBClassifier': xgb.XGBClassifier(objective='binary:logistic', random_state=42),\n",
    "    'LinearDiscriminantAnalysis': LinearDiscriminantAnalysis(),\n",
    "    'CalibratedClassifierCV': CalibratedClassifierCV(base_estimator=LinearSVC(random_state=42)),\n",
    "}\n",
    "\n",
    "from sklearn.ensemble import VotingClassifier\n",
    "\n",
    "# Definindo os pesos para o GridSearch\n",
    "weights = np.arange(1, 2.6, 0.1)\n",
    "\n",
    "# Criando o ensemble com placeholders para os pesos\n",
    "ensemble_model = VotingClassifier(estimators=list(model_dict.items()), voting='soft')\n",
    "\n",
    "# Definindo o parâmetro para o GridSearch\n",
    "param_grid = {\n",
    "    'weights': [\n",
    "        [w1, w2, w3, w4] \n",
    "        for w1 in weights \n",
    "        for w2 in weights \n",
    "        for w3 in weights \n",
    "        for w4 in weights\n",
    "    ]\n",
    "}\n",
    "\n",
    "# Configurando o GridSearchCV\n",
    "grid_search = GridSearchCV(estimator=ensemble_model, param_grid=param_grid, cv=5, scoring='accuracy', n_jobs=-1)\n",
    "\n",
    "# Executando o GridSearch\n",
    "grid_search.fit(X_train, y_train)\n",
    "\n",
    "# Melhor conjunto de pesos\n",
    "best_weights = grid_search.best_params_['weights']\n",
    "print(\"Best weights:\", best_weights)\n",
    "\n",
    "# Melhor acurácia\n",
    "best_accuracy = grid_search.best_score_\n",
    "print(\"Best accuracy:\", best_accuracy)\n",
    "\n",
    "# Treinando o ensemble com os melhores pesos\n",
    "ensemble_model.set_params(weights=best_weights)\n",
    "ensemble_model.fit(X_train, y_train)\n",
    "\n",
    "# Avaliando o ensemble\n",
    "accuracy = ensemble_model.score(X_test, y_test)\n",
    "print(\"Ensemble accuracy:\", accuracy)\n",
    "\n",
    "# Classification report\n",
    "predictions = ensemble_model.predict(X_test)\n",
    "print(classification_report(y_test, predictions))"
   ]
  },
  {
   "cell_type": "code",
   "execution_count": null,
   "metadata": {},
   "outputs": [],
   "source": []
  },
  {
   "cell_type": "code",
   "execution_count": null,
   "metadata": {},
   "outputs": [],
   "source": []
  }
 ],
 "metadata": {
  "kernelspec": {
   "display_name": "Python 3",
   "language": "python",
   "name": "python3"
  },
  "language_info": {
   "codemirror_mode": {
    "name": "ipython",
    "version": 3
   },
   "file_extension": ".py",
   "mimetype": "text/x-python",
   "name": "python",
   "nbconvert_exporter": "python",
   "pygments_lexer": "ipython3",
   "version": "3.10.5"
  }
 },
 "nbformat": 4,
 "nbformat_minor": 2
}
